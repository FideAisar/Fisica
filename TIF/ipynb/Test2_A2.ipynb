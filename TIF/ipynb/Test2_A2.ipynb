{
 "cells": [
  {
   "cell_type": "markdown",
   "metadata": {},
   "source": [
    "__Finiti gli esercizi, oppure il tempo a disposizione, salvate il notebook usando:__<BR>\n",
    "```\n",
    "File --> Save Notebook as\n",
    "```\n",
    "__usando il vostro cognome_nome come nome del file. Spedite il notebook, usando il vostro mailer preferito, a maina@to.infn.it, CON IL FILE IN ALLEGATO.__\n",
    "    \n",
    "Per determinare la cartella in cui il file viene salvato usate il comando `%pwd` in una cella a parte."
   ]
  },
  {
   "cell_type": "markdown",
   "metadata": {},
   "source": [
    "### Esercizio 1\n",
    "__Scrivete una funzione `even_odd_index(nt)` che, dato in input una ntupla `nt`, restituisca l'ntupla degli elementi di indice pari di `nt` e l'ntupla degli elementi di indice dispari.__<BR>\n",
    "__Testate la vostra funzione con (1,77.3,'pluto','Pippo',0.1,(3,4))__"
   ]
  },
  {
   "cell_type": "code",
   "execution_count": 13,
   "metadata": {
    "tags": []
   },
   "outputs": [
    {
     "data": {
      "text/plain": [
       "([1, 'pluto', 0.1], [77.3, 'Pippo', (3, 4)])"
      ]
     },
     "execution_count": 13,
     "metadata": {},
     "output_type": "execute_result"
    }
   ],
   "source": [
    "def even_odd_index(nt):\n",
    "    even = []\n",
    "    odd = []\n",
    "    for i in range(len(nt)):\n",
    "        if i%2 == 0:\n",
    "            even.append(nt[i])\n",
    "        else:\n",
    "            odd.append(nt[i])\n",
    "    return even,odd\n",
    "even_odd_index((1,77.3,'pluto','Pippo',0.1,(3,4)))"
   ]
  },
  {
   "cell_type": "code",
   "execution_count": null,
   "metadata": {},
   "outputs": [],
   "source": []
  },
  {
   "cell_type": "markdown",
   "metadata": {
    "tags": []
   },
   "source": [
    "### Esercizio 2\n",
    "__Scrivete una funzione `myselect(L)` che accetti una lista `L` e che restituisca la sottolista degli elementi che precedono, se è presente, l'elemento \"Fine\". Se \"Fine\" non è presente la funzione deve restituire tutta la lista `L`. Utilizzate un ciclo `while`.__\n",
    "\n",
    "__Testate la funzione su: ['Spero',3.14, 'stiate', 'tutti bene', 3+2j, 'Un bacio', 2/7, 'Fine','a zia Alice'].__"
   ]
  },
  {
   "cell_type": "code",
   "execution_count": 23,
   "metadata": {
    "tags": []
   },
   "outputs": [
    {
     "data": {
      "text/plain": [
       "['Spero', 3.14, 'stiate', 'tutti bene', (3+2j), 'Un bacio', 0.2857142857142857]"
      ]
     },
     "execution_count": 23,
     "metadata": {},
     "output_type": "execute_result"
    }
   ],
   "source": [
    "def myselect(L):\n",
    "    lista = []\n",
    "    a = L.index(\"Fine\")\n",
    "    i = 0\n",
    "    while i < a:\n",
    "        lista.append(L[i])\n",
    "        i += 1\n",
    "    return lista\n",
    "myselect(['Spero',3.14, 'stiate', 'tutti bene', 3+2j, 'Un bacio', 2/7, 'Fine','a zia Alice'])"
   ]
  },
  {
   "cell_type": "markdown",
   "metadata": {
    "tags": []
   },
   "source": [
    "### Esercizio 3\n",
    "__Scrivete una funzione `mydoublekey(D)` che accetti un dizionario `D` le cui chiavi siano numeri reali.\n",
    "`mydoublekey(D)` deve restituire `D` dopo aver moltiplicato per due tutte le chiavi.__\n",
    "\n",
    "__Testate la funzione su: { 2.3: \"a\", 77.:2022, 0.02:('r','s')  }.__"
   ]
  },
  {
   "cell_type": "code",
   "execution_count": 56,
   "metadata": {
    "tags": []
   },
   "outputs": [
    {
     "data": {
      "text/plain": [
       "{4.6: 'a', 154.0: 2022, 0.04: ('r', 's')}"
      ]
     },
     "execution_count": 56,
     "metadata": {},
     "output_type": "execute_result"
    }
   ],
   "source": [
    "def mydoublekey(D):\n",
    "    for i in D:\n",
    "        if type(i) == float:\n",
    "            D[i*2] = D.pop(i)\n",
    "        else:\n",
    "            print(\"keys are not all real numbers\")\n",
    "    return D\n",
    "mydoublekey({ 2.3: \"a\", 77.:2022, 0.02:('r','s') })"
   ]
  },
  {
   "cell_type": "markdown",
   "metadata": {
    "tags": []
   },
   "source": [
    "### Esercizio 4\n",
    "__Scrivete una funzione `mysave(D)` che accetti un dizionario `D` e che scriva, una per riga, nel file `dizionario.txt` le coppie chiave - valore in `D`.  `mysave` deve chiudere il file prima di ritornare la stringa \"fatto\".\n",
    "Usate le f-strings per incolonnare chiavi e valori.__<BR>\n",
    "__Per esempio `mysave( {3.1: \"<class 'float'>\", \"a\": \"<class 'str'>\"} )` deve scrivere:__ \n",
    "```bash\n",
    "      3.1       <class 'float'>  \n",
    "        a       <class 'str'>\n",
    "```\n",
    "\n",
    "__Testate la funzione su: {1: 'pippo', 2: 'a', 117: 'Planck'}.__"
   ]
  },
  {
   "cell_type": "code",
   "execution_count": 14,
   "metadata": {
    "tags": []
   },
   "outputs": [
    {
     "data": {
      "text/plain": [
       "'fatto'"
      ]
     },
     "execution_count": 14,
     "metadata": {},
     "output_type": "execute_result"
    }
   ],
   "source": [
    "def mysave(D):\n",
    "    with open(\"dizionario.txt\",\"w\") as dic:\n",
    "        keys = [i for i in D]\n",
    "        values = list(D.values())\n",
    "        for i in range(len(keys)):\n",
    "            dic.write(f\"{str(keys[i]):<8s} {str(values[i]):<8s}\\n\")     \n",
    "    return \"fatto\"\n",
    "mysave({1: 'pippo', 2: 'a', 117: 'Planck'})"
   ]
  },
  {
   "cell_type": "code",
   "execution_count": null,
   "metadata": {},
   "outputs": [],
   "source": []
  }
 ],
 "metadata": {
  "kernelspec": {
   "display_name": "Python 3 (ipykernel)",
   "language": "python",
   "name": "python3"
  },
  "language_info": {
   "codemirror_mode": {
    "name": "ipython",
    "version": 3
   },
   "file_extension": ".py",
   "mimetype": "text/x-python",
   "name": "python",
   "nbconvert_exporter": "python",
   "pygments_lexer": "ipython3",
   "version": "3.11.5"
  }
 },
 "nbformat": 4,
 "nbformat_minor": 4
}

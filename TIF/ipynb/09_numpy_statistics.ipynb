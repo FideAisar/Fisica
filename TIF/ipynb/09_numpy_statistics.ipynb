{
 "cells": [
  {
   "cell_type": "markdown",
   "metadata": {},
   "source": [
    "<H1 style=\"font-size:50px\">9: Statistica Elementare con Numpy e Matplotlib</H1>\n",
    "\n",
    "<div style = \"width:95%; padding:5px 10px 5px;  margin:50px 0px 10px 10px; font-size:18px\">\n",
    "<UL>\n",
    "    <LI> Le funzioni statistiche fondamentali in Numpy\n",
    "    <LI> Come disegnare l'istogramma delle frequenze\n",
    "    <LI> Come e perchè generare numeri casuali secondo una distribuzione data\n",
    "</UL>\n",
    "</div>\n",
    "\n",
    "<hr>\n",
    "\n",
    "        \n",
    "## 9.1 Nozioni fondamentali\n",
    "La statistica ha un ruolo fondamentale in Fisica e in ogni campo scientifico a base sperimentale. Numpy fornisce tutti i metodi necessari per la manipolazione statistica dei dati. Affrontiamo questo argomento dopo aver introdotto Matplotlib perchè\n",
    "la rappresentazione grafica dei dati è uno strumento estremamente utile.\n",
    "\n",
    "<div style= 'padding:20px 20px 0px 150px;'>\n",
    "    <img src=\"../Humour/extrapolating1.png\" width=\"500\" align=\"center\"/>\n",
    "</div>"
   ]
  },
  {
   "cell_type": "code",
   "execution_count": 2,
   "metadata": {
    "tags": []
   },
   "outputs": [],
   "source": [
    "import numpy as np\n",
    "import matplotlib.pyplot as plt"
   ]
  },
  {
   "cell_type": "markdown",
   "metadata": {},
   "source": [
    "Dati in un array numpy."
   ]
  },
  {
   "cell_type": "code",
   "execution_count": 3,
   "metadata": {
    "tags": []
   },
   "outputs": [],
   "source": [
    "dati = np.array([1.95,1.96,1.9,1.9,1.84,1.81,2.06,1.99,1.93,1.97,2.02,1.92,1.95,1.88,1.87,2.03,1.85,2.08,1.96,1.81,\n",
    "                2.07,1.91,1.79,1.99,1.97,1.95,1.96,1.93,1.83,2.09,2.02,2.09,1.84,1.86,1.96,2.03,1.93,1.9,1.94,1.87,\n",
    "                1.97,1.91,1.87,1.81,2.06,2.02,1.96,1.81,1.93,2.03,1.92,1.96,1.8,1.95,1.9,2.02,2.03,1.9,2.03,2.02,\n",
    "                1.96,1.9,1.98,1.87,1.9,1.89,1.84,2.06,1.93,2.06,1.93,1.93,1.9,1.9,1.9,1.93,1.86,1.83,1.96,1.81,2.03,\n",
    "                1.98,1.84,1.86,1.96,1.81,1.98,1.84,1.86,1.96,1.92,1.96,1.85,2.04,2,1.92,1.9,2.15,1.94,1.92])"
   ]
  },
  {
   "cell_type": "code",
   "execution_count": 9,
   "metadata": {
    "tags": []
   },
   "outputs": [
    {
     "data": {
      "text/plain": [
       "100"
      ]
     },
     "execution_count": 9,
     "metadata": {},
     "output_type": "execute_result"
    }
   ],
   "source": [
    "num_elementi = dati.size\n",
    "num_elementi"
   ]
  },
  {
   "cell_type": "markdown",
   "metadata": {},
   "source": [
    "Dati al quadrato"
   ]
  },
  {
   "cell_type": "code",
   "execution_count": 9,
   "metadata": {
    "tags": []
   },
   "outputs": [],
   "source": [
    "dati_sq = dati*dati"
   ]
  },
  {
   "cell_type": "markdown",
   "metadata": {},
   "source": [
    "Il valor medio o media di un insieme di dati $x = [x_1,\\cdots,x_n]$ è\n",
    "$$ <x> = \\frac{\\sum_{i=1}^n x_i}{n} $$\n",
    "Media utilizzando solo la funzione sum"
   ]
  },
  {
   "cell_type": "code",
   "execution_count": 10,
   "metadata": {
    "tags": []
   },
   "outputs": [
    {
     "data": {
      "text/plain": [
       "1.9357"
      ]
     },
     "execution_count": 10,
     "metadata": {},
     "output_type": "execute_result"
    }
   ],
   "source": [
    "media1 = dati.sum()/num_elementi\n",
    "media1"
   ]
  },
  {
   "cell_type": "markdown",
   "metadata": {},
   "source": [
    "Media utilizzando la funzione mean di numpy"
   ]
  },
  {
   "cell_type": "code",
   "execution_count": 7,
   "metadata": {
    "tags": []
   },
   "outputs": [
    {
     "data": {
      "text/plain": [
       "1.9357"
      ]
     },
     "execution_count": 7,
     "metadata": {},
     "output_type": "execute_result"
    }
   ],
   "source": [
    "media2 = dati.mean()\n",
    "media2"
   ]
  },
  {
   "cell_type": "markdown",
   "metadata": {},
   "source": [
    "La varianza di un insieme di dati $x = [x_1,\\cdots,x_n]$ è\n",
    "$$ \\sigma^2  = \\,\\, <(x - <x>)^2> \\,\\, = \\frac{\\sum_{i=1}^n (x_i-<x>)^2}{n} = \\,\\,<x^2> -<x>^2$$\n",
    "Varianza calcolata espicitamente"
   ]
  },
  {
   "cell_type": "code",
   "execution_count": 12,
   "metadata": {
    "tags": []
   },
   "outputs": [
    {
     "data": {
      "text/plain": [
       "0.006002510000000254"
      ]
     },
     "execution_count": 12,
     "metadata": {},
     "output_type": "execute_result"
    }
   ],
   "source": [
    "varianza1 = (dati_sq - 2.*media1*dati + media1*media1).sum()/num_elementi # Notice array + const*array + const\n",
    "varianza1"
   ]
  },
  {
   "cell_type": "markdown",
   "metadata": {},
   "source": [
    "Varianza calcolata usando la funzione var di numpy."
   ]
  },
  {
   "cell_type": "code",
   "execution_count": 13,
   "metadata": {
    "tags": []
   },
   "outputs": [
    {
     "data": {
      "text/plain": [
       "0.006002509999999994"
      ]
     },
     "execution_count": 13,
     "metadata": {},
     "output_type": "execute_result"
    }
   ],
   "source": [
    "varianza2 = dati.var()\n",
    "varianza2"
   ]
  },
  {
   "cell_type": "markdown",
   "metadata": {},
   "source": [
    "Deviazione standard, $\\sigma = \\sqrt{\\sigma^2}$, calcolata dalla varianza e usando la funzione std di numpy"
   ]
  },
  {
   "cell_type": "code",
   "execution_count": 14,
   "metadata": {
    "tags": []
   },
   "outputs": [
    {
     "data": {
      "text/plain": [
       "0.07747586721037715"
      ]
     },
     "execution_count": 14,
     "metadata": {},
     "output_type": "execute_result"
    }
   ],
   "source": [
    "deviazione_std1 = np.sqrt(varianza2)\n",
    "deviazione_std1"
   ]
  },
  {
   "cell_type": "code",
   "execution_count": 5,
   "metadata": {
    "tags": []
   },
   "outputs": [
    {
     "data": {
      "text/plain": [
       "0.07747586721037715"
      ]
     },
     "execution_count": 5,
     "metadata": {},
     "output_type": "execute_result"
    }
   ],
   "source": [
    "deviazione_std2 = dati.std()\n",
    "deviazione_std2"
   ]
  },
  {
   "cell_type": "markdown",
   "metadata": {},
   "source": [
    "Talvolta è utile estrarre i dati a meno di un numero dato di deviazioni standard dal valor medio, oppure quelli che distano più\n",
    "di un numero dato di deviazioni standard dal valor medio. Nell'esempio selezioniamo i dati all'interno di una deviazione standard:"
   ]
  },
  {
   "cell_type": "code",
   "execution_count": 15,
   "metadata": {
    "tags": []
   },
   "outputs": [],
   "source": [
    "dati1 = np.array([n for n in dati if np.absolute(n - media1) < deviazione_std1])"
   ]
  },
  {
   "cell_type": "code",
   "execution_count": 16,
   "metadata": {
    "tags": []
   },
   "outputs": [
    {
     "data": {
      "text/plain": [
       "62"
      ]
     },
     "execution_count": 16,
     "metadata": {},
     "output_type": "execute_result"
    }
   ],
   "source": [
    "dati1.size"
   ]
  },
  {
   "cell_type": "markdown",
   "metadata": {},
   "source": [
    "<div style = \"width:95%; padding:5px 10px 5px; border-style:solid; border-width:0px 0px 0px 10px; border-color:#b8d0d0; margin:20px 0px 10px 10px\">\n",
    "    <h4> Imparare Facendo</h4>\n",
    "    \n",
    "Dato l'array\n",
    "<code>\n",
    "my_arr = np.array([3.04645601, 2.97244915, 3.11895648, 2.23631771, 2.83300643,\n",
    "       2.05404508, 2.75985706, 2.26921367, 1.37480605, 2.02558085,\n",
    "       2.03489553, 2.9879711 , 1.96904577, 2.26633488, 2.25061096,\n",
    "       2.19332838, 2.01392679, 3.11555729, 1.86606049, 3.05021054,\n",
    "       3.03353987, 2.31818007, 2.79232123, 3.33861491, 3.28415856,\n",
    "       1.99223361, 2.84573136, 1.79728384, 3.02507785, 1.66469195,\n",
    "       1.9154713 , 2.43314196, 1.86340421, 1.90131182, 2.09963155,\n",
    "       2.12451288, 1.77265763, 1.81662815, 2.0122717 , 2.82934715,\n",
    "       1.72616883, 2.86297194, 2.9404613 , 2.96369557, 1.8376963 ,\n",
    "       1.81889892, 2.08233386, 1.86941276, 1.83248482, 3.12861456,\n",
    "       1.54804543, 2.89724744, 2.97500892, 2.28660094, 3.51159172,\n",
    "       1.64804177, 2.9250396 , 2.98698285, 2.17577323, 2.43331005,\n",
    "       2.03573614, 2.96237528, 3.14320927, 2.13393559, 2.55083613,\n",
    "       1.72551903, 1.56344938, 3.31847721, 3.19368425, 2.81418586,\n",
    "       2.79420806, 2.88605616, 2.08231959, 1.68927766, 1.89277468,\n",
    "       2.03634711, 3.01241034, 1.95824444, 1.84229893, 1.79093756,\n",
    "       2.16777509, 1.91055935, 2.16076815, 1.99936357, 2.42660732,\n",
    "       2.09021026, 3.25206981, 2.55240002, 2.83482414, 2.0150959 ,\n",
    "       3.31566771, 3.58996448, 2.58405186, 2.74445492, 2.80650089,\n",
    "       1.25237511, 2.04484102, 1.95878434, 1.99383903, 1.63776293,\n",
    "       3.08590679, 3.42000501, 1.69301131, 1.45661319, 2.75442641,\n",
    "       3.01573607, 2.64220989, 2.37487723, 1.83034393, 1.74794294,\n",
    "       1.92414741, 2.91175392, 3.25243102, 2.91543309, 3.22180813,\n",
    "       1.89410574, 1.83451938, 1.60409685, 3.24371334, 2.04293352,\n",
    "       2.89538543, 2.05009924, 2.20696778, 2.05073664, 1.83387137,\n",
    "       2.07646022, 3.34614149, 3.30588549, 3.25491247, 1.55441846,\n",
    "       2.19207954, 2.11273179, 2.92539792, 3.19288315, 1.2374957 ,\n",
    "       2.17409141, 1.76835303, 2.12725474, 2.91318578, 2.96264334,\n",
    "       2.18750678, 1.96060764, 3.41421698, 2.78839075, 1.56933989,\n",
    "       1.64822396, 1.8383093 , 1.49851104, 3.03809049, 2.84892792,\n",
    "       1.6809436 , 3.12957714, 3.01568747, 1.87809285, 1.71435392,\n",
    "       1.83658257, 1.94510093, 3.04703205, 2.97698006, 1.99492519,\n",
    "       3.07521061, 1.96260647, 2.91868837, 1.94448569, 2.96816534,\n",
    "       2.90343856, 2.33124355, 1.88310601, 1.93171459, 2.54151343])\n",
    "</code>\n",
    "calcolate media e standard deviation.\n",
    "</div>"
   ]
  },
  {
   "cell_type": "code",
   "execution_count": 25,
   "metadata": {
    "tags": []
   },
   "outputs": [
    {
     "name": "stdout",
     "output_type": "stream",
     "text": [
      "2.3884235559411766 0.580627535131906\n"
     ]
    }
   ],
   "source": [
    "my_arr = np.array([3.04645601, 2.97244915, 3.11895648, 2.23631771, 2.83300643,\n",
    "       2.05404508, 2.75985706, 2.26921367, 1.37480605, 2.02558085,\n",
    "       2.03489553, 2.9879711 , 1.96904577, 2.26633488, 2.25061096,\n",
    "       2.19332838, 2.01392679, 3.11555729, 1.86606049, 3.05021054,\n",
    "       3.03353987, 2.31818007, 2.79232123, 3.33861491, 3.28415856,\n",
    "       1.99223361, 2.84573136, 1.79728384, 3.02507785, 1.66469195,\n",
    "       1.9154713 , 2.43314196, 1.86340421, 1.90131182, 2.09963155,\n",
    "       2.12451288, 1.77265763, 1.81662815, 2.0122717 , 2.82934715,\n",
    "       1.72616883, 2.86297194, 2.9404613 , 2.96369557, 1.8376963 ,\n",
    "       1.81889892, 2.08233386, 1.86941276, 1.83248482, 3.12861456,\n",
    "       1.54804543, 2.89724744, 2.97500892, 2.28660094, 3.51159172,\n",
    "       1.64804177, 2.9250396 , 2.98698285, 2.17577323, 2.43331005,\n",
    "       2.03573614, 2.96237528, 3.14320927, 2.13393559, 2.55083613,\n",
    "       1.72551903, 1.56344938, 3.31847721, 3.19368425, 2.81418586,\n",
    "       2.79420806, 2.88605616, 2.08231959, 1.68927766, 1.89277468,\n",
    "       2.03634711, 3.01241034, 1.95824444, 1.84229893, 1.79093756,\n",
    "       2.16777509, 1.91055935, 2.16076815, 1.99936357, 2.42660732,\n",
    "       2.09021026, 3.25206981, 2.55240002, 2.83482414, 2.0150959 ,\n",
    "       3.31566771, 3.58996448, 2.58405186, 2.74445492, 2.80650089,\n",
    "       1.25237511, 2.04484102, 1.95878434, 1.99383903, 1.63776293,\n",
    "       3.08590679, 3.42000501, 1.69301131, 1.45661319, 2.75442641,\n",
    "       3.01573607, 2.64220989, 2.37487723, 1.83034393, 1.74794294,\n",
    "       1.92414741, 2.91175392, 3.25243102, 2.91543309, 3.22180813,\n",
    "       1.89410574, 1.83451938, 1.60409685, 3.24371334, 2.04293352,\n",
    "       2.89538543, 2.05009924, 2.20696778, 2.05073664, 1.83387137,\n",
    "       2.07646022, 3.34614149, 3.30588549, 3.25491247, 1.55441846,\n",
    "       2.19207954, 2.11273179, 2.92539792, 3.19288315, 1.2374957 ,\n",
    "       2.17409141, 1.76835303, 2.12725474, 2.91318578, 2.96264334,\n",
    "       2.18750678, 1.96060764, 3.41421698, 2.78839075, 1.56933989,\n",
    "       1.64822396, 1.8383093 , 1.49851104, 3.03809049, 2.84892792,\n",
    "       1.6809436 , 3.12957714, 3.01568747, 1.87809285, 1.71435392,\n",
    "       1.83658257, 1.94510093, 3.04703205, 2.97698006, 1.99492519,\n",
    "       3.07521061, 1.96260647, 2.91868837, 1.94448569, 2.96816534,\n",
    "       2.90343856, 2.33124355, 1.88310601, 1.93171459, 2.54151343])\n",
    "\n",
    "data = my_arr\n",
    "media = np.mean(data)\n",
    "stv = data.std()\n",
    "print(media,stv)"
   ]
  },
  {
   "cell_type": "markdown",
   "metadata": {},
   "source": [
    "## 9.2 Istogramma delle frequenze\n",
    "\n",
    "L'istogramma delle frequenze è sovente il modo migliore per un primo esame dei dati"
   ]
  },
  {
   "cell_type": "code",
   "execution_count": 19,
   "metadata": {
    "tags": []
   },
   "outputs": [
    {
     "data": {
      "text/plain": [
       "1.79"
      ]
     },
     "execution_count": 19,
     "metadata": {},
     "output_type": "execute_result"
    }
   ],
   "source": [
    "min = dati.min()\n",
    "min"
   ]
  },
  {
   "cell_type": "code",
   "execution_count": 25,
   "metadata": {
    "tags": []
   },
   "outputs": [
    {
     "data": {
      "text/plain": [
       "2.15"
      ]
     },
     "execution_count": 25,
     "metadata": {},
     "output_type": "execute_result"
    }
   ],
   "source": [
    "max = dati.max()\n",
    "max"
   ]
  },
  {
   "cell_type": "markdown",
   "metadata": {},
   "source": [
    "La conoscenza del minimo e del massimo valore dei dati è utile per determinare il `range` dei bin. Il numero di bin deve essere adattato di volta in volta per aiutare l'analisi."
   ]
  },
  {
   "cell_type": "code",
   "execution_count": 18,
   "metadata": {
    "tags": []
   },
   "outputs": [],
   "source": [
    "nbins = 10\n",
    "xrange = (1.75,2.20)"
   ]
  },
  {
   "cell_type": "markdown",
   "metadata": {},
   "source": [
    "Nell'esempio seguente vengono inserite tre linee verticali per segnalare il valor medio e i valori della variabile a più e meno una deviazione standard dal valor medio. "
   ]
  },
  {
   "cell_type": "code",
   "execution_count": 20,
   "metadata": {
    "tags": []
   },
   "outputs": [
    {
     "data": {
      "image/png": "[encoded data removed]",
      "text/plain": [
       "<Figure size 640x480 with 1 Axes>"
      ]
     },
     "metadata": {},
     "output_type": "display_data"
    }
   ],
   "source": [
    "fig, ax = plt.subplots()\n",
    "nevent, bins, patches = ax.hist(dati, nbins, range=xrange)\n",
    "ax.plot(np.ones(2)*media2,[0,nevent.max()+1],label=\"media\")\n",
    "ax.plot(np.ones(2)*media2-deviazione_std2,[0,nevent.max()+1],label=\"media - $\\sigma$\")\n",
    "ax.plot(np.ones(2)*media2+deviazione_std2,[0,nevent.max()+1],label=\"media + $\\sigma$\")\n",
    "ax.legend();"
   ]
  },
  {
   "cell_type": "code",
   "execution_count": 35,
   "metadata": {
    "tags": []
   },
   "outputs": [
    {
     "data": {
      "text/plain": [
       "array([ 0.,  0.,  0.,  0.,  0.,  0.,  0.,  0.,  0.,  0.,  0.,  0.,  0.,\n",
       "        0.,  0.,  0.,  0.,  0.,  0.,  0.,  0.,  0.,  0.,  0.,  0.,  0.,\n",
       "        0.,  0.,  0.,  0.,  0.,  0.,  0.,  0.,  0.,  0.,  0.,  0.,  0.,\n",
       "        0.,  0.,  0.,  0.,  0.,  0.,  0.,  0.,  0.,  0.,  0.,  0.,  0.,\n",
       "        0.,  0.,  0.,  0.,  0.,  0.,  0.,  0.,  0.,  0.,  0.,  0.,  0.,\n",
       "        0.,  0.,  0.,  0.,  0.,  0.,  0.,  0.,  0.,  0.,  0.,  0.,  0.,\n",
       "        0.,  0.,  0.,  0.,  0.,  0.,  0.,  0.,  0.,  0.,  0.,  0.,  0.,\n",
       "        0.,  0.,  0.,  0.,  0.,  0.,  0.,  0.,  0.,  0.,  0.,  0.,  0.,\n",
       "        0.,  0.,  0.,  0.,  0.,  0.,  0.,  0.,  0.,  0.,  0.,  0.,  0.,\n",
       "        0.,  0.,  0.,  0.,  0.,  0.,  0.,  0.,  0.,  0.,  0.,  0.,  0.,\n",
       "        0.,  0.,  0.,  0.,  0.,  0.,  0.,  0.,  0.,  0.,  0.,  0.,  0.,\n",
       "        0.,  0.,  0.,  0.,  0.,  0.,  0.,  0.,  0.,  0.,  0.,  0.,  0.,\n",
       "        0.,  0.,  0.,  0.,  0.,  0.,  0.,  0.,  0.,  0.,  0.,  0.,  0.,\n",
       "        0.,  0.,  0.,  0.,  0.,  0.,  0.,  0.,  0.,  0.,  0.,  0.,  0.,\n",
       "        0.,  0.,  0.,  0.,  0.,  0.,  0.,  0.,  0.,  0.,  0.,  0.,  0.,\n",
       "        0.,  0.,  0.,  0.,  0.,  0.,  0.,  0.,  0.,  0.,  0.,  0.,  0.,\n",
       "        0.,  0.,  0.,  0.,  0.,  0.,  0.,  0.,  0.,  0.,  0.,  0.,  0.,\n",
       "        0.,  0.,  0.,  0.,  0.,  0.,  0.,  0.,  0.,  0.,  0.,  0.,  0.,\n",
       "        1.,  0.,  0.,  0.,  0.,  1.,  0.,  0.,  0.,  6.,  0.,  0.,  0.,\n",
       "        0.,  0.,  0.,  0.,  2.,  0.,  0.,  0.,  0.,  5.,  0.,  0.,  0.,\n",
       "        2.,  0.,  0.,  0.,  4.,  0.,  0.,  0.,  4.,  0.,  0.,  0.,  0.,\n",
       "        1.,  0.,  0.,  0.,  1.,  0.,  0.,  0., 11.,  0.,  0.,  0.,  2.,\n",
       "        0.,  0.,  0.,  0.,  5.,  0.,  0.,  0.,  8.,  0.,  0.,  0.,  2.,\n",
       "        0.,  0.,  0.,  4.,  0.,  0.,  0.,  0., 11.,  0.,  0.,  0.,  3.,\n",
       "        0.,  0.,  0.,  3.,  0.,  0.,  0.,  2.,  0.,  0.,  0.,  0.,  1.,\n",
       "        0.,  0.,  0.,  0.,  0.,  0.,  0.,  5.,  0.,  0.,  0.,  6.,  0.,\n",
       "        0.,  0.,  0.,  1.,  0.,  0.,  0.,  0.,  0.,  0.,  0.,  4.,  0.,\n",
       "        0.,  0.,  1.,  0.,  0.,  0.,  0.,  1.,  0.,  0.,  0.,  2.,  0.,\n",
       "        0.,  0.,  0.,  0.,  0.,  0.,  0.,  0.,  0.,  0.,  0.,  0.,  0.,\n",
       "        0.,  0.,  0.,  0.,  0.,  0.,  0.,  0.,  0.,  0.,  1.,  0.,  0.,\n",
       "        0.,  0.,  0.,  0.,  0.,  0.,  0.,  0.,  0.,  0.,  0.,  0.,  0.,\n",
       "        0.,  0.,  0.,  0.,  0.,  0.,  0.,  0.,  0.,  0.,  0.,  0.,  0.,\n",
       "        0.,  0.,  0.,  0.,  0.,  0.,  0.,  0.,  0.,  0.,  0.,  0.,  0.,\n",
       "        0.,  0.,  0.,  0.,  0.,  0.,  0.,  0.,  0.,  0.,  0.,  0.,  0.,\n",
       "        0.,  0.,  0.,  0.,  0.,  0.,  0.,  0.,  0.,  0.,  0.,  0.,  0.,\n",
       "        0.,  0.,  0.,  0.,  0.,  0.,  0.,  0.,  0.,  0.,  0.,  0.,  0.,\n",
       "        0.,  0.,  0.,  0.,  0.,  0.,  0.,  0.,  0.,  0.,  0.,  0.,  0.,\n",
       "        0.,  0.,  0.,  0.,  0.,  0.,  0.,  0.,  0.,  0.,  0.,  0.,  0.,\n",
       "        0.,  0.,  0.,  0.,  0.,  0.,  0.,  0.,  0.,  0.,  0.,  0.,  0.,\n",
       "        0.,  0.,  0.,  0.,  0.,  0.,  0.,  0.,  0.,  0.,  0.,  0.,  0.,\n",
       "        0.,  0.,  0.,  0.,  0.,  0.,  0.,  0.,  0.,  0.,  0.,  0.,  0.,\n",
       "        0.,  0.,  0.,  0.,  0.,  0.,  0.,  0.,  0.,  0.,  0.,  0.,  0.,\n",
       "        0.,  0.,  0.,  0.,  0.,  0.,  0.,  0.,  0.,  0.,  0.,  0.,  0.,\n",
       "        0.,  0.,  0.,  0.,  0.,  0.,  0.,  0.,  0.,  0.,  0.,  0.,  0.,\n",
       "        0.,  0.,  0.,  0.,  0.,  0.,  0.,  0.,  0.,  0.,  0.,  0.,  0.,\n",
       "        0.,  0.,  0.,  0.,  0.,  0.,  0.,  0.,  0.,  0.,  0.,  0.,  0.,\n",
       "        0.,  0.,  0.,  0.,  0.,  0.,  0.,  0.,  0.,  0.,  0.,  0.,  0.,\n",
       "        0.,  0.,  0.,  0.,  0.,  0.,  0.,  0.,  0.,  0.,  0.,  0.,  0.,\n",
       "        0.,  0.,  0.,  0.,  0.,  0.,  0.,  0.,  0.,  0.,  0.,  0.,  0.,\n",
       "        0.,  0.,  0.,  0.,  0.,  0.,  0.,  0.,  0.,  0.,  0.,  0.,  0.,\n",
       "        0.,  0.,  0.,  0.,  0.,  0.,  0.,  0.,  0.,  0.,  0.,  0.,  0.,\n",
       "        0.,  0.,  0.,  0.,  0.,  0.,  0.,  0.,  0.,  0.,  0.,  0.,  0.,\n",
       "        0.,  0.,  0.,  0.,  0.,  0.,  0.,  0.,  0.,  0.,  0.,  0.,  0.,\n",
       "        0.,  0.,  0.,  0.,  0.,  0.,  0.,  0.,  0.,  0.,  0.,  0.,  0.,\n",
       "        0.,  0.,  0.,  0.,  0.,  0.,  0.,  0.,  0.,  0.,  0.,  0.,  0.,\n",
       "        0.,  0.,  0.,  0.,  0.,  0.,  0.,  0.,  0.,  0.,  0.,  0.,  0.,\n",
       "        0.,  0.,  0.,  0.,  0.,  0.,  0.,  0.,  0.,  0.,  0.,  0.,  0.,\n",
       "        0.,  0.,  0.,  0.,  0.,  0.,  0.,  0.,  0.,  0.,  0.,  0.,  0.,\n",
       "        0.,  0.,  0.,  0.,  0.,  0.,  0.,  0.,  0.,  0.,  0.,  0.,  0.,\n",
       "        0.,  0.,  0.,  0.,  0.,  0.,  0.,  0.,  0.,  0.,  0.,  0.,  0.,\n",
       "        0.,  0.,  0.,  0.,  0.,  0.,  0.,  0.,  0.,  0.,  0.,  0.,  0.,\n",
       "        0.,  0.,  0.,  0.,  0.,  0.,  0.,  0.,  0.,  0.,  0.,  0.,  0.,\n",
       "        0.,  0.,  0.,  0.,  0.,  0.,  0.,  0.,  0.,  0.,  0.,  0.,  0.,\n",
       "        0.,  0.,  0.,  0.,  0.,  0.,  0.,  0.,  0.,  0.,  0.,  0.,  0.,\n",
       "        0.,  0.,  0.,  0.,  0.,  0.,  0.,  0.,  0.,  0.,  0.,  0.,  0.,\n",
       "        0.,  0.,  0.,  0.,  0.,  0.,  0.,  0.,  0.,  0.,  0.,  0.,  0.,\n",
       "        0.,  0.,  0.,  0.,  0.,  0.,  0.,  0.,  0.,  0.,  0.,  0.,  0.,\n",
       "        0.,  0.,  0.,  0.,  0.,  0.,  0.,  0.,  0.,  0.,  0.,  0.,  0.,\n",
       "        0.,  0.,  0.,  0.,  0.,  0.,  0.,  0.,  0.,  0.,  0.,  0.,  0.,\n",
       "        0.,  0.,  0.,  0.,  0.,  0.,  0.,  0.,  0.,  0.,  0.,  0.,  0.,\n",
       "        0.,  0.,  0.,  0.,  0.,  0.,  0.,  0.,  0.,  0.,  0.,  0.,  0.,\n",
       "        0.,  0.,  0.,  0.,  0.,  0.,  0.,  0.,  0.,  0.,  0.,  0.,  0.,\n",
       "        0.,  0.,  0.,  0.,  0.,  0.,  0.,  0.,  0.,  0.,  0.,  0.,  0.,\n",
       "        0.,  0.,  0.,  0.,  0.,  0.,  0.,  0.,  0.,  0.,  0.,  0.,  0.,\n",
       "        0.,  0.,  0.,  0.,  0.,  0.,  0.,  0.,  0.,  0.,  0.,  0.,  0.,\n",
       "        0.,  0.,  0.,  0.,  0.,  0.,  0.,  0.,  0.,  0.,  0.,  0.,  0.,\n",
       "        0.,  0.,  0.,  0.,  0.,  0.,  0.,  0.,  0.,  0.,  0.,  0.])"
      ]
     },
     "execution_count": 35,
     "metadata": {},
     "output_type": "execute_result"
    }
   ],
   "source": [
    "nevent       # Numero di eventi in ciacun bin"
   ]
  },
  {
   "cell_type": "code",
   "execution_count": null,
   "metadata": {},
   "outputs": [],
   "source": [
    "bins         # Estremi dei bin"
   ]
  },
  {
   "cell_type": "markdown",
   "metadata": {},
   "source": [
    "I patches sono i rettangoli (blu in questo caso) che vengono usati per disegnare l'istogramma."
   ]
  },
  {
   "cell_type": "markdown",
   "metadata": {},
   "source": [
    "<div style = \"width:95%; padding:5px 10px 5px; border-style:solid; border-width:0px 0px 0px 10px; border-color:#b8d0d0; margin:20px 0px 10px 10px\">\n",
    "    <h4> Imparare Facendo</h4>\n",
    "    Fate il diagramma delle frequenze dell'array <b>my_arr</b>. In particolare\n",
    "<OL>\n",
    "<LI>Determinate un <b>range</b> ragionevole. \n",
    "<LI>Variate il numero di bin, notando come un sia un numero troppo piccolo che uno troppo grande mascherano l'andamento dei dati.\n",
    "<LI>Verificate se il valor medio e la standard deviation sono parametri utili nella comprensione di questo set di dati\n",
    "</OL>\n",
    "</div>"
   ]
  },
  {
   "cell_type": "code",
   "execution_count": null,
   "metadata": {},
   "outputs": [],
   "source": [
    "my_arr = np.array([3.04645601, 2.97244915, 3.11895648, 2.23631771, 2.83300643,\n",
    "       2.05404508, 2.75985706, 2.26921367, 1.37480605, 2.02558085,\n",
    "       2.03489553, 2.9879711 , 1.96904577, 2.26633488, 2.25061096,\n",
    "       2.19332838, 2.01392679, 3.11555729, 1.86606049, 3.05021054,\n",
    "       3.03353987, 2.31818007, 2.79232123, 3.33861491, 3.28415856,\n",
    "       1.99223361, 2.84573136, 1.79728384, 3.02507785, 1.66469195,\n",
    "       1.9154713 , 2.43314196, 1.86340421, 1.90131182, 2.09963155,\n",
    "       2.12451288, 1.77265763, 1.81662815, 2.0122717 , 2.82934715,\n",
    "       1.72616883, 2.86297194, 2.9404613 , 2.96369557, 1.8376963 ,\n",
    "       1.81889892, 2.08233386, 1.86941276, 1.83248482, 3.12861456,\n",
    "       1.54804543, 2.89724744, 2.97500892, 2.28660094, 3.51159172,\n",
    "       1.64804177, 2.9250396 , 2.98698285, 2.17577323, 2.43331005,\n",
    "       2.03573614, 2.96237528, 3.14320927, 2.13393559, 2.55083613,\n",
    "       1.72551903, 1.56344938, 3.31847721, 3.19368425, 2.81418586,\n",
    "       2.79420806, 2.88605616, 2.08231959, 1.68927766, 1.89277468,\n",
    "       2.03634711, 3.01241034, 1.95824444, 1.84229893, 1.79093756,\n",
    "       2.16777509, 1.91055935, 2.16076815, 1.99936357, 2.42660732,\n",
    "       2.09021026, 3.25206981, 2.55240002, 2.83482414, 2.0150959 ,\n",
    "       3.31566771, 3.58996448, 2.58405186, 2.74445492, 2.80650089,\n",
    "       1.25237511, 2.04484102, 1.95878434, 1.99383903, 1.63776293,\n",
    "       3.08590679, 3.42000501, 1.69301131, 1.45661319, 2.75442641,\n",
    "       3.01573607, 2.64220989, 2.37487723, 1.83034393, 1.74794294,\n",
    "       1.92414741, 2.91175392, 3.25243102, 2.91543309, 3.22180813,\n",
    "       1.89410574, 1.83451938, 1.60409685, 3.24371334, 2.04293352,\n",
    "       2.89538543, 2.05009924, 2.20696778, 2.05073664, 1.83387137,\n",
    "       2.07646022, 3.34614149, 3.30588549, 3.25491247, 1.55441846,\n",
    "       2.19207954, 2.11273179, 2.92539792, 3.19288315, 1.2374957 ,\n",
    "       2.17409141, 1.76835303, 2.12725474, 2.91318578, 2.96264334,\n",
    "       2.18750678, 1.96060764, 3.41421698, 2.78839075, 1.56933989,\n",
    "       1.64822396, 1.8383093 , 1.49851104, 3.03809049, 2.84892792,\n",
    "       1.6809436 , 3.12957714, 3.01568747, 1.87809285, 1.71435392,\n",
    "       1.83658257, 1.94510093, 3.04703205, 2.97698006, 1.99492519,\n",
    "       3.07521061, 1.96260647, 2.91868837, 1.94448569, 2.96816534,\n",
    "       2.90343856, 2.33124355, 1.88310601, 1.93171459, 2.54151343])"
   ]
  },
  {
   "cell_type": "code",
   "execution_count": 64,
   "metadata": {
    "tags": []
   },
   "outputs": [
    {
     "data": {
      "image/png": "[encoded data removed]",
      "text/plain": [
       "<Figure size 640x480 with 1 Axes>"
      ]
     },
     "metadata": {},
     "output_type": "display_data"
    }
   ],
   "source": [
    "xrange = (1.7,2.2)\n",
    "nbins = 50\n",
    "\n",
    "media = np.mean(my_arr)\n",
    "stv = np.std(my_arr)\n",
    "\n",
    "fig, ax = plt.subplots()\n",
    "nevent, bins, patches = ax.hist(dati, nbins, range=xrange)\n",
    "\n",
    "ax.plot(np.ones(2)*media,[0,nevent.max()+1],label=\"media\")\n",
    "ax.plot(np.ones(2)*media-stv,[0,nevent.max()+1],label=\"media - $\\sigma$\")\n",
    "ax.plot(np.ones(2)*media+stv,[0,nevent.max()+1],label=\"media + $\\sigma$\")\n",
    "ax.legend();"
   ]
  },
  {
   "cell_type": "markdown",
   "metadata": {},
   "source": [
    "<div style = \"width:95%; padding:5px 10px 5px; border-style:solid; border-width:0px 0px 0px 10px; border-color:#ff0000; margin:20px 0px 10px 10px\">\n",
    "    <h4> Attenzione!</h4>\n",
    "    Lo studio grafico dei dati non va mai trascurato.<BR>\n",
    " In un notebook a parte <A HREF=\"anscombe.ipynb\"> anscombe.ipynb</A> potete trovare un classico esempio di quanto sia pericoloso affidarsi completamente ai parametri statisti fondamentali: quattro set di dati che hanno la stessa media, la stessa deviazione standard e vengono interpolati dalla stessa retta pur essendo completamente diversi.\n",
    "</div>"
   ]
  },
  {
   "cell_type": "markdown",
   "metadata": {},
   "source": [
    "<div style= 'padding:20px 20px 0px 70px;'>\n",
    "    <img src=\"../Humour/extrapolating2.png\" width=\"850\" align=\"left\"/>\n",
    "</div>"
   ]
  },
  {
   "cell_type": "markdown",
   "metadata": {},
   "source": [
    "## 9.3 Numeri Casuali\n",
    "\n",
    "Nelle versioni più recenti di Numpy (>1.17) è stata introdotto un oggetto `default_rng` i cui metodi possono essere utilizzati \n",
    "per generare set di valori distribuiti secondo le singole distribuzioni di probabilità. "
   ]
  },
  {
   "cell_type": "code",
   "execution_count": 69,
   "metadata": {
    "tags": []
   },
   "outputs": [
    {
     "name": "stdout",
     "output_type": "stream",
     "text": [
      "Help on built-in function default_rng in module numpy.random._generator:\n",
      "\n",
      "default_rng(...)\n",
      "    default_rng(seed=None)\n",
      "    Construct a new Generator with the default BitGenerator (PCG64).\n",
      "    \n",
      "        Parameters\n",
      "        ----------\n",
      "        seed : {None, int, array_like[ints], SeedSequence, BitGenerator, Generator}, optional\n",
      "            A seed to initialize the `BitGenerator`. If None, then fresh,\n",
      "            unpredictable entropy will be pulled from the OS. If an ``int`` or\n",
      "            ``array_like[ints]`` is passed, then it will be passed to\n",
      "            `SeedSequence` to derive the initial `BitGenerator` state. One may also\n",
      "            pass in a `SeedSequence` instance.\n",
      "            Additionally, when passed a `BitGenerator`, it will be wrapped by\n",
      "            `Generator`. If passed a `Generator`, it will be returned unaltered.\n",
      "    \n",
      "        Returns\n",
      "        -------\n",
      "        Generator\n",
      "            The initialized generator object.\n",
      "    \n",
      "        Notes\n",
      "        -----\n",
      "        If ``seed`` is not a `BitGenerator` or a `Generator`, a new `BitGenerator`\n",
      "        is instantiated. This function does not manage a default global instance.\n",
      "        \n",
      "        Examples\n",
      "        --------\n",
      "        ``default_rng`` is the recommended constructor for the random number class\n",
      "        ``Generator``. Here are several ways we can construct a random \n",
      "        number generator using ``default_rng`` and the ``Generator`` class. \n",
      "        \n",
      "        Here we use ``default_rng`` to generate a random float:\n",
      "     \n",
      "        >>> import numpy as np\n",
      "        >>> rng = np.random.default_rng(12345)\n",
      "        >>> print(rng)\n",
      "        Generator(PCG64)\n",
      "        >>> rfloat = rng.random()\n",
      "        >>> rfloat\n",
      "        0.22733602246716966\n",
      "        >>> type(rfloat)\n",
      "        <class 'float'>\n",
      "         \n",
      "        Here we use ``default_rng`` to generate 3 random integers between 0 \n",
      "        (inclusive) and 10 (exclusive):\n",
      "            \n",
      "        >>> import numpy as np\n",
      "        >>> rng = np.random.default_rng(12345)\n",
      "        >>> rints = rng.integers(low=0, high=10, size=3)\n",
      "        >>> rints\n",
      "        array([6, 2, 7])\n",
      "        >>> type(rints[0])\n",
      "        <class 'numpy.int64'>\n",
      "        \n",
      "        Here we specify a seed so that we have reproducible results:\n",
      "        \n",
      "        >>> import numpy as np\n",
      "        >>> rng = np.random.default_rng(seed=42)\n",
      "        >>> print(rng)\n",
      "        Generator(PCG64)\n",
      "        >>> arr1 = rng.random((3, 3))\n",
      "        >>> arr1\n",
      "        array([[0.77395605, 0.43887844, 0.85859792],\n",
      "               [0.69736803, 0.09417735, 0.97562235],\n",
      "               [0.7611397 , 0.78606431, 0.12811363]])\n",
      "    \n",
      "        If we exit and restart our Python interpreter, we'll see that we\n",
      "        generate the same random numbers again:\n",
      "    \n",
      "        >>> import numpy as np\n",
      "        >>> rng = np.random.default_rng(seed=42)\n",
      "        >>> arr2 = rng.random((3, 3))\n",
      "        >>> arr2\n",
      "        array([[0.77395605, 0.43887844, 0.85859792],\n",
      "               [0.69736803, 0.09417735, 0.97562235],\n",
      "               [0.7611397 , 0.78606431, 0.12811363]])\n",
      "\n"
     ]
    }
   ],
   "source": [
    "import matplotlib.pyplot as plt\n",
    "from numpy.random import default_rng\n",
    "\n",
    "rng = default_rng()\n",
    "\n",
    "help(np.random.default_rng)\n",
    "#help(rng)"
   ]
  },
  {
   "cell_type": "markdown",
   "metadata": {},
   "source": [
    "- Come generare numeri distribuiti secondo la distribuzione normale standard $\\mu = 0.0,\\, \\sigma = 1.0\\,$. "
   ]
  },
  {
   "cell_type": "code",
   "execution_count": 23,
   "metadata": {
    "tags": []
   },
   "outputs": [],
   "source": [
    "m1 = rng.normal(size=2000)"
   ]
  },
  {
   "cell_type": "code",
   "execution_count": 65,
   "metadata": {
    "tags": []
   },
   "outputs": [
    {
     "data": {
      "image/png": "[encoded data removed]",
      "text/plain": [
       "<Figure size 640x480 with 1 Axes>"
      ]
     },
     "metadata": {},
     "output_type": "display_data"
    }
   ],
   "source": [
    "nbins = 30\n",
    "xrange = (-5,5)    # ntupla\n",
    "fig, ax = plt.subplots()\n",
    "nevent, bins, patches = ax.hist(m1, nbins, range=xrange)"
   ]
  },
  {
   "cell_type": "markdown",
   "metadata": {},
   "source": [
    "- Come generare numeri distribuiti secondo la distribuzione normale con $\\mu = -2.0,\\, \\sigma = 0.3\\,$. "
   ]
  },
  {
   "cell_type": "code",
   "execution_count": 66,
   "metadata": {
    "tags": []
   },
   "outputs": [],
   "source": [
    "m2 = rng.normal(loc=-2., scale=0.3, size=2000)"
   ]
  },
  {
   "cell_type": "code",
   "execution_count": 67,
   "metadata": {
    "tags": []
   },
   "outputs": [
    {
     "data": {
      "image/png": "[encoded data removed]",
      "text/plain": [
       "<Figure size 640x480 with 1 Axes>"
      ]
     },
     "metadata": {},
     "output_type": "display_data"
    }
   ],
   "source": [
    "nbins = 300\n",
    "xrange = (-5,1)    # ntupla\n",
    "fig, ax = plt.subplots()\n",
    "nevent, bins, patches = ax.hist(m2, nbins, range=xrange)"
   ]
  },
  {
   "cell_type": "markdown",
   "metadata": {},
   "source": [
    "- Un modo di generare numeri **reali** secondo la distribuzione uniforme standard $[0,1]$. "
   ]
  },
  {
   "cell_type": "code",
   "execution_count": null,
   "metadata": {},
   "outputs": [],
   "source": [
    "#help(rng.uniform)"
   ]
  },
  {
   "cell_type": "code",
   "execution_count": null,
   "metadata": {},
   "outputs": [],
   "source": [
    "m3 = rng.uniform(size=2000)"
   ]
  },
  {
   "cell_type": "code",
   "execution_count": null,
   "metadata": {},
   "outputs": [],
   "source": [
    "nbins = 12\n",
    "xrange = (-0.1,1.1)    # ntupla\n",
    "fig, ax = plt.subplots()\n",
    "nevent, bins, patches = ax.hist(m3, nbins, range=xrange)"
   ]
  },
  {
   "cell_type": "markdown",
   "metadata": {},
   "source": [
    "- Un modo di generare numeri **interi** uniformemente distribuiti fra un minimo (incluso) e un massimo (escluso). "
   ]
  },
  {
   "cell_type": "code",
   "execution_count": null,
   "metadata": {},
   "outputs": [],
   "source": [
    "#help(rng.integers)"
   ]
  },
  {
   "cell_type": "code",
   "execution_count": 68,
   "metadata": {
    "tags": []
   },
   "outputs": [
    {
     "data": {
      "text/plain": [
       "array([39, 43, 94, 18, 64, 11, 61, 82, 10, 10, 26, 19, 46, 96, 78, 58, 28,\n",
       "       39, 85, 60])"
      ]
     },
     "execution_count": 68,
     "metadata": {},
     "output_type": "execute_result"
    }
   ],
   "source": [
    "m4 = rng.integers(0,high=100,size=20)\n",
    "m4"
   ]
  },
  {
   "cell_type": "markdown",
   "metadata": {},
   "source": [
    "    In letteratura si trovano ancora i generatori di numeri casuali meno recenti\n",
    "    =============================================================================\n",
    "    rand                 Uniformly distributed values.\n",
    "    randn                Normally distributed values.\n",
    "    ranf                 Uniformly distributed floating point numbers.\n",
    "    randint              Uniformly distributed integers in a given range.\n",
    "    =============================================================================\n",
    "    "
   ]
  },
  {
   "cell_type": "markdown",
   "metadata": {},
   "source": [
    "Si può fissare il \"seme\" del generatore di numeri casuali in modo da ottenere la stessa sequenza più volte.\n",
    "Utile qundo si vogliono capire le analisi statistiche fatte da qualcun altro."
   ]
  },
  {
   "cell_type": "code",
   "execution_count": null,
   "metadata": {},
   "outputs": [],
   "source": [
    "rng1 = default_rng(12345)\n",
    "rng2 = default_rng(12345)"
   ]
  },
  {
   "cell_type": "code",
   "execution_count": null,
   "metadata": {},
   "outputs": [],
   "source": [
    "m3_1 = rng1.uniform(size=200)"
   ]
  },
  {
   "cell_type": "code",
   "execution_count": null,
   "metadata": {},
   "outputs": [],
   "source": [
    "m3_2 = rng2.uniform(size=200)"
   ]
  },
  {
   "cell_type": "code",
   "execution_count": null,
   "metadata": {},
   "outputs": [],
   "source": [
    "m3_1 == m3_2"
   ]
  },
  {
   "cell_type": "code",
   "execution_count": null,
   "metadata": {},
   "outputs": [],
   "source": [
    "rng3 = default_rng(12345)\n",
    "rng4 = default_rng(12345)"
   ]
  },
  {
   "cell_type": "code",
   "execution_count": null,
   "metadata": {},
   "outputs": [],
   "source": [
    "m1_1 =rng3.normal(size=1000)\n",
    "#m1_1"
   ]
  },
  {
   "cell_type": "code",
   "execution_count": null,
   "metadata": {},
   "outputs": [],
   "source": [
    "m1_2 =rng4.normal(size=1000)\n",
    "#m1_2"
   ]
  },
  {
   "cell_type": "code",
   "execution_count": null,
   "metadata": {},
   "outputs": [],
   "source": [
    "all(m1_1 == m1_2)"
   ]
  },
  {
   "cell_type": "markdown",
   "metadata": {},
   "source": [
    "<div style= 'padding:20px 20px 0px 150px;'>\n",
    "    <img src=\"../Humour/NormalDistribution.jpg\" width=\"400\" align=\"left\"/>\n",
    "</div>"
   ]
  },
  {
   "cell_type": "markdown",
   "metadata": {},
   "source": [
    "<div style = \"width:95%; padding:5px 10px 5px; border-style:solid; border-width:0px 0px 0px 10px; border-color:#b8d0d0; margin:20px 0px 10px 10px\">\n",
    "    <h4> Imparare Facendo</h4>\n",
    "    \n",
    "Producete campioni casuali estratti da una distribuzione normale, con valor medio $\\mu = 3.$ e deviazione standard $\\sigma = 0.7$, di 50, 100, 500, 5000 elementi.\n",
    "    Di ciascun campione\n",
    "<OL>\n",
    "<LI>Fate l'istogramma delle frequenze.\n",
    "<LI>Sovrapponete all'istogramma delle frequenze la funzione densità di probabilità gaussiana di valor medio $\\mu$ e deviazione standard $\\sigma$, facendo attenzione che la curva e l'istogramma siano confrontabili. Cosa è necessario fare?\n",
    "</OL>\n",
    "</div>"
   ]
  },
  {
   "cell_type": "markdown",
   "metadata": {},
   "source": [
    "## 9.4 Distribuzioni di probabilità\n",
    "\n",
    "Il modulo `scipy.stats` contiene le principali distribuzioni di probabilità , sia discrete che continue, funzioni che permettono di calcolare i parametri statistici più comuni di un set di dati, funzioni che eseguono test statistici e test di correlazione fra uno o più set di dati.<BR>\n",
    "Per ulteriori informazioni https://docs.scipy.org/doc/scipy/reference/stats.html."
   ]
  },
  {
   "cell_type": "markdown",
   "metadata": {},
   "source": [
    "### 9.4.1 Distribuzione normale: $\\,\\,N(x) = \\frac{\\exp (-x^2/2)}{\\sqrt{2\\,\\pi}}$"
   ]
  },
  {
   "cell_type": "code",
   "execution_count": 1,
   "metadata": {},
   "outputs": [],
   "source": [
    "import numpy as np\n",
    "import scipy.stats as stats\n",
    "import matplotlib.pyplot as plt"
   ]
  },
  {
   "cell_type": "markdown",
   "metadata": {},
   "source": [
    "#### Grafico della distribuzione"
   ]
  },
  {
   "cell_type": "code",
   "execution_count": 19,
   "metadata": {},
   "outputs": [
    {
     "data": {
      "image/png": "[encoded data removed]",
      "text/plain": [
       "<Figure size 432x288 with 1 Axes>"
      ]
     },
     "metadata": {
      "needs_background": "light"
     },
     "output_type": "display_data"
    }
   ],
   "source": [
    "x = np.linspace(-3,3,100)\n",
    "y_norm = stats.norm.pdf(x)\n",
    "\n",
    "fig, ax = plt.subplots()\n",
    "ax.plot(x,y_norm);"
   ]
  },
  {
   "cell_type": "markdown",
   "metadata": {},
   "source": [
    "#### Parametri del set di dati"
   ]
  },
  {
   "cell_type": "code",
   "execution_count": 20,
   "metadata": {},
   "outputs": [
    {
     "data": {
      "text/plain": [
       "DescribeResult(nobs=100, minmax=(0.0044318484119380075, 0.3987591533537418), mean=0.1645975096425618, variance=0.01964894623903066, skewness=0.4042398613429197, kurtosis=-1.3613112580554971)"
      ]
     },
     "execution_count": 20,
     "metadata": {},
     "output_type": "execute_result"
    }
   ],
   "source": [
    "stats.describe(y_norm)"
   ]
  },
  {
   "cell_type": "markdown",
   "metadata": {},
   "source": [
    "#### Grafico della distribuzione cumulativa:  $\\,\\,C(x) = \\int_{-\\infty}^x N(y)\\, dy$"
   ]
  },
  {
   "cell_type": "code",
   "execution_count": 6,
   "metadata": {},
   "outputs": [],
   "source": [
    "y_norm_cumulative = stats.norm.cdf(x)"
   ]
  },
  {
   "cell_type": "code",
   "execution_count": 18,
   "metadata": {},
   "outputs": [
    {
     "data": {
      "image/png": "[encoded data removed]",
      "text/plain": [
       "<Figure size 432x288 with 1 Axes>"
      ]
     },
     "metadata": {
      "needs_background": "light"
     },
     "output_type": "display_data"
    }
   ],
   "source": [
    "fig, ax = plt.subplots()\n",
    "ax.plot(x,y_norm_cumulative);"
   ]
  },
  {
   "cell_type": "markdown",
   "metadata": {},
   "source": [
    "### 9.4.1 Distribuzione di Poisson: $f(k) = \\exp(-\\mu)\\, \\frac{\\mu^k}{k!}$"
   ]
  },
  {
   "cell_type": "markdown",
   "metadata": {},
   "source": [
    "#### Grafico della distribuzione"
   ]
  },
  {
   "cell_type": "code",
   "execution_count": 21,
   "metadata": {},
   "outputs": [],
   "source": [
    "mu = 1.5\n",
    "k = np.arange(0,10,1)\n",
    "n = stats.poisson.pmf(k, mu)"
   ]
  },
  {
   "cell_type": "code",
   "execution_count": 22,
   "metadata": {},
   "outputs": [
    {
     "data": {
      "image/png": "[encoded data removed]",
      "text/plain": [
       "<Figure size 432x288 with 1 Axes>"
      ]
     },
     "metadata": {
      "needs_background": "light"
     },
     "output_type": "display_data"
    }
   ],
   "source": [
    "fig, ax = plt.subplots()\n",
    "ax.scatter(k,n);"
   ]
  },
  {
   "cell_type": "markdown",
   "metadata": {},
   "source": [
    "#### Parametri del set di dati"
   ]
  },
  {
   "cell_type": "code",
   "execution_count": 23,
   "metadata": {},
   "outputs": [
    {
     "data": {
      "text/plain": [
       "DescribeResult(nobs=10, minmax=(2.3638318270467896e-05, 0.33469524022264474), mean=0.09999959024990236, variance=0.015889019294170213, skewness=0.7954958214401758, kurtosis=-0.9316199632660513)"
      ]
     },
     "execution_count": 23,
     "metadata": {},
     "output_type": "execute_result"
    }
   ],
   "source": [
    "stats.describe(n)"
   ]
  }
 ],
 "metadata": {
  "hide_input": false,
  "kernelspec": {
   "display_name": "Python 3 (ipykernel)",
   "language": "python",
   "name": "python3"
  },
  "language_info": {
   "codemirror_mode": {
    "name": "ipython",
    "version": 3
   },
   "file_extension": ".py",
   "mimetype": "text/x-python",
   "name": "python",
   "nbconvert_exporter": "python",
   "pygments_lexer": "ipython3",
   "version": "3.11.5"
  },
  "toc": {
   "base_numbering": 1,
   "nav_menu": {},
   "number_sections": true,
   "sideBar": true,
   "skip_h1_title": true,
   "title_cell": "Table of Contents",
   "title_sidebar": "Contents",
   "toc_cell": false,
   "toc_position": {},
   "toc_section_display": true,
   "toc_window_display": false
  },
  "varInspector": {
   "cols": {
    "lenName": 16,
    "lenType": 16,
    "lenVar": 40
   },
   "kernels_config": {
    "python": {
     "delete_cmd_postfix": "",
     "delete_cmd_prefix": "del ",
     "library": "var_list.py",
     "varRefreshCmd": "print(var_dic_list())"
    },
    "r": {
     "delete_cmd_postfix": ") ",
     "delete_cmd_prefix": "rm(",
     "library": "var_list.r",
     "varRefreshCmd": "cat(var_dic_list()) "
    }
   },
   "types_to_exclude": [
    "module",
    "function",
    "builtin_function_or_method",
    "instance",
    "_Feature"
   ],
   "window_display": false
  }
 },
 "nbformat": 4,
 "nbformat_minor": 4
}

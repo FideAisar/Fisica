{
 "cells": [
  {
   "cell_type": "markdown",
   "metadata": {},
   "source": [
    "__Finiti gli esercizi, oppure il tempo a disposizione, salvate il notebook usando:__<BR>\n",
    "```\n",
    "File --> Save Notebook as\n",
    "```\n",
    "__usando il vostro cognome_nome come nome del file. Spedite il notebook, usando il vostro mailer preferito, a maina@to.infn.it, CON IL FILE IN ALLEGATO.__\n",
    "    \n",
    "Per determinare la cartella in cui il file viene salvato usate il comando `%pwd` in una cella a parte."
   ]
  },
  {
   "cell_type": "markdown",
   "metadata": {},
   "source": [
    "### Esercizio 1\n",
    "__Scrivete un array `val` di numeri reali compresi fra 20 e 40 ad intervalli di 0.3. \n",
    "Costruite una funzione, `pol(x,n2,n1,n0)`, che restituisca l'array dei valori del polinomio\n",
    "y = n2\\*x\\*\\*2 +n1\\*x + n0 in tutti i punti dell'array x. Testate `pol` su un piccolo array per cui siete in grado di calcolare autonomamente il risultato per n2 = n1 = n0 = 1. Usate `pol` per calcolare i valori di 1/2\\*x\\*\\*2 -x + 1 nei punti contenuti in `val`.__   "
   ]
  },
  {
   "cell_type": "code",
   "execution_count": 6,
   "metadata": {
    "tags": []
   },
   "outputs": [
    {
     "data": {
      "text/plain": [
       "(array([20.    , 20.6045, 21.218 , 21.8405, 22.472 , 23.1125, 23.762 ,\n",
       "        24.4205, 25.088 , 25.7645, 26.45  , 27.1445, 27.848 , 28.5605,\n",
       "        29.282 , 30.0125, 30.752 , 31.5005, 32.258 , 33.0245, 33.8   ,\n",
       "        34.5845, 35.378 , 36.1805, 36.992 , 37.8125, 38.642 , 39.4805,\n",
       "        40.328 , 41.1845, 42.05  , 42.9245, 43.808 , 44.7005, 45.602 ,\n",
       "        46.5125, 47.432 , 48.3605, 49.298 , 50.2445, 51.2   , 52.1645,\n",
       "        53.138 , 54.1205, 55.112 , 56.1125, 57.122 , 58.1405, 59.168 ,\n",
       "        60.2045, 61.25  , 62.3045, 63.368 , 64.4405, 65.522 , 66.6125,\n",
       "        67.712 , 68.8205, 69.938 , 71.0645, 72.2   , 73.3445, 74.498 ,\n",
       "        75.6605, 76.832 , 78.0125, 79.202 , 80.4005, 81.608 , 82.8245]),\n",
       " array([181.   , 186.745, 192.58 , 198.505, 204.52 , 210.625, 216.82 ,\n",
       "        223.105, 229.48 , 235.945, 242.5  , 249.145, 255.88 , 262.705,\n",
       "        269.62 , 276.625, 283.72 , 290.905, 298.18 , 305.545, 313.   ,\n",
       "        320.545, 328.18 , 335.905, 343.72 , 351.625, 359.62 , 367.705,\n",
       "        375.88 , 384.145, 392.5  , 400.945, 409.48 , 418.105, 426.82 ,\n",
       "        435.625, 444.52 , 453.505, 462.58 , 471.745, 481.   , 490.345,\n",
       "        499.78 , 509.305, 518.92 , 528.625, 538.42 , 548.305, 558.28 ,\n",
       "        568.345, 578.5  , 588.745, 599.08 , 609.505, 620.02 , 630.625,\n",
       "        641.32 , 652.105, 662.98 , 673.945, 685.   , 696.145, 707.38 ,\n",
       "        718.705, 730.12 , 741.625, 753.22 , 764.905, 776.68 , 788.545]))"
      ]
     },
     "execution_count": 6,
     "metadata": {},
     "output_type": "execute_result"
    }
   ],
   "source": [
    "import numpy as np\n",
    "import numpy.linalg as LA\n",
    "\n",
    "val = np.arange(20,41,0.3)\n",
    "\n",
    "def pol(x,n2,n1,n0):\n",
    "    y = n2*(x**2) + n1*x + n0\n",
    "    y1 = (1/2) * (x**2) - x + 1\n",
    "    return y,y1\n",
    "pol(val,1/20,0,0) # so che passa per (20,20)"
   ]
  },
  {
   "cell_type": "markdown",
   "metadata": {},
   "source": [
    "### Esercizio 2\n",
    "__Costruite l'array A di elementi 1/n**2 con n intero compreso fra 1 e 100 compresi. Costruite una funzione a_data(arr) che restituisca il primo e l'ultimo elemento dell'array `arr`. I due valori devono essere divisi per la somma degli elementi di `arr` se il valore assoluto della  differenza fra questa somma e zero è maggiore di `1.e-8`. Testate la funzione con l' array A e con l'array np.array([1,-1]).__"
   ]
  },
  {
   "cell_type": "code",
   "execution_count": 16,
   "metadata": {
    "tags": []
   },
   "outputs": [
    {
     "name": "stdout",
     "output_type": "stream",
     "text": [
      "(array([6.11626818e-01, 1.52906704e-01, 6.79585353e-02, 3.82266761e-02,\n",
      "       2.44650727e-02, 1.69896338e-02, 1.24821800e-02, 9.55666903e-03,\n",
      "       7.55094837e-03, 6.11626818e-03, 5.05476709e-03, 4.24740846e-03,\n",
      "       3.61909360e-03, 3.12054499e-03, 2.71834141e-03, 2.38916726e-03,\n",
      "       2.11635577e-03, 1.88773709e-03, 1.69425711e-03, 1.52906704e-03,\n",
      "       1.38690888e-03, 1.26369177e-03, 1.15619436e-03, 1.06185211e-03,\n",
      "       9.78602908e-04, 9.04773399e-04, 8.38994263e-04, 7.80136247e-04,\n",
      "       7.27261377e-04, 6.79585353e-04, 6.36448302e-04, 5.97291814e-04,\n",
      "       5.61640788e-04, 5.29088943e-04, 4.99287198e-04, 4.71934273e-04,\n",
      "       4.46769041e-04, 4.23564278e-04, 4.02121511e-04, 3.82266761e-04,\n",
      "       3.63847006e-04, 3.46727221e-04, 3.30787895e-04, 3.15922943e-04,\n",
      "       3.02037935e-04, 2.89048591e-04, 2.76879501e-04, 2.65463029e-04,\n",
      "       2.54738366e-04, 2.44650727e-04, 2.35150641e-04, 2.26193350e-04,\n",
      "       2.17738276e-04, 2.09748566e-04, 2.02190684e-04, 1.95034062e-04,\n",
      "       1.88250790e-04, 1.81815344e-04, 1.75704343e-04, 1.69896338e-04,\n",
      "       1.64371625e-04, 1.59112075e-04, 1.54100987e-04, 1.49322954e-04,\n",
      "       1.44763744e-04, 1.40410197e-04, 1.36250126e-04, 1.32272236e-04,\n",
      "       1.28466040e-04, 1.24821800e-04, 1.21330454e-04, 1.17983568e-04,\n",
      "       1.14773282e-04, 1.11692260e-04, 1.08733656e-04, 1.05891070e-04,\n",
      "       1.03158512e-04, 1.00530378e-04, 9.80014129e-05, 9.55666903e-05,\n",
      "       9.32215848e-05, 9.09617516e-05, 8.87831061e-05, 8.66818052e-05,\n",
      "       8.46542308e-05, 8.26969737e-05, 8.08068196e-05, 7.89807358e-05,\n",
      "       7.72158588e-05, 7.55094837e-05, 7.38590530e-05, 7.22621477e-05,\n",
      "       7.07164779e-05, 6.92198753e-05, 6.77702845e-05, 6.63657571e-05,\n",
      "       6.50044444e-05, 6.36845916e-05, 6.24045320e-05, 6.11626818e-05]), array([6.11626818e-01, 1.52906704e-01, 6.79585353e-02, 3.82266761e-02,\n",
      "       2.44650727e-02, 1.69896338e-02, 1.24821800e-02, 9.55666903e-03,\n",
      "       7.55094837e-03, 6.11626818e-03, 5.05476709e-03, 4.24740846e-03,\n",
      "       3.61909360e-03, 3.12054499e-03, 2.71834141e-03, 2.38916726e-03,\n",
      "       2.11635577e-03, 1.88773709e-03, 1.69425711e-03, 1.52906704e-03,\n",
      "       1.38690888e-03, 1.26369177e-03, 1.15619436e-03, 1.06185211e-03,\n",
      "       9.78602908e-04, 9.04773399e-04, 8.38994263e-04, 7.80136247e-04,\n",
      "       7.27261377e-04, 6.79585353e-04, 6.36448302e-04, 5.97291814e-04,\n",
      "       5.61640788e-04, 5.29088943e-04, 4.99287198e-04, 4.71934273e-04,\n",
      "       4.46769041e-04, 4.23564278e-04, 4.02121511e-04, 3.82266761e-04,\n",
      "       3.63847006e-04, 3.46727221e-04, 3.30787895e-04, 3.15922943e-04,\n",
      "       3.02037935e-04, 2.89048591e-04, 2.76879501e-04, 2.65463029e-04,\n",
      "       2.54738366e-04, 2.44650727e-04, 2.35150641e-04, 2.26193350e-04,\n",
      "       2.17738276e-04, 2.09748566e-04, 2.02190684e-04, 1.95034062e-04,\n",
      "       1.88250790e-04, 1.81815344e-04, 1.75704343e-04, 1.69896338e-04,\n",
      "       1.64371625e-04, 1.59112075e-04, 1.54100987e-04, 1.49322954e-04,\n",
      "       1.44763744e-04, 1.40410197e-04, 1.36250126e-04, 1.32272236e-04,\n",
      "       1.28466040e-04, 1.24821800e-04, 1.21330454e-04, 1.17983568e-04,\n",
      "       1.14773282e-04, 1.11692260e-04, 1.08733656e-04, 1.05891070e-04,\n",
      "       1.03158512e-04, 1.00530378e-04, 9.80014129e-05, 9.55666903e-05,\n",
      "       9.32215848e-05, 9.09617516e-05, 8.87831061e-05, 8.66818052e-05,\n",
      "       8.46542308e-05, 8.26969737e-05, 8.08068196e-05, 7.89807358e-05,\n",
      "       7.72158588e-05, 7.55094837e-05, 7.38590530e-05, 7.22621477e-05,\n",
      "       7.07164779e-05, 6.92198753e-05, 6.77702845e-05, 6.63657571e-05,\n",
      "       6.50044444e-05, 6.36845916e-05, 6.24045320e-05, 6.11626818e-05]))\n",
      "(1, -1)\n"
     ]
    }
   ],
   "source": [
    "n = np.arange(1,101,1)\n",
    "A = np.array([1/n**2])\n",
    "\n",
    "def a_data(arr):   \n",
    "    if abs(np.sum(arr) - 0) > 1.e-8:\n",
    "        first = arr[0]/np.sum(arr)\n",
    "        sec = arr[-1]/np.sum(arr)\n",
    "    else:\n",
    "        first = arr[0]\n",
    "        sec = arr[-1]\n",
    "    return first,sec\n",
    "\n",
    "print(a_data(A))\n",
    "print(a_data(np.array([1,-1])))"
   ]
  },
  {
   "cell_type": "markdown",
   "metadata": {},
   "source": [
    "### Esercizio 3\n",
    "__Data la matrice:__\n",
    "$$\n",
    "R = \\left( \\begin{matrix}\n",
    "1 & 3 & 1 & -1 \\\\\n",
    "-1 & 2 & 2 & 0\\\\ \n",
    "0 & 2 & -1 & 1\\\\\n",
    "-2 & 0 & 1 & -1\\\\\n",
    "\\end{matrix} \\right)\n",
    "$$\n",
    "\n",
    "__Verificate che la matrice è invertibile. Sostituite la terza riga della matrice con il doppio della seconda riga.\n",
    "Verificate se la matrice risultante è invertibile.__"
   ]
  },
  {
   "cell_type": "code",
   "execution_count": 21,
   "metadata": {
    "tags": []
   },
   "outputs": [
    {
     "name": "stdout",
     "output_type": "stream",
     "text": [
      "[[ 1  3  1 -1]\n",
      " [-1  2  2  0]\n",
      " [ 0  2 -1  1]\n",
      " [-2  0  1 -1]]\n",
      "R Invertibile!\n",
      "\n",
      "R1 Non invertibile \n",
      "\n"
     ]
    }
   ],
   "source": [
    "R = np.array([[1,3,1,-1],[-1,2,2,0],[0,2,-1,1],[-2,0,1,-1]])\n",
    "if LA.det(R) != 0:\n",
    "    print(R)\n",
    "    print(\"R Invertibile!\\n\")\n",
    "else:\n",
    "    print(\"R Non invertibile \\n\")\n",
    "    \n",
    "R[2] = 2*R[1]\n",
    "R1 = R\n",
    "\n",
    "if LA.det(R1) != 0:\n",
    "    print(R1)\n",
    "    print(\"R1 Invertibile!\\n\")\n",
    "else:\n",
    "    print(\"R1 Non invertibile \\n\")"
   ]
  },
  {
   "cell_type": "markdown",
   "metadata": {},
   "source": [
    "### Esercizio 4\n",
    "__Scrivete una funzione `mysub(mylist,test=False)` che dato un array `mylist` restituisca la somma S degli elementi di `mylist`. \n",
    "Se `test=False` la funzione deve scrivere S nel file `sum.dat`. Se `test=True` la funzione deve stampare S sullo schermo.__<BR>\n",
    "__Testate `mysub` con l'array `np.array([1,2,3])` sia con `test=False` che con `test=True`.__"
   ]
  },
  {
   "cell_type": "code",
   "execution_count": 25,
   "metadata": {
    "tags": []
   },
   "outputs": [],
   "source": [
    "def mysub(mylist,test=False):\n",
    "    S = np.sum(mylist)\n",
    "    \n",
    "    if test == False:\n",
    "        with open(\"sum.dat\",\"w\") as file:\n",
    "            file.write(str(S))\n",
    "    else:\n",
    "        return S\n",
    "\n",
    "mysub(np.array([1,2,3]))"
   ]
  },
  {
   "cell_type": "code",
   "execution_count": null,
   "metadata": {},
   "outputs": [],
   "source": []
  }
 ],
 "metadata": {
  "kernelspec": {
   "display_name": "Python 3 (ipykernel)",
   "language": "python",
   "name": "python3"
  },
  "language_info": {
   "codemirror_mode": {
    "name": "ipython",
    "version": 3
   },
   "file_extension": ".py",
   "mimetype": "text/x-python",
   "name": "python",
   "nbconvert_exporter": "python",
   "pygments_lexer": "ipython3",
   "version": "3.11.5"
  }
 },
 "nbformat": 4,
 "nbformat_minor": 4
}

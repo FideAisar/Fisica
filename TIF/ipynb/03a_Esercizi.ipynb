{
 "cells": [
  {
   "cell_type": "markdown",
   "metadata": {},
   "source": [
    "# Programmare in Python\n",
    "\n",
    "## Esercizi: Tipi di dati\n"
   ]
  },
  {
   "cell_type": "markdown",
   "metadata": {},
   "source": [
    "__1 - Usando le operazioni `modulo (%)` e `divisione intera (//)` verificate numericamente che per qualunque coppia di numeri interi `n,m` vale `n = (n//m)*m + n%m`.__"
   ]
  },
  {
   "cell_type": "code",
   "execution_count": 4,
   "metadata": {
    "tags": []
   },
   "outputs": [
    {
     "data": {
      "text/plain": [
       "2"
      ]
     },
     "execution_count": 4,
     "metadata": {},
     "output_type": "execute_result"
    }
   ],
   "source": [
    "def dec(n,m):\n",
    "    n = (n//m)*m + n%m\n",
    "    return n\n",
    "dec(2,99)"
   ]
  },
  {
   "cell_type": "markdown",
   "metadata": {},
   "source": [
    "__2 - Usando l' operazione `modulo (%)` costruite una funzione `last_digit(n)` che restituisca l'ultima cifra del numero intero `n`. Esempio: `last_digit(347)` deve restituire `7`.__"
   ]
  },
  {
   "cell_type": "code",
   "execution_count": 9,
   "metadata": {
    "tags": []
   },
   "outputs": [
    {
     "data": {
      "text/plain": [
       "7"
      ]
     },
     "execution_count": 9,
     "metadata": {},
     "output_type": "execute_result"
    }
   ],
   "source": [
    "def last_digit(n):\n",
    "    n = n%10\n",
    "    return n\n",
    "last_digit(347)"
   ]
  },
  {
   "cell_type": "markdown",
   "metadata": {},
   "source": [
    "__3 - Sia a1 = 173.356035. Calcolate a1 - 173.__"
   ]
  },
  {
   "cell_type": "code",
   "execution_count": 10,
   "metadata": {
    "tags": []
   },
   "outputs": [
    {
     "name": "stdout",
     "output_type": "stream",
     "text": [
      "0.35603499999999144\n"
     ]
    }
   ],
   "source": [
    "a1 = a1 = 173.356035\n",
    "print(a1 - 173)"
   ]
  },
  {
   "cell_type": "markdown",
   "metadata": {},
   "source": [
    "__4 - Sia a = 27387.15467. Calcolate la radice quadrata di a. Moltiplicate il risultato per se stesso.__"
   ]
  },
  {
   "cell_type": "code",
   "execution_count": 11,
   "metadata": {
    "tags": []
   },
   "outputs": [
    {
     "name": "stdout",
     "output_type": "stream",
     "text": [
      "165.49064828563576 27387.154669999996\n"
     ]
    }
   ],
   "source": [
    "a = 27387.15467\n",
    "b = a**0.5\n",
    "print(b,b*b)"
   ]
  },
  {
   "cell_type": "markdown",
   "metadata": {},
   "source": [
    "__5 - Verificate numericamente che per qualunque `a`, `b`, `c`,`d` reali, \n",
    "$(a + i b)\\,(c + i d) = a c - b d + i\\, (a d + b c)$.__"
   ]
  },
  {
   "cell_type": "code",
   "execution_count": 4,
   "metadata": {},
   "outputs": [
    {
     "data": {
      "text/plain": [
       "((2+10j), (2+10j))"
      ]
     },
     "execution_count": 4,
     "metadata": {},
     "output_type": "execute_result"
    }
   ],
   "source": [
    "def compl(a,b,c,d):\n",
    "    z = a + 1j*b\n",
    "    w = c + 1j*d\n",
    "    x = a*c - b*d + 1j*(a*d + b*c)\n",
    "    return z*w,x\n",
    "compl(3,2,2,2)\n",
    "    "
   ]
  },
  {
   "cell_type": "markdown",
   "metadata": {},
   "source": [
    "__6 - Verificate numericamente che per qualunque `a`, `b` reali, \n",
    "$1/(a + i b) = (a - i b)/(a^2 + b^2)$.__"
   ]
  },
  {
   "cell_type": "code",
   "execution_count": 14,
   "metadata": {},
   "outputs": [
    {
     "data": {
      "text/plain": [
       "True"
      ]
     },
     "execution_count": 14,
     "metadata": {},
     "output_type": "execute_result"
    }
   ],
   "source": [
    "1 / (a+1j*b) == (a-1j*b)/((a**2)+(b**2))"
   ]
  },
  {
   "cell_type": "markdown",
   "metadata": {},
   "source": [
    "__7 - Dato un numero intero `N` determinare il numero di cifre che lo compongono.__"
   ]
  },
  {
   "cell_type": "code",
   "execution_count": 16,
   "metadata": {},
   "outputs": [
    {
     "data": {
      "text/plain": [
       "4"
      ]
     },
     "execution_count": 16,
     "metadata": {},
     "output_type": "execute_result"
    }
   ],
   "source": [
    "def numero_cifre(N):\n",
    "    N_str = str(N)\n",
    "    return len(N_str)\n",
    "numero_cifre(5849)"
   ]
  },
  {
   "cell_type": "markdown",
   "metadata": {},
   "source": [
    "__8 - Dato un numero reale `R` determinare il numero di cifre che compongono la sua parte intera e quella decimale.(Hint: usare le stringhe. Questo metodo funziona solo se il numero reale ha un numero di cifre non superiore a 14$\\div$15. Qual'è la ragione?__"
   ]
  },
  {
   "cell_type": "code",
   "execution_count": 123,
   "metadata": {},
   "outputs": [
    {
     "data": {
      "text/plain": [
       "(3, 5)"
      ]
     },
     "execution_count": 123,
     "metadata": {},
     "output_type": "execute_result"
    }
   ],
   "source": [
    "def func(n):\n",
    "    n_str = str(n)\n",
    "    parte_intera = n_str.index(\".\") \n",
    "    parte_decimale = len(n_str) - 1 - parte_intera\n",
    "    return parte_intera, parte_decimale\n",
    "func(451.23333)"
   ]
  },
  {
   "cell_type": "markdown",
   "metadata": {},
   "source": [
    "__9 - Generate la lista A dei numeri interi fra 7 e 37.__"
   ]
  },
  {
   "cell_type": "code",
   "execution_count": 54,
   "metadata": {},
   "outputs": [],
   "source": [
    "a = list(range(8,37))"
   ]
  },
  {
   "cell_type": "markdown",
   "metadata": {},
   "source": [
    "__10- Generate la lista B dei numeri pari fra 50 e 100, estremi inclusi__"
   ]
  },
  {
   "cell_type": "code",
   "execution_count": 57,
   "metadata": {},
   "outputs": [],
   "source": [
    "a = list(range(50,101,2))"
   ]
  },
  {
   "cell_type": "markdown",
   "metadata": {},
   "source": [
    "__11 - Costruite la lista L1 dei numeri pari fra 16 e 42, estremi inclusi. A partire da L1 costruite la lista L2 che contiene gli stessi valori in ordine decrescente.__"
   ]
  },
  {
   "cell_type": "code",
   "execution_count": 62,
   "metadata": {},
   "outputs": [
    {
     "name": "stdout",
     "output_type": "stream",
     "text": [
      "[42, 40, 38, 36, 34, 32, 30, 28, 26, 24, 22, 20, 18, 16]\n"
     ]
    }
   ],
   "source": [
    "a = list(range(16,43,2))\n",
    "b = sorted(a,reverse=True)\n",
    "print(b)"
   ]
  },
  {
   "cell_type": "markdown",
   "metadata": {},
   "source": [
    "__12 - Costruite la lista A dei numeri pari fra 11 e 33. Estraete da A la lista B che contiene gli elementi di indice da 3 a 8.__"
   ]
  },
  {
   "cell_type": "code",
   "execution_count": 65,
   "metadata": {},
   "outputs": [
    {
     "name": "stdout",
     "output_type": "stream",
     "text": [
      "[11, 13, 15, 17, 19, 21, 23, 25, 27, 29, 31]\n"
     ]
    },
    {
     "data": {
      "text/plain": [
       "[17, 19, 21, 23, 25, 27]"
      ]
     },
     "execution_count": 65,
     "metadata": {},
     "output_type": "execute_result"
    }
   ],
   "source": [
    "a = list(range(11,33,2))\n",
    "print(a)\n",
    "a[3:9]\n"
   ]
  },
  {
   "cell_type": "markdown",
   "metadata": {},
   "source": [
    "__13 - Da \"Nel mezzo del cammin di nostra vita mi ritrovai in una selva oscura.\" estraete la nona parola__"
   ]
  },
  {
   "cell_type": "code",
   "execution_count": 76,
   "metadata": {},
   "outputs": [
    {
     "data": {
      "text/plain": [
       "'ritrovai'"
      ]
     },
     "execution_count": 76,
     "metadata": {},
     "output_type": "execute_result"
    }
   ],
   "source": [
    "f = \"Nel mezzo del cammin di nostra vita mi ritrovai in una selva oscura.\"\n",
    "f = f.split()\n",
    "f[8]"
   ]
  },
  {
   "cell_type": "markdown",
   "metadata": {},
   "source": [
    "__14 - Costruite una funzione che estragga da una stringa in input il primo e il penultimo carattere.\n",
    "Come ci si può proteggere nel caso in cui la stringa abbia zero o un carattere? (La risposta nella prossima lezione.)__\n",
    "\n",
    "__Test:__\n",
    "\n",
    "* Input: \"gF20\"\n",
    "* Output: \"primo carattere: g, penultimo carattere: 2\""
   ]
  },
  {
   "cell_type": "code",
   "execution_count": 82,
   "metadata": {},
   "outputs": [
    {
     "data": {
      "text/plain": [
       "('g', '2')"
      ]
     },
     "execution_count": 82,
     "metadata": {},
     "output_type": "execute_result"
    }
   ],
   "source": [
    "def pri_pen(N):\n",
    "    primo = N[0]\n",
    "    penul = N[-2]\n",
    "    return primo, penul\n",
    "\n",
    "pri_pen('gF20')"
   ]
  },
  {
   "cell_type": "markdown",
   "metadata": {},
   "source": [
    "__15 - Usando le operazione su stringhe costruite una funzione `last_digit_string(n)` che restituisca l'ultima cifra del numero intero `n`. Esempio: `last_digit_string(347)` deve restituire il numero intero `7`.__"
   ]
  },
  {
   "cell_type": "code",
   "execution_count": 85,
   "metadata": {},
   "outputs": [
    {
     "data": {
      "text/plain": [
       "'8'"
      ]
     },
     "execution_count": 85,
     "metadata": {},
     "output_type": "execute_result"
    }
   ],
   "source": [
    "def last_digit_string(n):\n",
    "    n_str = str(n)\n",
    "    last = n_str[-1]\n",
    "    return last\n",
    "last_digit_string(53278)"
   ]
  },
  {
   "cell_type": "markdown",
   "metadata": {},
   "source": [
    "__16 - Dato il dizionario:__"
   ]
  },
  {
   "cell_type": "code",
   "execution_count": 86,
   "metadata": {},
   "outputs": [],
   "source": [
    "capitali = {\"Germania\":\"Berlino\",\"Spagna\":\"Madrid\"}"
   ]
  },
  {
   "cell_type": "markdown",
   "metadata": {},
   "source": [
    "__aggiungete (usando comandi di Python) Italia e Francia con le rispettive capitali.__"
   ]
  },
  {
   "cell_type": "code",
   "execution_count": 93,
   "metadata": {},
   "outputs": [
    {
     "data": {
      "text/plain": [
       "{'Germania': 'Berlino',\n",
       " 'Spagna': 'Madrid',\n",
       " 'Italia': 'Roma',\n",
       " 'Francia': 'Parigi'}"
      ]
     },
     "execution_count": 93,
     "metadata": {},
     "output_type": "execute_result"
    }
   ],
   "source": [
    "capitali = {\"Germania\":\"Berlino\",\"Spagna\":\"Madrid\"}\n",
    "capitali[\"Italia\"] = \"Roma\"\n",
    "capitali[\"Francia\"] = \"Parigi\"\n",
    "capitali"
   ]
  },
  {
   "cell_type": "markdown",
   "metadata": {},
   "source": [
    "__17 - Generate un dizionario `mesi` che abbia come chiavi i nomi dei mesi e come valori i corripondenti valori numerici. Per esempio Giugno corrisponde a 6.__"
   ]
  },
  {
   "cell_type": "code",
   "execution_count": 142,
   "metadata": {},
   "outputs": [
    {
     "data": {
      "text/plain": [
       "True"
      ]
     },
     "execution_count": 142,
     "metadata": {},
     "output_type": "execute_result"
    }
   ],
   "source": [
    "n = list(range(1,13))\n",
    "mesi = [\"Gen\",\"Feb\",\"Mar\",\"Apr\",\"Mag\",\"Giu\",\"Lug\",\"Ago\",\"Set\",\"Ott\",\"Nov\",\"Dic\"]\n",
    "mesi_dic = dict(zip(n,mesi))"
   ]
  },
  {
   "cell_type": "markdown",
   "metadata": {},
   "source": [
    "__18 - Senza usare la funzione intrinseca di Python per invertire l'ordine di una lista, costruite la vostra funzione `my_reverse` che prende in input una lista `L` e la restituisce con tutti gli elementi in ordine inverso.__"
   ]
  },
  {
   "cell_type": "code",
   "execution_count": 143,
   "metadata": {},
   "outputs": [
    {
     "data": {
      "text/plain": [
       "[9, 8, 7, 6, 5, 4, 3, 2, 1]"
      ]
     },
     "execution_count": 143,
     "metadata": {},
     "output_type": "execute_result"
    }
   ],
   "source": [
    "def my_reverse(l):\n",
    "    L = l[::-1]\n",
    "    return L\n",
    "my_reverse(list(range(1,10)))"
   ]
  },
  {
   "cell_type": "markdown",
   "metadata": {},
   "source": [
    "__19 - Definiamo \"parole\" come sequenze di caratteri diversi dallo spazio, separate da spazi. Costruite una funzione `last_word(s)` che restituisca l'ultima parola in `s`, cioè la sottostringa che inizia dopo l'ultimo carattere \"spazio\" in `s`. Se la stringa non contiene spazi, la stringa stessa è l'ultima parola.__"
   ]
  },
  {
   "cell_type": "code",
   "execution_count": 98,
   "metadata": {},
   "outputs": [
    {
     "data": {
      "text/plain": [
       "'kd'"
      ]
     },
     "execution_count": 98,
     "metadata": {},
     "output_type": "execute_result"
    }
   ],
   "source": [
    "def last_word(s):\n",
    "    l = s.split()\n",
    "    w = l[-1]\n",
    "    return w\n",
    "last_word(\"k jf jsdlkfjskdla  jfkdfk afaoe kd\")\n",
    "    "
   ]
  },
  {
   "cell_type": "markdown",
   "metadata": {},
   "source": [
    "__20 - Costruite una funzione che prenda come input una lista di interi L e un intero n, contenuto nella lista, e restituisca l'indice dell'elemento n in L.__"
   ]
  },
  {
   "cell_type": "code",
   "execution_count": 104,
   "metadata": {},
   "outputs": [
    {
     "data": {
      "text/plain": [
       "0"
      ]
     },
     "execution_count": 104,
     "metadata": {},
     "output_type": "execute_result"
    }
   ],
   "source": [
    "def func(L,n):\n",
    "    x = L.index(n)\n",
    "    return x\n",
    "func([1,2,3,4],1)"
   ]
  },
  {
   "cell_type": "markdown",
   "metadata": {},
   "source": [
    "__21 - Usando `help(str)` esplorate l'uso del metodo count. Utilizzatelo per trovare quante volte il carattere `a` compare in \"Nel mezzo del cammin di nostra vita mi ritrovai in una selva oscura.__"
   ]
  },
  {
   "cell_type": "code",
   "execution_count": 106,
   "metadata": {},
   "outputs": [
    {
     "data": {
      "text/plain": [
       "7"
      ]
     },
     "execution_count": 106,
     "metadata": {},
     "output_type": "execute_result"
    }
   ],
   "source": [
    "a = \"Nel mezzo del cammin di nostra vita mi ritrovai in una selva oscura\"\n",
    "a.count(\"a\")"
   ]
  },
  {
   "cell_type": "markdown",
   "metadata": {},
   "source": [
    "__22 - Dato il dizionario: val = {1:100,2:200,3:300} verificate se nel dizionario è presente la chiave `3` e se è presente il valore `400`.__"
   ]
  },
  {
   "cell_type": "code",
   "execution_count": 132,
   "metadata": {},
   "outputs": [
    {
     "data": {
      "text/plain": [
       "True"
      ]
     },
     "execution_count": 132,
     "metadata": {},
     "output_type": "execute_result"
    }
   ],
   "source": [
    "val = {1:100,2:200,3:300,4:400}\n",
    "3 in val\n",
    "400 in val.values()"
   ]
  },
  {
   "cell_type": "markdown",
   "metadata": {},
   "source": [
    "__23 - Costruite una nuova ntupla `tuple2` estraendo i valori 44 e 55\n",
    "dalla ntupla tuple1 = (11, 22, 33, 44, 55, 66).__"
   ]
  },
  {
   "cell_type": "code",
   "execution_count": 118,
   "metadata": {},
   "outputs": [
    {
     "data": {
      "text/plain": [
       "(44, 55)"
      ]
     },
     "execution_count": 118,
     "metadata": {},
     "output_type": "execute_result"
    }
   ],
   "source": [
    "t1 = (11, 22, 33, 44, 55, 66)\n",
    "t2 = (t[3],t[4])\n",
    "t2"
   ]
  }
 ],
 "metadata": {
  "hide_input": false,
  "kernelspec": {
   "display_name": "Python 3 (ipykernel)",
   "language": "python",
   "name": "python3"
  },
  "language_info": {
   "codemirror_mode": {
    "name": "ipython",
    "version": 3
   },
   "file_extension": ".py",
   "mimetype": "text/x-python",
   "name": "python",
   "nbconvert_exporter": "python",
   "pygments_lexer": "ipython3",
   "version": "3.11.5"
  },
  "toc": {
   "base_numbering": 1,
   "nav_menu": {},
   "number_sections": true,
   "sideBar": true,
   "skip_h1_title": true,
   "title_cell": "Table of Contents",
   "title_sidebar": "Contents",
   "toc_cell": false,
   "toc_position": {},
   "toc_section_display": true,
   "toc_window_display": false
  },
  "varInspector": {
   "cols": {
    "lenName": 16,
    "lenType": 16,
    "lenVar": 40
   },
   "kernels_config": {
    "python": {
     "delete_cmd_postfix": "",
     "delete_cmd_prefix": "del ",
     "library": "var_list.py",
     "varRefreshCmd": "print(var_dic_list())"
    },
    "r": {
     "delete_cmd_postfix": ") ",
     "delete_cmd_prefix": "rm(",
     "library": "var_list.r",
     "varRefreshCmd": "cat(var_dic_list()) "
    }
   },
   "types_to_exclude": [
    "module",
    "function",
    "builtin_function_or_method",
    "instance",
    "_Feature"
   ],
   "window_display": false
  }
 },
 "nbformat": 4,
 "nbformat_minor": 4
}

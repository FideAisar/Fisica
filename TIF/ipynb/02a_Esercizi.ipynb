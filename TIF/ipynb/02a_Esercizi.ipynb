{
 "cells": [
  {
   "cell_type": "markdown",
   "metadata": {},
   "source": [
    "# Programmare in Python\n",
    "\n",
    "Leggete attentamente il testo di ciascun esercizio. Il primo passo deve essere la comprensione del problema, partendo dall'individuazione di quali dati sono necessari per calcolare la quantità richiesta.\n",
    "Assegnate i valori di input a delle variabili ed esprimete le formule necessarie in termini di queste variabili.\n",
    "Fate scrivere il risultato in modo chiaro e descrittivo.\n",
    "\n",
    "### Esempio\n",
    "\n",
    "__- Calcolare la somma di due numeri.__"
   ]
  },
  {
   "cell_type": "code",
   "execution_count": 7,
   "metadata": {
    "tags": []
   },
   "outputs": [
    {
     "data": {
      "text/plain": [
       "3"
      ]
     },
     "execution_count": 7,
     "metadata": {},
     "output_type": "execute_result"
    }
   ],
   "source": [
    "def somma(a,b):\n",
    "    c = a + b\n",
    "    return c\n",
    "\n",
    "somma(1,2)\n"
   ]
  },
  {
   "cell_type": "markdown",
   "metadata": {},
   "source": [
    "__- Scrivete una funzione che prenda come input due numeri n1 e n2 e restituisca la radice quadrata del loro prodotto.__"
   ]
  },
  {
   "cell_type": "code",
   "execution_count": 10,
   "metadata": {
    "tags": []
   },
   "outputs": [
    {
     "data": {
      "text/plain": [
       "3.4641016151377544"
      ]
     },
     "execution_count": 10,
     "metadata": {},
     "output_type": "execute_result"
    }
   ],
   "source": [
    "import math\n",
    "\n",
    "def func(n1,n2):\n",
    "    a = math.sqrt(n1*n2)\n",
    "    return a \n",
    "func(3,4)"
   ]
  },
  {
   "cell_type": "markdown",
   "metadata": {},
   "source": [
    "__Test della funzione:__"
   ]
  },
  {
   "cell_type": "code",
   "execution_count": 2,
   "metadata": {},
   "outputs": [
    {
     "data": {
      "text/plain": [
       "3.0"
      ]
     },
     "execution_count": 2,
     "metadata": {},
     "output_type": "execute_result"
    }
   ],
   "source": [
    "my_f(3,3.)"
   ]
  },
  {
   "cell_type": "code",
   "execution_count": 3,
   "metadata": {},
   "outputs": [
    {
     "name": "stdout",
     "output_type": "stream",
     "text": [
      "0.0\n"
     ]
    }
   ],
   "source": [
    "res = my_f(0.,3.9e+34)\n",
    "print(res)"
   ]
  },
  {
   "cell_type": "markdown",
   "metadata": {},
   "source": [
    "Trigonometria di base\n",
    "---------------------\n",
    "\n",
    "![](../Images/SinCos_def.gif)"
   ]
  },
  {
   "cell_type": "markdown",
   "metadata": {},
   "source": [
    "## Esercizi: Primi passi"
   ]
  },
  {
   "cell_type": "markdown",
   "metadata": {},
   "source": [
    "__1 - Calcolate:__\n",
    "- __Il coseno iperbolico di -37.5.__\n",
    "- __Il seno di 3.20 radianti.__\n",
    "- __Il coseno di 137.42 gradi.__\n",
    "- __L'angolo il cui seno è -0.001.__\n",
    "- __L'ipotenusa di un triangolo rettangolo i cui cateti misurano 4.5 metri e 7.82 metri.__"
   ]
  },
  {
   "cell_type": "code",
   "execution_count": 9,
   "metadata": {
    "tags": []
   },
   "outputs": [
    {
     "name": "stdout",
     "output_type": "stream",
     "text": [
      "9660799652201418.0 -0.058374143427580086 -0.7363333165553093 -0.0010000001666667416 9.022327859261157 3.141592653589793\n"
     ]
    }
   ],
   "source": [
    "import math\n",
    "a = math.cosh(-37.5)\n",
    "b = math.sin(3.20)\n",
    "c = math.cos(math.radians(137.42))\n",
    "d = math.asin(-0.001)\n",
    "i = math.sqrt((4.5**2) + (7.82**2))\n",
    "f = math.radians(180)\n",
    "print(a,b,c,d,i,f)"
   ]
  },
  {
   "cell_type": "markdown",
   "metadata": {},
   "source": [
    "__2 - Assegnate alla variabile `pippo` il valore 6.2.__<BR>\n",
    "__Calcolate:__\n",
    "- __Il quadrato di `pippo`.__\n",
    "- __L'esponenziale di -`pippo`.__\n",
    "- __La radice terza di `pippo` alla quarta potenza.__\n",
    "- __L'inverso di `pippo`.__   \n"
   ]
  },
  {
   "cell_type": "code",
   "execution_count": 13,
   "metadata": {
    "tags": []
   },
   "outputs": [
    {
     "name": "stdout",
     "output_type": "stream",
     "text": [
      "38.440000000000005 1.8370905500142276 0.16129032258064516\n"
     ]
    }
   ],
   "source": [
    "pippo = 6.2\n",
    "sq = pippo ** 2\n",
    "rad = pippo ** (1/3)\n",
    "inv = pippo ** (-1)\n",
    "print(sq,rad,inv)"
   ]
  },
  {
   "cell_type": "markdown",
   "metadata": {},
   "source": [
    "__3 - Verificare che la funzione `exp` ritorna $e^x$. Questo significa calcolare la funzione `exp` in punti `x` nei quali sappiamo quale deve essere il risultato e controllare che l'output della funzione coincida con il valore atteso.__"
   ]
  },
  {
   "cell_type": "code",
   "execution_count": 25,
   "metadata": {
    "tags": []
   },
   "outputs": [
    {
     "name": "stdout",
     "output_type": "stream",
     "text": [
      "2.718281828459045 2.718281828459045\n"
     ]
    }
   ],
   "source": [
    "import math\n",
    "a = math.exp(1)\n",
    "e = math.e\n",
    "print(a,e)"
   ]
  },
  {
   "cell_type": "markdown",
   "metadata": {},
   "source": [
    "__4 - Supponete di conoscere il seno e il coseno di un angolo alfa. Come si può trovare il valore di alfa? Provate la vostra soluzione per $\\pi/3$ e $7\\pi/6$.__"
   ]
  },
  {
   "cell_type": "code",
   "execution_count": 50,
   "metadata": {
    "tags": []
   },
   "outputs": [
    {
     "name": "stdout",
     "output_type": "stream",
     "text": [
      "30.000000000000004\n"
     ]
    }
   ],
   "source": [
    "import math\n",
    "\n",
    "sina = 1 / 2\n",
    "cosa = math.sqrt(3) / 2\n",
    "tana = sina / cosa\n",
    "a = math.atan(tana)\n",
    "\n",
    "print(math.degrees(a))"
   ]
  },
  {
   "cell_type": "markdown",
   "metadata": {},
   "source": [
    "__5 - Dato come input le coordinate cartesiane di un punto `p` del piano, trovare la distanza di `p` dall'origine e l'angolo che il vettore che unisce l'origine al punto `p` forma con l'asse `x` (rappresentazione polare).__"
   ]
  },
  {
   "cell_type": "code",
   "execution_count": 39,
   "metadata": {
    "tags": []
   },
   "outputs": [
    {
     "name": "stdout",
     "output_type": "stream",
     "text": [
      "2.23606797749979 63.43494882292201\n"
     ]
    }
   ],
   "source": [
    "import math\n",
    "x_p = 1\n",
    "y_p = 2\n",
    "\n",
    "d = math.sqrt((x_p**2)+(y_p**2))\n",
    "tan = y_p / x_p\n",
    "a = math.degrees(math.atan(tan))\n",
    "\n",
    "print(d,a)"
   ]
  },
  {
   "cell_type": "markdown",
   "metadata": {},
   "source": [
    "__6 - Dato come input la distanza dall'origine e l'angolo che un vettore bidimensionale `p` forma con l'asse `x` (rappresentazione polare), trovare le componenti lungo gli assi.__"
   ]
  },
  {
   "cell_type": "code",
   "execution_count": 53,
   "metadata": {
    "tags": []
   },
   "outputs": [
    {
     "name": "stdin",
     "output_type": "stream",
     "text": [
      "distanza da O:  1.4142\n",
      "angolo in gradi con asse x:  45\n"
     ]
    },
    {
     "name": "stdout",
     "output_type": "stream",
     "text": [
      "0.9999904099540156 0.9999904099540156\n"
     ]
    }
   ],
   "source": [
    "import math\n",
    "d = float(input(\"distanza da O: \"))\n",
    "a = int(input(\"angolo in gradi con asse x: \"))\n",
    "    \n",
    "y = math.sin(math.radians(a)) * d\n",
    "x = math.cos(math.radians(a)) * d\n",
    "\n",
    "print(x,y)\n"
   ]
  },
  {
   "cell_type": "markdown",
   "metadata": {},
   "source": [
    "__7 - Le radici di una equazione algebrica di grado $n$, $y(x) = a_n x^n + \\cdots + a_1 x +a_0$, sono i valori di $x$ per cui $y = 0$. Che cosa devo conoscere per calcolare la radice di un'equazione algebrica di primo grado? Ovvero, quali sono gli input necessari? Come devo combinare questi input?__"
   ]
  },
  {
   "cell_type": "code",
   "execution_count": 59,
   "metadata": {
    "tags": []
   },
   "outputs": [
    {
     "name": "stdin",
     "output_type": "stream",
     "text": [
      "valore di m:  2\n",
      "valore di q:  1\n"
     ]
    },
    {
     "name": "stdout",
     "output_type": "stream",
     "text": [
      "lo zero è:  -0.5\n"
     ]
    }
   ],
   "source": [
    "# se y = mx + q   ->   y = 0   ->  mx = -q  ->  x = -q/m\n",
    "m = float(input(\"valore di m: \"))\n",
    "q = float(input(\"valore di q: \"))\n",
    "\n",
    "x = -(q / m)\n",
    "\n",
    "print(\"lo zero è: \",x)"
   ]
  },
  {
   "cell_type": "markdown",
   "metadata": {},
   "source": [
    "__8 - Dato come input un angolo `alfa`, calcolare il seno e il coseno di 2\\*alfa usando le formule di duplicazione.\n",
    "Calcolare la differenza relativa fra il risultato ottenuto e quello che si ottiene calcolando direttamente sin(2\\*alfa) e cos(2\\*alfa).__"
   ]
  },
  {
   "cell_type": "code",
   "execution_count": 32,
   "metadata": {
    "tags": []
   },
   "outputs": [
    {
     "name": "stdout",
     "output_type": "stream",
     "text": [
      "Tramite formule di duplicazione: sin(2a)= 0.8660254037844386  cos(2a)= 0.5000000000000002\n",
      "Tramite duplicazione di python: sin(2a)= 0.8660254037844386  cos(2a)= 0.5000000000000001\n",
      "La dfferenza tra i due seni e i due coseni è rispettivamente di:  0.0 -1.1102230246251565e-16\n"
     ]
    }
   ],
   "source": [
    "import math\n",
    "\n",
    "a = 30\n",
    "\n",
    "sin2 = 2*math.sin(math.radians(a))*math.cos(math.radians(a))\n",
    "cos2 = (math.cos(math.radians(a))**2) - (math.sin(math.radians(a))**2)\n",
    "\n",
    "sin2_1 = math.sin(math.radians(2*a))\n",
    "cos2_1 = math.cos(math.radians(2*a))\n",
    "\n",
    "delta_sin = sin2_1 - sin2\n",
    "delta_cos = cos2_1 - cos2\n",
    "\n",
    "print(\"Tramite formule di duplicazione: sin(2a)=\",sin2,\" cos(2a)=\",cos2)\n",
    "print(\"Tramite duplicazione di python: sin(2a)=\",sin2_1,\" cos(2a)=\",cos2_1)\n",
    "print(\"La dfferenza tra i due seni e i due coseni è rispettivamente di: \",delta_sin,delta_cos)"
   ]
  },
  {
   "cell_type": "markdown",
   "metadata": {},
   "source": [
    "__9 - Dato un capitale iniziale C, il tasso di interesse annuale T e il numero di anni N, calcolare il capitale alla scadenza, assumendo che alla fine di ogni anno gli interessi vengano aggiunti al capitale. Suggerimento: alla fine del primo anno il capitale è C*(1+T).__"
   ]
  },
  {
   "cell_type": "code",
   "execution_count": 49,
   "metadata": {
    "tags": []
   },
   "outputs": [
    {
     "name": "stdout",
     "output_type": "stream",
     "text": [
      "18009.435055069163\n"
     ]
    }
   ],
   "source": [
    "c = 10000\n",
    "t = 0.04\n",
    "n = 15\n",
    "\n",
    "c = c*(1+t)**n\n",
    "\n",
    "print(c)"
   ]
  },
  {
   "cell_type": "markdown",
   "metadata": {},
   "source": [
    "__10 - Calcolare il punto medio di un segmento nel piano. Che input sono necessari?__"
   ]
  },
  {
   "cell_type": "code",
   "execution_count": 35,
   "metadata": {
    "tags": []
   },
   "outputs": [
    {
     "data": {
      "text/plain": [
       "(2.0, 3.0)"
      ]
     },
     "execution_count": 35,
     "metadata": {},
     "output_type": "execute_result"
    }
   ],
   "source": [
    "def punto_medio(xa,ya,xb,yb):\n",
    "    x_medio = (xa + xb) / 2\n",
    "    y_medio = (ya + yb) / 2\n",
    "    return x_medio,y_medio\n",
    "punto_medio(1,2,3,4)"
   ]
  },
  {
   "cell_type": "markdown",
   "metadata": {},
   "source": [
    "__11 - scrivete una funzione f(n) che, dato un numero intero n minore di 10, calcoli n + nn + nnn (per esempio se n=2 calcoli 2 + 22 + 222).__"
   ]
  },
  {
   "cell_type": "code",
   "execution_count": 5,
   "metadata": {
    "tags": []
   },
   "outputs": [
    {
     "data": {
      "text/plain": [
       "1107"
      ]
     },
     "execution_count": 5,
     "metadata": {},
     "output_type": "execute_result"
    }
   ],
   "source": [
    "def func(n):\n",
    "    nn = int(str(n) + str(n))\n",
    "    nnn = int(str(n) + str(n) + str(n))\n",
    "    return n+nn+nnn\n",
    "func(9)"
   ]
  },
  {
   "cell_type": "markdown",
   "metadata": {},
   "source": [
    "__12 - Scrivete una funzione che prenda come input le coordinate di un punto del piano, `px` e `py,` e restituisca la sua distanza dall'origine. Verificate la vostra soluzione per i punti (0,3), (1,2), (3,4).__"
   ]
  },
  {
   "cell_type": "code",
   "execution_count": 9,
   "metadata": {
    "tags": []
   },
   "outputs": [
    {
     "data": {
      "text/plain": [
       "5.0"
      ]
     },
     "execution_count": 9,
     "metadata": {},
     "output_type": "execute_result"
    }
   ],
   "source": [
    "def dist(px,py):\n",
    "    r = ( (px**2) + (py**2))**(1/2)\n",
    "    return r\n",
    "dist(3,4)"
   ]
  },
  {
   "cell_type": "markdown",
   "metadata": {},
   "source": [
    "__13 - L'aliquota IVA è il 22%. Scrivete una funzione che prenda come input il prezzo di vendita di un prodotto in euro, `p`, e restituisca il prezzo prima di applicare l'IVA e l'imposta applicata.__"
   ]
  },
  {
   "cell_type": "code",
   "execution_count": 10,
   "metadata": {
    "tags": []
   },
   "outputs": [
    {
     "data": {
      "text/plain": [
       "(81.9672131147541, 18.032786885245898)"
      ]
     },
     "execution_count": 10,
     "metadata": {},
     "output_type": "execute_result"
    }
   ],
   "source": [
    "def ali(p):\n",
    "    p_o = p / 1.22\n",
    "    diff = p-p_o\n",
    "    return p_o,diff\n",
    "ali(100)"
   ]
  },
  {
   "cell_type": "markdown",
   "metadata": {},
   "source": [
    "__14 - Scrivete una funzione che prenda come input la lunghezza, `L` di un lato di un triangolo e l'altezza corrispondente, `H`, e restituisca l'area del triangolo. Verificate che la funzione sia corretta applicandola a casi di cui potete calcolare facilmente il risultato.__"
   ]
  },
  {
   "cell_type": "code",
   "execution_count": 12,
   "metadata": {
    "tags": []
   },
   "outputs": [
    {
     "data": {
      "text/plain": [
       "2.5"
      ]
     },
     "execution_count": 12,
     "metadata": {},
     "output_type": "execute_result"
    }
   ],
   "source": [
    "def tri(L,H):\n",
    "    a = (L*H)/2\n",
    "    return a\n",
    "tri(5,1)"
   ]
  },
  {
   "cell_type": "markdown",
   "metadata": {},
   "source": [
    "__15 - Scrivete una funzione che prenda come input le lunghezze dei tre lati di un triangolo e restituisca l'area usando la formula di Erone (Cercatela su Google!). Verificate la risposta. Posso scegliere qualunque valore per le lunghezze dei tre lati?__"
   ]
  },
  {
   "cell_type": "code",
   "execution_count": 18,
   "metadata": {
    "tags": []
   },
   "outputs": [
    {
     "data": {
      "text/plain": [
       "77.76888838089432"
      ]
     },
     "execution_count": 18,
     "metadata": {},
     "output_type": "execute_result"
    }
   ],
   "source": [
    "def erone(a,b,c):\n",
    "    p = a + b + c\n",
    "    a = (p*(p-a)*(p-b)*(p-c))**(1/2)\n",
    "    return a\n",
    "erone(3,4,5)"
   ]
  },
  {
   "cell_type": "markdown",
   "metadata": {},
   "source": [
    "__16 - Scrivete una funzione che calcoli la superficie e il volume di un cilindro. Quali sono gli input necessari?__"
   ]
  },
  {
   "cell_type": "code",
   "execution_count": 19,
   "metadata": {
    "tags": []
   },
   "outputs": [
    {
     "data": {
      "text/plain": [
       "(87.96459430051421, 125.66370614359172)"
      ]
     },
     "execution_count": 19,
     "metadata": {},
     "output_type": "execute_result"
    }
   ],
   "source": [
    "import math\n",
    "def cili(r,h):\n",
    "    a = (math.pi * r**2)*2\n",
    "    l = h*(2*r*math.pi)\n",
    "    s = a + l\n",
    "    v = h*a\n",
    "    return s,v\n",
    "cili(2,5)"
   ]
  },
  {
   "cell_type": "markdown",
   "metadata": {},
   "source": [
    "__17 - Scrivete una funzione prenda come input il raggio `R` di una circonferenza e un angolo `theta`. La funzione restituisca la lunghezza dell'arco di circonferenza corrispondente all'input.__"
   ]
  },
  {
   "cell_type": "code",
   "execution_count": 21,
   "metadata": {
    "tags": []
   },
   "outputs": [
    {
     "data": {
      "text/plain": [
       "1.5707963267948966"
      ]
     },
     "execution_count": 21,
     "metadata": {},
     "output_type": "execute_result"
    }
   ],
   "source": [
    "import math\n",
    "def arc(r,theta):\n",
    "    c = math.pi*r*2\n",
    "    x = (c*theta)/360\n",
    "    return x\n",
    "arc(1,90)"
   ]
  },
  {
   "cell_type": "markdown",
   "metadata": {},
   "source": [
    "__18 - Scrivete una funzione che calcoli l'area di un settore circolare di angolo al centro `theta`.__"
   ]
  },
  {
   "cell_type": "code",
   "execution_count": 25,
   "metadata": {
    "tags": []
   },
   "outputs": [
    {
     "data": {
      "text/plain": [
       "0.17453292519943295"
      ]
     },
     "execution_count": 25,
     "metadata": {},
     "output_type": "execute_result"
    }
   ],
   "source": [
    "import math\n",
    "def set(r,theta):\n",
    "    a = math.pi*(r**2)\n",
    "    x = (a*theta)/360\n",
    "    return x\n",
    "set(1,20)"
   ]
  },
  {
   "cell_type": "markdown",
   "metadata": {},
   "source": [
    "__19 - Scrivete una funzione che restituisca la radice quadrata e l'esponenziale di un numero `R`.__"
   ]
  },
  {
   "cell_type": "code",
   "execution_count": 27,
   "metadata": {
    "tags": []
   },
   "outputs": [
    {
     "data": {
      "text/plain": [
       "(3.0, 8103.083927575384)"
      ]
     },
     "execution_count": 27,
     "metadata": {},
     "output_type": "execute_result"
    }
   ],
   "source": [
    "import math\n",
    "def rad(r):\n",
    "    sq = math.sqrt(r)\n",
    "    ex = math.exp(r)\n",
    "    return sq,ex\n",
    "rad(9)"
   ]
  },
  {
   "cell_type": "markdown",
   "metadata": {},
   "source": [
    "__20 - Scrivere, senza usare la funzione `math.radians`, una funzione che trasformi un angolo da gradi a radianti.__"
   ]
  },
  {
   "cell_type": "code",
   "execution_count": 30,
   "metadata": {
    "tags": []
   },
   "outputs": [
    {
     "data": {
      "text/plain": [
       "0.5235987755982988"
      ]
     },
     "execution_count": 30,
     "metadata": {},
     "output_type": "execute_result"
    }
   ],
   "source": [
    "import math\n",
    "def deg_rad(a):\n",
    "    x = (math.pi*a)/180\n",
    "    return x\n",
    "deg_rad(30)"
   ]
  },
  {
   "cell_type": "markdown",
   "metadata": {},
   "source": [
    "__21 - Scrivere, senza usare la funzione `math.degrees`, una funzione che trasformi un angolo da radianti a gradi.__"
   ]
  },
  {
   "cell_type": "code",
   "execution_count": 35,
   "metadata": {
    "tags": []
   },
   "outputs": [
    {
     "data": {
      "text/plain": [
       "28.64788975654116"
      ]
     },
     "execution_count": 35,
     "metadata": {},
     "output_type": "execute_result"
    }
   ],
   "source": [
    "import math\n",
    "def rad_deg(a):\n",
    "    x = (180*a)/math.pi\n",
    "    return x\n",
    "rad_deg(0.5)"
   ]
  },
  {
   "cell_type": "markdown",
   "metadata": {},
   "source": [
    "__22 - Usate `math.radians` e `math.degrees` per verificare le vostre soluzioni agli esercizi 12 e 13.__"
   ]
  },
  {
   "cell_type": "code",
   "execution_count": 39,
   "metadata": {
    "tags": []
   },
   "outputs": [
    {
     "name": "stdout",
     "output_type": "stream",
     "text": [
      "0.5235987755982988 28.64788975654116\n"
     ]
    }
   ],
   "source": [
    "import math\n",
    "\n",
    "a = math.radians(30)\n",
    "b = math.degrees(0.5)\n",
    "\n",
    "print(a,b)"
   ]
  },
  {
   "cell_type": "markdown",
   "metadata": {},
   "source": [
    "__23 - Scrivete una unica funzione che restituisca le seguenti espressioni:__\n",
    "\n",
    "$$ a = \\frac{3 + e^{2.3}}{\\sqrt{13} - 2}, \\quad   b = \\frac{1 - (0.5 + \\ln 2)^{1.4}}{1 + \\pi} , \\quad  c = \\sin\\left( \\frac{2 - \\sqrt{2}}{2 - \\sqrt{2}}\\right)$$\n",
    "\n",
    "__Quali input sono necessari?__"
   ]
  },
  {
   "cell_type": "code",
   "execution_count": 48,
   "metadata": {
    "tags": []
   },
   "outputs": [],
   "source": [
    "def func():\n",
    "    a = (3+math.exp(2.3))/(math.sqrt(13)-2)\n",
    "    b = (1-(0.5+math.log(2))**1.4)/(1+math.pi)\n",
    "    c = math.sin((2-math.sqrt(2))/(-math.sqrt(2)))\n",
    "    return a,b,c"
   ]
  },
  {
   "cell_type": "markdown",
   "metadata": {},
   "source": [
    "__24 - Scrivere una funzione che calcoli l'area di un triangolo usando la lunghezza di due lati adiacenti e l'ampiezza dell'angolo compreso.__"
   ]
  },
  {
   "cell_type": "code",
   "execution_count": 44,
   "metadata": {
    "tags": []
   },
   "outputs": [
    {
     "data": {
      "text/plain": [
       "6.0"
      ]
     },
     "execution_count": 44,
     "metadata": {},
     "output_type": "execute_result"
    }
   ],
   "source": [
    "def area(a,b,theta):\n",
    "    s = (a*b*math.sin(math.radians(theta)))/2\n",
    "    return s\n",
    "area(3,4,90)"
   ]
  },
  {
   "cell_type": "markdown",
   "metadata": {},
   "source": [
    "__25 - Dato come input il tempo `T`,  calcolare la posizione di un corpo di massa `M` che si muove, lungo la verticale, nel campo gravitazionale terrestre con `g = 9.81 m/s**2`. Quali informazioni sono necessarie per poter rispondere? Scrivere una funzione che fornisca la risposta.__"
   ]
  },
  {
   "cell_type": "code",
   "execution_count": 53,
   "metadata": {
    "tags": []
   },
   "outputs": [
    {
     "data": {
      "text/plain": [
       "14.905000000000001"
      ]
     },
     "execution_count": 53,
     "metadata": {},
     "output_type": "execute_result"
    }
   ],
   "source": [
    "# l'accelerazione è positiva se cado, negativa se salgo\n",
    "def pos(s_0,v_0,t):\n",
    "    a = 9.81\n",
    "    s = (a*(t**2))/2 + (v_0)*t + s_0\n",
    "    return s\n",
    "pos(0,10,1)"
   ]
  },
  {
   "cell_type": "markdown",
   "metadata": {},
   "source": [
    "__26 - Determinare il maggiore fra $100^{99}$ e $\\,99^{100}$.__"
   ]
  },
  {
   "cell_type": "code",
   "execution_count": 54,
   "metadata": {
    "tags": []
   },
   "outputs": [
    {
     "data": {
      "text/plain": [
       "1000000000000000000000000000000000000000000000000000000000000000000000000000000000000000000000000000000000000000000000000000000000000000000000000000000000000000000000000000000000000000000000000000000"
      ]
     },
     "execution_count": 54,
     "metadata": {},
     "output_type": "execute_result"
    }
   ],
   "source": [
    "a = 100**99\n",
    "b = 99**100\n",
    "min(a,b)\n"
   ]
  },
  {
   "cell_type": "markdown",
   "metadata": {},
   "source": [
    "## Per ripassare"
   ]
  },
  {
   "cell_type": "markdown",
   "metadata": {},
   "source": [
    "__Scrivete una funzione che calcoli la velocità di fuga da un corpo celeste di massa `M` e raggio `R`.\n",
    "Testate la funzione con i dati della Terra e della Luna.__"
   ]
  },
  {
   "cell_type": "markdown",
   "metadata": {
    "tags": []
   },
   "source": [
    "$$\n",
    "\\text{Lavoro forza di gravità = Energia cinetica} \\\\\n",
    "\\vec{F_g}\\cdot r = \\frac{1}{2}mv^2 \\\\\n",
    "2G\\frac{Mm}{r^2}\\cdot r = mv^2 \\\\\n",
    "\\frac{2GM}{r} = v^2 \\\\\n",
    "v = \\sqrt{\\frac{2GM}{r}}\n",
    "$$"
   ]
  },
  {
   "cell_type": "code",
   "execution_count": 56,
   "metadata": {
    "tags": []
   },
   "outputs": [
    {
     "name": "stdout",
     "output_type": "stream",
     "text": [
      "11178.975411511376\n"
     ]
    }
   ],
   "source": [
    "# Terra\n",
    "#M = 5.9726*(10**24)\n",
    "#r = 6378000\n",
    "def vel(M,r)\n",
    "    G = 6.6726*(10**(-11))\n",
    "    v = (math.sqrt((2*G*M)/r)) \n",
    "    return v\n",
    "vel()"
   ]
  }
 ],
 "metadata": {
  "hide_input": false,
  "kernelspec": {
   "display_name": "Python 3 (ipykernel)",
   "language": "python",
   "name": "python3"
  },
  "language_info": {
   "codemirror_mode": {
    "name": "ipython",
    "version": 3
   },
   "file_extension": ".py",
   "mimetype": "text/x-python",
   "name": "python",
   "nbconvert_exporter": "python",
   "pygments_lexer": "ipython3",
   "version": "3.11.5"
  },
  "toc": {
   "base_numbering": 1,
   "nav_menu": {},
   "number_sections": true,
   "sideBar": true,
   "skip_h1_title": true,
   "title_cell": "Table of Contents",
   "title_sidebar": "Contents",
   "toc_cell": false,
   "toc_position": {},
   "toc_section_display": true,
   "toc_window_display": false
  },
  "varInspector": {
   "cols": {
    "lenName": 16,
    "lenType": 16,
    "lenVar": 40
   },
   "kernels_config": {
    "python": {
     "delete_cmd_postfix": "",
     "delete_cmd_prefix": "del ",
     "library": "var_list.py",
     "varRefreshCmd": "print(var_dic_list())"
    },
    "r": {
     "delete_cmd_postfix": ") ",
     "delete_cmd_prefix": "rm(",
     "library": "var_list.r",
     "varRefreshCmd": "cat(var_dic_list()) "
    }
   },
   "types_to_exclude": [
    "module",
    "function",
    "builtin_function_or_method",
    "instance",
    "_Feature"
   ],
   "window_display": false
  }
 },
 "nbformat": 4,
 "nbformat_minor": 4
}

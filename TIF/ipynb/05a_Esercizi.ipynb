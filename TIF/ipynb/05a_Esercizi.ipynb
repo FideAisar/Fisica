{
 "cells": [
  {
   "cell_type": "markdown",
   "metadata": {},
   "source": [
    "# Programmare in Python\n",
    "\n",
    "## Esercizi: Input - Output\n"
   ]
  },
  {
   "cell_type": "markdown",
   "metadata": {},
   "source": [
    "__1 - Usando le variabili `a = \"civette\"` e `b = \"comò\"`, scrivete sullo schermo \"Tre civette sul comò!\"__"
   ]
  },
  {
   "cell_type": "code",
   "execution_count": 2,
   "metadata": {
    "tags": []
   },
   "outputs": [
    {
     "name": "stdout",
     "output_type": "stream",
     "text": [
      "tre civette sul como\n"
     ]
    }
   ],
   "source": [
    "a = \"civette\"\n",
    "b = \"como\"\n",
    "print(f\"tre {a} sul {b}\")"
   ]
  },
  {
   "cell_type": "markdown",
   "metadata": {},
   "source": [
    "__2 - Scrivete una funzione `somma(x,y)` che quando si chiama somma(12,5) scriva sullo schermo: \"La somma di 12 più 5 vale 17\".__ "
   ]
  },
  {
   "cell_type": "code",
   "execution_count": 6,
   "metadata": {
    "tags": []
   },
   "outputs": [
    {
     "name": "stdout",
     "output_type": "stream",
     "text": [
      "la somma di 12 più 5 vale 17\n"
     ]
    }
   ],
   "source": [
    "def somma(x,y):\n",
    "    if x == 12 and y == 5:\n",
    "        print(f\"la somma di {x} più {y} vale {x+y}\")\n",
    "    else:\n",
    "        print('x e y errati')\n",
    "somma(12,5)"
   ]
  },
  {
   "cell_type": "markdown",
   "metadata": {},
   "source": [
    "__3 - Scrivete una funzione che prende come input un intero e restituisca la somma delle sue cifre dispari \n",
    "nella forma:__\n",
    "\n",
    "> La somma delle cifre dispari nel numero $n$ è $d$.\n",
    "\n",
    "__Test:__\n",
    "\n",
    "* Input: $-1381723$\n",
    "* Output: `La somma delle cifre dispari nel numero -1381723 è 15.`  \n",
    "  __($1+3+1+7+3 = 15$)__"
   ]
  },
  {
   "cell_type": "code",
   "execution_count": 1,
   "metadata": {
    "tags": []
   },
   "outputs": [
    {
     "name": "stdout",
     "output_type": "stream",
     "text": [
      "la somma delle cifre dispari del numero 123 è 4\n"
     ]
    }
   ],
   "source": [
    "n = 123\n",
    "def disp(n):\n",
    "    dispari = [int(i) for i in str(n) if int(i)%2 != 0]\n",
    "    return sum(dispari)\n",
    "print(f\"la somma delle cifre dispari del numero {n} è {disp(n)}\")"
   ]
  },
  {
   "cell_type": "markdown",
   "metadata": {},
   "source": [
    "__4 - Scrivete una funzione che prende come input un intero e restituisca la somma delle sue cifre di indice dispari (la cifra di indice 0 sia quella delle unità) nella forma:__\n",
    "\n",
    "> La somma delle cifre di indice dispari nel numero $n$ è $d$.\n",
    "\n",
    "__Test:__\n",
    "\n",
    "* Input: $-1381723$\n",
    "* Output: `La somma delle cifre di indice dispari nel numero -1381723 è 6.`  \n",
    "  __($2+1+3 = 6$)__"
   ]
  },
  {
   "cell_type": "code",
   "execution_count": 58,
   "metadata": {
    "tags": []
   },
   "outputs": [
    {
     "data": {
      "text/plain": [
       "6"
      ]
     },
     "execution_count": 58,
     "metadata": {},
     "output_type": "execute_result"
    }
   ],
   "source": [
    "def ind(n):\n",
    "    oddIndexes = [i for i in range(len(str(n))) if i%2 != 0]\n",
    "    oddEl = []\n",
    "    for i in oddIndexes:\n",
    "        oddEl.append(int(str(n)[i]))\n",
    "    return sum(oddEl)\n",
    "ind(1234)"
   ]
  },
  {
   "cell_type": "markdown",
   "metadata": {},
   "source": [
    "__5 - Scrivere una funzione che restituisca la rappresentazione esadecimale di un numero intero e stampi un messaggio informativo sullo schermo.__"
   ]
  },
  {
   "cell_type": "code",
   "execution_count": 61,
   "metadata": {
    "tags": []
   },
   "outputs": [
    {
     "name": "stdout",
     "output_type": "stream",
     "text": [
      "10 in esadecimale è 0xa\n"
     ]
    }
   ],
   "source": [
    "def exa(n):\n",
    "    hx = hex(n)\n",
    "    print(f\"{n} in esadecimale è {hx}\")\n",
    "exa(10)"
   ]
  },
  {
   "cell_type": "markdown",
   "metadata": {},
   "source": [
    "#### Gli esercizi che seguono richiedono l'uso di file."
   ]
  },
  {
   "cell_type": "markdown",
   "metadata": {},
   "source": [
    "__6 - Scrivere una funzione che restituisca la rappresentazione decimale di un numero intero in forma esadecimale e stampi un messaggio informativo nel file `decimal.txt`.__"
   ]
  },
  {
   "cell_type": "code",
   "execution_count": 67,
   "metadata": {
    "tags": []
   },
   "outputs": [],
   "source": [
    "hx = hex(n)\n",
    "file = open(\"decimal.txt\",\"w\")\n",
    "file.write(f\"{hx}\")\n",
    "exa(1000)"
   ]
  },
  {
   "cell_type": "markdown",
   "metadata": {},
   "source": [
    "__7 - Create un file `mydat.txt`. Usando il metodo `write` ele f-strings scrivete nel file la tabella:<br>__\n",
    "\n",
    "         0.7500        13.52          0.32\n",
    "         1.7885        12.11          0.92\n",
    "         2.8269        14.27          0.73\n",
    "         3.8654        16.60          2.06\n",
    "         "
   ]
  },
  {
   "cell_type": "code",
   "execution_count": 51,
   "metadata": {
    "tags": []
   },
   "outputs": [],
   "source": [
    "data = [[0.7500,13.52,0.32],[1.7885,12.11,0.92],[2.8269,14.27,0.73],[3.8654,16.60,2.06]]\n",
    "\n",
    "file = open(\"mydat.txt\",\"w\")\n",
    "for i in range(len(data)):\n",
    "    file.write(f\"|{data[i][0]:10.4f}|\"\n",
    "               f\"|{data[i][1]:10.2f}|\"\n",
    "               f\"|{data[i][2]:10.2f}|\\n\")\n",
    "file.close()"
   ]
  },
  {
   "cell_type": "markdown",
   "metadata": {},
   "source": [
    "__8 - Scrivete una funzione che prenda come input il nome di un file e un numero intero non negativo `n`, legga nel file `n` numeri interi (uno per riga) e restituisca la somma delle cifre più grandi di ciascun numero nel file.\n",
    "Se la cifra più grande compare più volte deve essere sommata una volta sola ($1777$ aggiunge alla somma solo $7$ e non $7+7+7$).__\n",
    "\n",
    "__Test:__\n",
    "\n",
    "* Input: $3, -1719, 1777, 111$ ($3$ vuol dire che ci sono $3$ tre numeri)\n",
    "* Output: `17`  \n",
    "  ($9+7+1 = 17$)"
   ]
  },
  {
   "cell_type": "code",
   "execution_count": 50,
   "metadata": {},
   "outputs": [
    {
     "data": {
      "text/plain": [
       "20"
      ]
     },
     "execution_count": 50,
     "metadata": {},
     "output_type": "execute_result"
    }
   ],
   "source": [
    "def func(file,n):\n",
    "    my_numbers = []\n",
    "    mx_digits = 0\n",
    "    with open(file,\"r\") as f:\n",
    "        for line in f:\n",
    "            my_numbers.append(line.strip())\n",
    "        for i in range(n):\n",
    "            mx_digits = mx_digits + int(max(my_numbers[i]))\n",
    "    return mx_digits\n",
    "func(\"myfile1.txt\",4)          \n"
   ]
  },
  {
   "cell_type": "markdown",
   "metadata": {},
   "source": [
    "__9 - Create un file `trees.csv` che contenga:__\n",
    "```\n",
    "#Name,Type,AverageHeight\n",
    "maple,Deciduous,18\n",
    "pine,Conifer,27\n",
    "Oak,Deciduous,14\n",
    "```\n",
    "__Leggete i dati dal file e stampate il contenuto nella forma:__\n",
    "```\n",
    "The X is a Y tree. Its average height is Z meters.\n",
    "```"
   ]
  },
  {
   "cell_type": "code",
   "execution_count": 9,
   "metadata": {},
   "outputs": [
    {
     "name": "stdout",
     "output_type": "stream",
     "text": [
      "The maple is a Deciduous tree. Its average height is 18 meters\n",
      "The pine is a Conifer tree. Its average height is 27 meters\n",
      "The Oak is a Deciduous tree. Its average height is 14 meters\n"
     ]
    }
   ],
   "source": [
    "with open(\"trees.csv\",\"r\") as f:\n",
    "    trees = []\n",
    "    for line in f:\n",
    "        trees.append(line.strip().split(','))\n",
    "    for i in range(1,len(trees)):\n",
    "        print(f\"The {trees[i][0]} is a {trees[i][1]} tree. Its average height is {int(trees[i][2])} meters\")"
   ]
  },
  {
   "cell_type": "markdown",
   "metadata": {},
   "source": [
    "__Extra: perchè i programmatori confondono sempre Halloween (Oct 31) con Natale (Dec 25)?Hint: octal.__"
   ]
  },
  {
   "cell_type": "code",
   "execution_count": null,
   "metadata": {},
   "outputs": [],
   "source": []
  }
 ],
 "metadata": {
  "hide_input": false,
  "kernelspec": {
   "display_name": "Python 3 (ipykernel)",
   "language": "python",
   "name": "python3"
  },
  "language_info": {
   "codemirror_mode": {
    "name": "ipython",
    "version": 3
   },
   "file_extension": ".py",
   "mimetype": "text/x-python",
   "name": "python",
   "nbconvert_exporter": "python",
   "pygments_lexer": "ipython3",
   "version": "3.11.5"
  },
  "toc": {
   "base_numbering": 1,
   "nav_menu": {},
   "number_sections": true,
   "sideBar": true,
   "skip_h1_title": true,
   "title_cell": "Table of Contents",
   "title_sidebar": "Contents",
   "toc_cell": false,
   "toc_position": {},
   "toc_section_display": true,
   "toc_window_display": false
  },
  "varInspector": {
   "cols": {
    "lenName": 16,
    "lenType": 16,
    "lenVar": 40
   },
   "kernels_config": {
    "python": {
     "delete_cmd_postfix": "",
     "delete_cmd_prefix": "del ",
     "library": "var_list.py",
     "varRefreshCmd": "print(var_dic_list())"
    },
    "r": {
     "delete_cmd_postfix": ") ",
     "delete_cmd_prefix": "rm(",
     "library": "var_list.r",
     "varRefreshCmd": "cat(var_dic_list()) "
    }
   },
   "types_to_exclude": [
    "module",
    "function",
    "builtin_function_or_method",
    "instance",
    "_Feature"
   ],
   "window_display": false
  }
 },
 "nbformat": 4,
 "nbformat_minor": 4
}

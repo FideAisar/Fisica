{
 "cells": [
  {
   "cell_type": "markdown",
   "metadata": {},
   "source": [
    "__Finiti gli esercizi, oppure il tempo a disposizione, salvate il notebook usando:__<BR>\n",
    "```\n",
    "File --> Save Notebook as\n",
    "```\n",
    "__usando il vostro cognome_nome come nome del file. Spedite il notebook, usando il vostro mailer preferito, a maina@to.infn.it, CON IL FILE IN ALLEGATO.__\n",
    "    \n",
    "Per determinare la cartella in cui il file viene salvato usate il comando `%pwd` in una cella a parte."
   ]
  },
  {
   "cell_type": "markdown",
   "metadata": {
    "tags": []
   },
   "source": [
    "### Esercizio 1\n",
    "__Scrivete una funzione, `mylist(lis,x1,x2)`, dove `lis` è una lista di numeri reali e `x1`,`x2` sono numeri reali con `x1 < x2`, che restituisca la lista degli elementi di `lis` che sono compresi fra `x1` e `x2`.__<BR>\n",
    "__Testate la funzione sulla lista: [1.7, -0.001, 17, 4.75, -12.2] con `x1 = -1` e `x2 = 5.3`.__"
   ]
  },
  {
   "cell_type": "code",
   "execution_count": 12,
   "metadata": {},
   "outputs": [
    {
     "name": "stdout",
     "output_type": "stream",
     "text": [
      "[1.7, -0.001, 4.75]\n"
     ]
    }
   ],
   "source": [
    "def mylist(lis,x1,x2):\n",
    "    sol=[ i for i in lis if x1<i<x2]\n",
    "    print(sol)\n",
    "mylist([1.7,-0.001,17,4.75,-12.2],-1,5.3)"
   ]
  },
  {
   "cell_type": "markdown",
   "metadata": {},
   "source": [
    "### Esercizio 2\n",
    "__I numeri di Fibonacci sono una successione di numeri interi definita da__\n",
    "$$ F(0) = 0,\\, F(1) = 1,\\, F(n) = F(n-1) + F(n-2) \\quad per\\,\\, n\\, >\\, 1.$$\n",
    "__I primi termini sono quindi 0, 1 , 1, 2, 3, 5, 8, ....__<BR>\n",
    "__Costruite una funzione `Fib(max)` che restituisca la lista dei numeri di Fibonacci minori o uguali a `max`.__<BR>\n",
    "__Suggerimento 1: in rete trovate un sacco di esempi che calcolano i numeri di Fibonacci come esempio di funzione recursiva. Non è quello che vi serve.__<BR>\n",
    "__Suggerimento 2: partite dalla lista [0,1].__<BR>\n",
    "__Per esempio `Fib(20)` deve restituire [0,1,1,2,3,5,8,13].__\n"
   ]
  },
  {
   "cell_type": "code",
   "execution_count": 1,
   "metadata": {
    "tags": []
   },
   "outputs": [
    {
     "data": {
      "text/plain": [
       "[0, 1, 1, 2, 3, 5]"
      ]
     },
     "execution_count": 1,
     "metadata": {},
     "output_type": "execute_result"
    }
   ],
   "source": [
    "def Fib(ma):\n",
    "    n=2\n",
    "    l=[0,1]\n",
    "    s=0\n",
    "    while s<=ma:\n",
    "        s=0\n",
    "        for i in range(len(l)-2,len(l)):\n",
    "            s=s+l[i]\n",
    "        l.append(s)\n",
    "    return l[0:len(l)-1]\n",
    "Fib(5)"
   ]
  },
  {
   "cell_type": "markdown",
   "metadata": {},
   "source": [
    "### Esercizio 3\n",
    "__Scrivete una funzione `mytype(lis)` che data una lista `lis` ritorni un dizionario che abbia come chiavi gli elementi di `lis` e come valori il loro tipo.__<BR>\n",
    "__Per esempio `mytype( [3.1,\"a\"] )` deve restituire &nbsp; {3.1: \"<class 'float'>\", \"a\": \"<class 'str'>\"}.__<BR>\n",
    "__Suggerimento: per ottenere il type di `var` in questo formato usate str(type(`var`)).__<BR>\n",
    "__Testate la funzione su: ['pippo', -1, 3.14, (1,2)].__"
   ]
  },
  {
   "cell_type": "code",
   "execution_count": 26,
   "metadata": {},
   "outputs": [
    {
     "data": {
      "text/plain": [
       "{3.1: float, 'a': str}"
      ]
     },
     "execution_count": 26,
     "metadata": {},
     "output_type": "execute_result"
    }
   ],
   "source": [
    "def mytype(lis):\n",
    "    d={}\n",
    "    for i in range(len(lis)):\n",
    "        d[lis[i]]=type(lis[i])\n",
    "    return d\n",
    "(mytype([3.1,\"a\"]))"
   ]
  },
  {
   "cell_type": "code",
   "execution_count": 32,
   "metadata": {},
   "outputs": [
    {
     "data": {
      "text/plain": [
       "{'pippo': str, -1: int, 3.14: float, (1, 2): tuple}"
      ]
     },
     "execution_count": 32,
     "metadata": {},
     "output_type": "execute_result"
    }
   ],
   "source": [
    "mytype(['pippo', -1, 3.14, (1,2)])"
   ]
  },
  {
   "cell_type": "markdown",
   "metadata": {
    "tags": []
   },
   "source": [
    "### Esercizio 4\n",
    "__Scrivete una funzione `mysave(L)` che accetti una lista di stringhe `L` e che le scriva, una per riga, nel file `frasi.txt`.  `mysave` deve chiudere il file prima di ritornare la stringa \"fatto\".__\n",
    "\n",
    "__Testate la funzione su: ['Spero', 'stiate', 'tutti bene', 'Un bacio', 'a zia Alice'].__"
   ]
  },
  {
   "cell_type": "code",
   "execution_count": 2,
   "metadata": {},
   "outputs": [
    {
     "data": {
      "text/plain": [
       "'fatto'"
      ]
     },
     "execution_count": 2,
     "metadata": {},
     "output_type": "execute_result"
    }
   ],
   "source": [
    "def mysave(L):\n",
    "    with open('frasi.txt', 'w') as frasi:\n",
    "        for item in L:\n",
    "            frasi.write(item)\n",
    "            frasi.write('\\n')\n",
    "        frasi.close()\n",
    "        return \"fatto\"\n",
    "mysave(['Spero', 'stiate', 'tutti bene', 'Un bacio','a zia Alice'])\n",
    "\n",
    "    "
   ]
  },
  {
   "cell_type": "code",
   "execution_count": null,
   "metadata": {},
   "outputs": [],
   "source": []
  }
 ],
 "metadata": {
  "kernelspec": {
   "display_name": "Python 3 (ipykernel)",
   "language": "python",
   "name": "python3"
  },
  "language_info": {
   "codemirror_mode": {
    "name": "ipython",
    "version": 3
   },
   "file_extension": ".py",
   "mimetype": "text/x-python",
   "name": "python",
   "nbconvert_exporter": "python",
   "pygments_lexer": "ipython3",
   "version": "3.11.5"
  }
 },
 "nbformat": 4,
 "nbformat_minor": 4
}

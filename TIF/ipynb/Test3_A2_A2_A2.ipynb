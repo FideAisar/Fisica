{
 "cells": [
  {
   "cell_type": "markdown",
   "metadata": {},
   "source": [
    "__Finiti gli esercizi, oppure il tempo a disposizione, salvate il notebook usando:__<BR>\n",
    "```\n",
    "File --> Save Notebook as\n",
    "```\n",
    "__usando il vostro cognome_nome come nome del file. Spedite il notebook, usando il vostro mailer preferito, a maina@to.infn.it, CON IL FILE IN ALLEGATO.__\n",
    "    \n",
    "Per determinare la cartella in cui il file viene salvato usate il comando `%pwd` in una cella a parte."
   ]
  },
  {
   "cell_type": "markdown",
   "metadata": {},
   "source": [
    "### Esercizio 1\n",
    "__Scrivete un array `val` di numeri reali compresi fra 20 e 40 ad intervalli di 0.3. \n",
    "Costruite una funzione, `pol(x,n2,n1,n0)`, che restituisca l'array dei valori del polinomio\n",
    "y = n2\\*x\\*\\*2 +n1\\*x + n0 in tutti i punti dell'array x. Testate `pol` su un piccolo array per cui siete in grado di calcolare autonomamente il risultato per n2 = n1 = n0 = 1. Usate `pol` per calcolare i valori di 1/2\\*x\\*\\*2 -x + 1 nei punti contenuti in `val`.__   "
   ]
  },
  {
   "cell_type": "code",
   "execution_count": 8,
   "metadata": {
    "tags": []
   },
   "outputs": [
    {
     "name": "stdout",
     "output_type": "stream",
     "text": [
      "Test con n2=n1=n0 = 1\n",
      "  [ 421.    433.39  445.96  458.71  471.64  484.75  498.04  511.51  525.16\n",
      "  538.99  553.    567.19  581.56  596.11  610.84  625.75  640.84  656.11\n",
      "  671.56  687.19  703.    718.99  735.16  751.51  768.04  784.75  801.64\n",
      "  818.71  835.96  853.39  871.    888.79  906.76  924.91  943.24  961.75\n",
      "  980.44  999.31 1018.36 1037.59 1057.   1076.59 1096.36 1116.31 1136.44\n",
      " 1156.75 1177.24 1197.91 1218.76 1239.79 1261.   1282.39 1303.96 1325.71\n",
      " 1347.64 1369.75 1392.04 1414.51 1437.16 1459.99 1483.   1506.19 1529.56\n",
      " 1553.11 1576.84 1600.75 1624.84] \n",
      "\n",
      "Test con n2 = 1/2, n1 = -1, n0 = 1\n",
      " [181.    186.745 192.58  198.505 204.52  210.625 216.82  223.105 229.48\n",
      " 235.945 242.5   249.145 255.88  262.705 269.62  276.625 283.72  290.905\n",
      " 298.18  305.545 313.    320.545 328.18  335.905 343.72  351.625 359.62\n",
      " 367.705 375.88  384.145 392.5   400.945 409.48  418.105 426.82  435.625\n",
      " 444.52  453.505 462.58  471.745 481.    490.345 499.78  509.305 518.92\n",
      " 528.625 538.42  548.305 558.28  568.345 578.5   588.745 599.08  609.505\n",
      " 620.02  630.625 641.32  652.105 662.98  673.945 685.    696.145 707.38\n",
      " 718.705 730.12  741.625 753.22 ]\n"
     ]
    }
   ],
   "source": [
    "import numpy as np\n",
    "\n",
    "val = np.arange(20,40,0.3)\n",
    "\n",
    "def pol(x,n2,n1,n0):\n",
    "    y = n2*(x**2) + n1*x + n0\n",
    "    return y\n",
    "\n",
    "print(\"Test con n2=n1=n0 = 1\\n \",pol(val,1,1,1),\"\\n\")\n",
    "print(\"Test con n2 = 1/2, n1 = -1, n0 = 1\\n\",pol(val,1/2,-1,1))"
   ]
  },
  {
   "cell_type": "markdown",
   "metadata": {},
   "source": [
    "### Esercizio 2\n",
    "__Costruite l'array A di elementi 1/n**2 con n intero compreso fra 1 e 100 compresi. Costruite una funzione `a_data(arr)` che restituisca il primo e l'ultimo elemento dell'array `arr`. I due valori devono essere divisi per la somma degli elementi di `arr` se il valore assoluto di questa somma è maggiore di `1.e-8`. Testate la funzione con l' array A e con l'array np.array([1,-1]).__"
   ]
  },
  {
   "cell_type": "code",
   "execution_count": 84,
   "metadata": {
    "tags": []
   },
   "outputs": [
    {
     "name": "stdout",
     "output_type": "stream",
     "text": [
      "(0.6116268177851258, 6.116268177851259e-05)\n",
      "(1, -1)\n"
     ]
    }
   ],
   "source": [
    "import numpy as np\n",
    "\n",
    "A = np.ones(100)\n",
    "n = np.arange(1,101)\n",
    "A = A/n**2\n",
    "\n",
    "def a_data(arr):\n",
    "    first = arr[0]\n",
    "    last = arr[-1]\n",
    "    if abs(np.sum(arr)) > 1.e-8:\n",
    "        return first/np.sum(arr), last/np.sum(arr)\n",
    "    else:\n",
    "        return first,last\n",
    "\n",
    "print(a_data(A))\n",
    "print(a_data(np.array([1,-1])))"
   ]
  },
  {
   "cell_type": "markdown",
   "metadata": {},
   "source": [
    "### Esercizio 3\n",
    "__Data la matrice:__\n",
    "$$\n",
    "R = \\left( \\begin{matrix}\n",
    "1 & 3 & 1 & -1 \\\\\n",
    "-1 & 2 & 2 & 0\\\\ \n",
    "0 & 2 & -1 & 1\\\\\n",
    "-2 & 0 & 1 & -1\\\\\n",
    "\\end{matrix} \\right)\n",
    "$$\n",
    "\n",
    "__Verificate che la matrice è invertibile. Sostituite la terza riga della matrice con il doppio della seconda riga.\n",
    "Verificate se la matrice risultante è invertibile.__"
   ]
  },
  {
   "cell_type": "code",
   "execution_count": 21,
   "metadata": {
    "tags": []
   },
   "outputs": [
    {
     "name": "stdout",
     "output_type": "stream",
     "text": [
      "R Invertibile!\n",
      "\n",
      "R1 Non invertibile \n",
      "\n"
     ]
    }
   ],
   "source": [
    "import numpy as np\n",
    "import numpy.linalg as LA\n",
    "\n",
    "R = np.array([[1,3,1,-1],[-1,2,2,0],[0,2,-1,1],[-2,0,1,-1]])\n",
    "if LA.det(R) != 0:\n",
    "    print(\"R Invertibile!\\n\")\n",
    "else:\n",
    "    print(\"R Non invertibile \\n\")\n",
    "    \n",
    "R[2] = 2*R[1]\n",
    "R1 = R\n",
    "\n",
    "if LA.det(R1) != 0:\n",
    "    print(\"R1 Invertibile!\\n\")\n",
    "else:\n",
    "    print(\"R1 Non invertibile \\n\")"
   ]
  },
  {
   "cell_type": "markdown",
   "metadata": {},
   "source": [
    "### Esercizio 4\n",
    "__Scrivete una funzione `mysub(mylist,test=False)` che dato un array `mylist` restituisca la somma `S` degli elementi di `mylist`. \n",
    "Se `test=False` la funzione deve scrivere `S` nel file `sum.dat`. Se `test=True` la funzione deve stampare `S` sullo schermo.__<BR>\n",
    "__Testate `mysub` con l'array `np.array([1,2,3])` sia con `test=False` che con `test=True`.__"
   ]
  },
  {
   "cell_type": "code",
   "execution_count": 52,
   "metadata": {
    "tags": []
   },
   "outputs": [
    {
     "name": "stdout",
     "output_type": "stream",
     "text": [
      "6\n"
     ]
    }
   ],
   "source": [
    "import numpy as np\n",
    "\n",
    "def mysub(mylist,test=False):\n",
    "    S = np.sum(mylist)\n",
    "    \n",
    "    if test == False:\n",
    "        with open(\"sum.dat\",\"w\") as file:\n",
    "            file.write(str(S))\n",
    "    else:\n",
    "        return S\n",
    "mysub(np.array([1,2,3]))\n",
    "print(mysub(np.array([1,2,3]),test = True))"
   ]
  },
  {
   "cell_type": "code",
   "execution_count": null,
   "metadata": {},
   "outputs": [],
   "source": []
  }
 ],
 "metadata": {
  "kernelspec": {
   "display_name": "Python 3 (ipykernel)",
   "language": "python",
   "name": "python3"
  },
  "language_info": {
   "codemirror_mode": {
    "name": "ipython",
    "version": 3
   },
   "file_extension": ".py",
   "mimetype": "text/x-python",
   "name": "python",
   "nbconvert_exporter": "python",
   "pygments_lexer": "ipython3",
   "version": "3.11.5"
  }
 },
 "nbformat": 4,
 "nbformat_minor": 4
}

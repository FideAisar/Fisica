{
 "cells": [
  {
   "cell_type": "markdown",
   "metadata": {},
   "source": [
    "__Finiti gli esercizi, oppure il tempo a disposizione, salvate il notebook usando:__<BR>\n",
    "```\n",
    "File --> Save Notebook as\n",
    "```\n",
    "__usando il vostro cognome_nome come nome del file. Spedite il notebook, usando il vostro mailer preferito, a maina@to.infn.it, CON IL FILE IN ALLEGATO.__\n",
    "    \n",
    "Per determinare la cartella in cui il file viene salvato usate il comando `%pwd` in una cella a parte."
   ]
  },
  {
   "cell_type": "markdown",
   "metadata": {},
   "source": [
    "### Esercizio 1\n",
    "__Costruite un array `myval` di 101 valori equidistanti fra $-\\pi$ e $\\pi$.\n",
    "Costruite una funzione, `sin_sinsq(x)`, che restituisca l'array `s1` dei seni degli elementi di x e l'array `s2` dei seni al quadrato degli elementi di x. Testate la funzione con un piccolo array per cui potete verificare il risultato e poi su `myval`.__   "
   ]
  },
  {
   "cell_type": "code",
   "execution_count": 1,
   "metadata": {
    "tags": []
   },
   "outputs": [
    {
     "data": {
      "text/plain": [
       "(array([7.07106781e-01, 1.00000000e+00, 1.22464680e-16]),\n",
       " array([5.00000000e-01, 1.00000000e+00, 1.49975978e-32]))"
      ]
     },
     "execution_count": 1,
     "metadata": {},
     "output_type": "execute_result"
    }
   ],
   "source": [
    "import numpy as np\n",
    "import numpy.linalg as LA\n",
    "\n",
    "myval = np.linspace(-np.pi,np.pi,101)\n",
    "x = np.array([np.pi/4,np.pi/2,np.pi])\n",
    "def sin_sinsq(x):\n",
    "    s1 = np.sin(x)\n",
    "    s2 = np.sin(x)**2\n",
    "    return s1,s2\n",
    "sin_sinsq(x)"
   ]
  },
  {
   "cell_type": "markdown",
   "metadata": {},
   "source": [
    "### Esercizio 2\n",
    "__Scrivete l'array `a1` dei numeri interi fra 10 e 270 incluso.  Estraete in un array `b2` gli elementi di `a1` che sono divisibili per 15. Costruite l'array `b3` invertendo l'ordine degli elementi di `b2`.\n",
    "Costruite l'array `b4` dividendo l'array `b3` per l'array dei quadrati degli elementi di `b2`.__"
   ]
  },
  {
   "cell_type": "code",
   "execution_count": 9,
   "metadata": {
    "tags": []
   },
   "outputs": [
    {
     "name": "stdout",
     "output_type": "stream",
     "text": [
      "[ 15  30  45  60  75  90 105 120 135 150 165 180 195 210 225 240 255 270]\n",
      "[270 255 240 225 210 195 180 165 150 135 120 105  90  75  60  45  30  15]\n",
      "[1.20000000e+00 2.83333333e-01 1.18518519e-01 6.25000000e-02\n",
      " 3.73333333e-02 2.40740741e-02 1.63265306e-02 1.14583333e-02\n",
      " 8.23045267e-03 6.00000000e-03 4.40771350e-03 3.24074074e-03\n",
      " 2.36686391e-03 1.70068027e-03 1.18518519e-03 7.81250000e-04\n",
      " 4.61361015e-04 2.05761317e-04]\n"
     ]
    }
   ],
   "source": [
    "a1 = np.arange(10,271,1)\n",
    "b2 = a1[a1%15 == 0]\n",
    "b3 = b2[::-1]\n",
    "b4 = b3 / (b2**2)\n",
    "print(\"Divisibili per 15\",b2)\n",
    "print(\"b2 in ordine inverso\")\n",
    "print(b4)"
   ]
  },
  {
   "cell_type": "markdown",
   "metadata": {},
   "source": [
    "### Esercizio 2\n",
    "__Data la matrice:__\n",
    "$$\n",
    "R = \\left( \\begin{matrix}\n",
    "1 & 3 & 1 & -1 \\\\\n",
    "-1 & 2 & 2 & 0\\\\ \n",
    "0 & 2 & -1 & 1\\\\\n",
    "-2 & 0 & 1 & -1\\\\\n",
    "\\end{matrix} \\right)\n",
    "$$\n",
    "\n",
    "__Verificate che la matrice è invertibile. Calcolate la matrice inversa `Rinv` e usate `Rinv` per risolvere\n",
    "i sistemi di equazioni lineari R\\*X=B1 e R\\*X=B2 con B1 = [3,1.5,2,-1.2] e B2 = [10,0.1,-2,1]. X è il vettore delle incognite.\n",
    "Verificate che i risultati S1 e S2 soddisfano le equazioni R\\*S1=B1 e R\\*S2=B2__"
   ]
  },
  {
   "cell_type": "code",
   "execution_count": 49,
   "metadata": {
    "tags": []
   },
   "outputs": [
    {
     "name": "stdout",
     "output_type": "stream",
     "text": [
      "Le soluzioni S1 e S2 sono:  [10.7  4.  -0.2 -2.8] [  7.3 -13.8   3.2 -23. ]\n",
      "B1 =  [3, 1.5, 2, -1.2]\n",
      "R*S1 =  [ 3.   1.5  2.  -1.2]\n",
      "B2 =  [10, 0.1, -2, 1]\n",
      "R*S2 =  [10.   0.1 -2.   1. ]\n"
     ]
    }
   ],
   "source": [
    "R = np.array([[1,3,1,-1],[-1,2,2,0],[0,2,-1,1],[-2,0,1,-1]])\n",
    "LA.det(R) # det non 0 quindi invertibile\n",
    "R = LA.inv(R)\n",
    "\n",
    "B1 = [3,1.5,2,-1.2]\n",
    "B2 = [10,0.1,-2,1]\n",
    "\n",
    "# RX = B1\n",
    "S1 = LA.solve(R,B1)\n",
    "\n",
    "# RX = B2\n",
    "S2 = LA.solve(R,B2)\n",
    "\n",
    "print(\"Le soluzioni S1 e S2 sono: \",S1,S2)\n",
    "print(\"B1 = \",B1)\n",
    "print(\"R*S1 = \",np.dot(R,S1))\n",
    "print(\"B2 = \",B2)\n",
    "print(\"R*S2 = \",np.dot(R,S2))"
   ]
  },
  {
   "cell_type": "markdown",
   "metadata": {},
   "source": [
    "### Esercizio 4\n",
    "__Scrivete una funzione `ff(x,normalize=True)` che dato un array `x` restituisca l'array `x4` delle quarte potenze dei valori in `x`.  Se `normalize=True` `ff` Il vettore `x4` deve essere diviso per la somma dei suoi elementi__<BR>\n",
    "__Testate `ff` su `np.array([-2,1,-0.1,4.2,0,1.2,-0.5,0.4,-1.3])` sia nel caso `normalize=True` che nel caso `normalize=False`.__"
   ]
  },
  {
   "cell_type": "code",
   "execution_count": 56,
   "metadata": {
    "tags": []
   },
   "outputs": [
    {
     "data": {
      "text/plain": [
       "array([4.80210092e-02, 3.00131307e-03, 3.00131307e-07, 9.33917389e-01,\n",
       "       0.00000000e+00, 6.22352279e-03, 1.87582067e-04, 7.68336147e-05,\n",
       "       8.57205027e-03])"
      ]
     },
     "execution_count": 56,
     "metadata": {},
     "output_type": "execute_result"
    }
   ],
   "source": [
    "def ff(x,normalize=True):\n",
    "    x4 = x**4\n",
    "    if normalize == True:\n",
    "        x4 = x4/np.sum(x4)\n",
    "    else:\n",
    "        x4 = x4\n",
    "    return x4\n",
    "ff(np.array([-2,1,-0.1,4.2,0,1.2,-0.5,0.4,-1.3]),normalize=True)\n",
    "\n"
   ]
  },
  {
   "cell_type": "code",
   "execution_count": null,
   "metadata": {},
   "outputs": [],
   "source": []
  }
 ],
 "metadata": {
  "kernelspec": {
   "display_name": "Python 3 (ipykernel)",
   "language": "python",
   "name": "python3"
  },
  "language_info": {
   "codemirror_mode": {
    "name": "ipython",
    "version": 3
   },
   "file_extension": ".py",
   "mimetype": "text/x-python",
   "name": "python",
   "nbconvert_exporter": "python",
   "pygments_lexer": "ipython3",
   "version": "3.11.5"
  }
 },
 "nbformat": 4,
 "nbformat_minor": 4
}

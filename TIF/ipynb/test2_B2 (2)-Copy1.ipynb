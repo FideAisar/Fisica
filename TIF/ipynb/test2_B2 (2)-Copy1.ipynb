{
 "cells": [
  {
   "cell_type": "markdown",
   "metadata": {},
   "source": [
    "__Finiti gli esercizi, oppure il tempo a disposizione, salvate il notebook usando:__<BR>\n",
    "```\n",
    "File --> Save Notebook as\n",
    "```\n",
    "__usando il vostro cognome_nome come nome del file. Spedite il notebook, usando il vostro mailer preferito, a maina@to.infn.it, CON IL FILE IN ALLEGATO.__\n",
    "    \n",
    "Per determinare la cartella in cui il file viene salvato usate il comando `%pwd` in una cella a parte."
   ]
  },
  {
   "cell_type": "markdown",
   "metadata": {
    "tags": []
   },
   "source": [
    "### Esercizio 1\n",
    "__Scrivete una funzione `chop(ang, max)` che data una lista di numeri reali `ang`, che rappresentano angoli in radianti, restituisca la sottolista di quelli il cui seno è minore di `max`. Testate la funzione com `max = 1/3` e gli angoli\n",
    "[0, 1/3, 5.2, -27, 6., 17/7].__"
   ]
  },
  {
   "cell_type": "markdown",
   "metadata": {
    "tags": []
   },
   "source": [
    "### Esercizio 2\n",
    "__Scrivete una funzione `myturn(L0)` che accetti una lista di stringhe `L0` e per ogni stringa stampi sullo schermo  la stringa stessa e quella che si ottiene invertendo l'ordine dei caratteri. Usate le f-strings per incolonnare i risultati__<BR>\n",
    "__Per esempio `myturn([\"Pippo\",\"paPerino\")` deve stampare:__\n",
    "```bash\n",
    "    Pippo          oppiP\n",
    " paPerino       onirePap\n",
    "```"
   ]
  },
  {
   "cell_type": "markdown",
   "metadata": {},
   "source": [
    "### Esercizio 3 \n",
    "__La posizione di un corpo in caduta libera in un campo gravitazionale costante è:__\n",
    "$$ y(t) = -\\frac{1}{2}\\,g \\,t^2 +v_0\\,t +y_0$$\n",
    "__Dove $t$ è il tempo (secondi), $v_0$ la velocità iniziale (metri/secondi) e $y_0$ la posizione iniziale (metri). L'accelerazione gravitazionale vale $g \\,=\\, 9.81\\,\\, m/s^2$.__<BR>\n",
    "__Scrivete una funzione `max(y0,v0)` che restituisca la lista `pos` delle posizioni `y` del corpo ad ogni secondo durante la fase ascendente del moto, cioè fino al primo tempo in cui l'altezza `y` è minore di quella al secondo precedente.__<BR>\n",
    "__Mostrate sullo schermo il tempo e l'altezza del corpo usando f-strings per la formattazione.__<BR>\n",
    "__Testate la vostra funzione con (y0,v0)=(10,20) e (y0,v0)=(100,0)__\n"
   ]
  },
  {
   "cell_type": "markdown",
   "metadata": {
    "tags": []
   },
   "source": [
    "### Esercizio 4\n",
    "__Scrivete una funzione `myroots(m,n)` con `m`, `n` interi `m < n`. Per ogni intero `k` compreso fra `m` e `n` (inclusi) la funzione deve scrivere `k`, la sua radice quadrata e la sua radice quarta nel file `roots.txt`, utilizzando una riga per ogni `k`.  `myroots` deve chiudere il file prima di ritornare la stringa \"fatto\".  Usate le f-strings per incolonnare i risultati e per stampare i numeri reali in notazione scientifica con tre cifre decimali.__<BR>\n",
    "__Per esempio `myroots(1,2)` deve stampare:__\n",
    "```bash\n",
    "      k         k**0.5      k**0.25\n",
    "      1        1.000e0      1.000e0\n",
    "      2        1.414e0      1.189e0\n",
    "```\n",
    "__Testate la funzione con `m = 7` e `n = 12`__"
   ]
  }
 ],
 "metadata": {
  "kernelspec": {
   "display_name": "Python 3 (ipykernel)",
   "language": "python",
   "name": "python3"
  },
  "language_info": {
   "codemirror_mode": {
    "name": "ipython",
    "version": 3
   },
   "file_extension": ".py",
   "mimetype": "text/x-python",
   "name": "python",
   "nbconvert_exporter": "python",
   "pygments_lexer": "ipython3",
   "version": "3.11.5"
  }
 },
 "nbformat": 4,
 "nbformat_minor": 4
}

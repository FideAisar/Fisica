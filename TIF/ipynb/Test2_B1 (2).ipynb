{
 "cells": [
  {
   "cell_type": "markdown",
   "metadata": {},
   "source": [
    "__Finiti gli esercizi, oppure il tempo a disposizione, salvate il notebook usando:__<BR>\n",
    "```\n",
    "File --> Save Notebook as\n",
    "```\n",
    "__usando il vostro cognome_nome come nome del file. Spedite il notebook, usando il vostro mailer preferito, a maina@to.infn.it, CON IL FILE IN ALLEGATO.__\n",
    "    \n",
    "Per determinare la cartella in cui il file viene salvato usate il comando `%pwd` in una cella a parte."
   ]
  },
  {
   "cell_type": "markdown",
   "metadata": {},
   "source": [
    "### Esercizio 1\n",
    "__Scrivete una funzione, `mylist(n0,n1)`, che restituisca una lista che contenga il quadrato dei numeri interi compresi fra `n0` e `n1` (entrambi inclusi, `n0 < n1`), ad esclusione di quelli che hanno 0 come ultima cifra. Testate la funzione con n0=6, n1=12.__   "
   ]
  },
  {
   "cell_type": "code",
   "execution_count": 3,
   "metadata": {},
   "outputs": [
    {
     "name": "stdout",
     "output_type": "stream",
     "text": [
      "1\n",
      "4\n",
      "9\n",
      "16\n",
      "25\n",
      "36\n",
      "49\n"
     ]
    }
   ],
   "source": [
    "def mylist(n0,n1):\n",
    "    for i in range(n0,n1+1):\n",
    "        if i%10!=0:\n",
    "            c=(i**2)\n",
    "            print(c)\n",
    "mylist(1,7)\n",
    "    "
   ]
  },
  {
   "cell_type": "code",
   "execution_count": null,
   "metadata": {},
   "outputs": [],
   "source": []
  },
  {
   "cell_type": "markdown",
   "metadata": {},
   "source": [
    "### Esercizio 2\n",
    "__In una piastra di Petri sono presenti N0 batteri. In ogni minuto una frazione `g` (compresa fra 0 e 1) di batteri si divide in due. \n",
    "Costruite una funzione `batteri(g,m)` che determini di quale fattore è aumentato il numero di batteri presente nel contenitore di Petri dopo `m` minuti.__<BR>\n",
    "__(Non è necessario conoscere N0. Si richiede solo il fattore per cui viene moltiplicato N0 dopo `m` secondi).__"
   ]
  },
  {
   "cell_type": "code",
   "execution_count": 5,
   "metadata": {},
   "outputs": [
    {
     "data": {
      "text/plain": [
       "1.0"
      ]
     },
     "execution_count": 5,
     "metadata": {},
     "output_type": "execute_result"
    }
   ],
   "source": [
    "\n",
    "def f(g,m):\n",
    "    if 0<g<1:\n",
    "        n=g*(2**(1/60*m))\n",
    "        return n\n",
    "    else:\n",
    "        print('error')\n",
    "f(0.5,60)"
   ]
  },
  {
   "cell_type": "markdown",
   "metadata": {},
   "source": [
    "### Esercizio 3\n",
    "__Scrivete una funzione `pluto(topolino, minnie)`, in cui `topolino` e `minnie` sono due interi positivi, che sottragga ripetutamente l'intero più piccolo da quello più grande finchè il risultato è minore di tre. Il risultato di ciascuna iterazione deve essere mostrata sullo schermo. Usate le f-strings per incolonnare i risultati.__<BR>\n",
    "__Per esempio `pluto(14,5)` deve stampare:__\n",
    "```bash\n",
    " iterazione  risultato \n",
    "      1         9\n",
    "      2         4\n",
    "      3        -1\n",
    "```"
   ]
  },
  {
   "cell_type": "code",
   "execution_count": 2,
   "metadata": {},
   "outputs": [
    {
     "name": "stdout",
     "output_type": "stream",
     "text": [
      "iterazione   risultato  \n",
      "     1          9    \n",
      "     2          4    \n",
      "     3         -1    \n"
     ]
    }
   ],
   "source": [
    "\n",
    "def pluto(topolino, minnie):\n",
    "    x=max(topolino,minnie)\n",
    "    y=min(topolino,minnie)\n",
    "    z=0\n",
    "    print(f\"{'iterazione':11s}  {'risultato':11s}\")\n",
    "    while x>3:\n",
    "        x=x-y\n",
    "        z+=1\n",
    "        print(f\"{z:^12g}{x:^9g}\")\n",
    "    return\n",
    "pluto(14,5)\n",
    "      "
   ]
  },
  {
   "cell_type": "code",
   "execution_count": null,
   "metadata": {},
   "outputs": [
    {
     "data": {
      "text/plain": [
       "7.631365372494792"
      ]
     },
     "execution_count": 6,
     "metadata": {},
     "output_type": "execute_result"
    }
   ],
   "source": [
    "n=0\n",
    "for i in range(1,2023):\n",
    "    n=n+1/(i**0.5*(i+1)**0.5)\n",
    "n"
   ]
  },
  {
   "cell_type": "code",
   "execution_count": null,
   "metadata": {},
   "outputs": [],
   "source": []
  },
  {
   "cell_type": "markdown",
   "metadata": {},
   "source": [
    "### Esercizio 4\n",
    "__Assumiamo che all'interno di una stringa le frasi siano separate da un punto.__\n",
    "\n",
    "__Esempio: 'Spero stiate tutti bene. Fa caldo. Il mare è pulitissimo e la sabbia è meravigliosa.' contiene le frasi ' Spero stiate tutti bene', ' Fa caldo' e ' Il mare è pulitissimo e la sabbia è meravigliosa'.__\n",
    "\n",
    "__Scrivere una funzione `print_frasi(S0)` che, data una stringa S0 in input, scriva, una per riga, nel file `frasi.txt` le frasi contenute in S0. `print_frasi` deve chiudere il file prima di ritornare la stringa \"fatto\".__\n",
    "\n",
    "__Testate la funzione su: 'Spero stiate tutti bene. Fa caldo. Il mare è pulitissimo e la sabbia è meravigliosa. Un bacio a zia Alice.'__\n"
   ]
  },
  {
   "cell_type": "code",
   "execution_count": null,
   "metadata": {},
   "outputs": [],
   "source": []
  },
  {
   "cell_type": "code",
   "execution_count": null,
   "metadata": {},
   "outputs": [],
   "source": []
  }
 ],
 "metadata": {
  "kernelspec": {
   "display_name": "Python 3 (ipykernel)",
   "language": "python",
   "name": "python3"
  },
  "language_info": {
   "codemirror_mode": {
    "name": "ipython",
    "version": 3
   },
   "file_extension": ".py",
   "mimetype": "text/x-python",
   "name": "python",
   "nbconvert_exporter": "python",
   "pygments_lexer": "ipython3",
   "version": "3.11.5"
  }
 },
 "nbformat": 4,
 "nbformat_minor": 4
}

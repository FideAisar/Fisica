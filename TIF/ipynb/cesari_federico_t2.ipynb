{
 "cells": [
  {
   "cell_type": "markdown",
   "metadata": {},
   "source": [
    "__Finiti gli esercizi, oppure il tempo a disposizione, salvate il notebook usando:__<BR>\n",
    "```\n",
    "File --> Save Notebook as\n",
    "```\n",
    "__usando il vostro cognome_nome come nome del file. Spedite il notebook, usando il vostro mailer preferito, a maina@to.infn.it, CON IL FILE IN ALLEGATO.__\n",
    "    \n",
    "Per determinare la cartella in cui il file viene salvato usate il comando `%pwd` in una cella a parte."
   ]
  },
  {
   "cell_type": "markdown",
   "metadata": {
    "tags": []
   },
   "source": [
    "### Esercizio 1\n",
    "__Scrivete una funzione, `mylist(lis,x1,x2)`, dove `lis` è una lista di numeri reali e `x1`,`x2` sono numeri reali con `x1 < x2`, che restituisca la lista degli elementi di `lis` che sono compresi fra `x1` e `x2`.__<BR>\n",
    "__Testate la funzione sulla lista: [1.7, -0.001, 17, 4.75, -12.2] con `x1 = -1` e `x2 = 5.3`.__"
   ]
  },
  {
   "cell_type": "code",
   "execution_count": 45,
   "metadata": {
    "tags": []
   },
   "outputs": [],
   "source": [
    "def mylist(lis,x1,x2):\n",
    "    if x1 < x2:\n",
    "        new_list = [i for i in lis if x1<i<x2]\n",
    "    else:\n",
    "        print(\"x1 deve essere < x2\")\n",
    "    return new_list"
   ]
  },
  {
   "cell_type": "code",
   "execution_count": 58,
   "metadata": {
    "tags": []
   },
   "outputs": [
    {
     "data": {
      "text/plain": [
       "[1.7, -0.001, 4.75]"
      ]
     },
     "execution_count": 58,
     "metadata": {},
     "output_type": "execute_result"
    }
   ],
   "source": [
    "mylist([1.7, -0.001, 17, 4.75, -12.2],-1,5.3)"
   ]
  },
  {
   "cell_type": "markdown",
   "metadata": {
    "tags": []
   },
   "source": [
    "### Esercizio 2\n",
    "__Scrivete una funzione `match_string` che determini se due liste `l1` e `l2`, i cui elementi sono singoli caratteri, siano uguali oppure no ritornando `True` oppure `False`. `match_string` deve avere un parametro opzionele `ignore_case` con valore di default `False`. Se `ignore_case` in input vale `True` allora due caratteri sono considerati uguali anche se uno è maiuscolo e l'altro minuscolo.__"
   ]
  },
  {
   "cell_type": "code",
   "execution_count": 59,
   "metadata": {
    "tags": []
   },
   "outputs": [],
   "source": [
    "def match_string(l1,l2,ignore_case=False):\n",
    "    upper_l1 = []\n",
    "    upper_l2 = []\n",
    "    if ignore_case == False:\n",
    "        if l1 == l2:\n",
    "            print(\"True\")\n",
    "        else:\n",
    "            print(\"False\")\n",
    "    else:\n",
    "        for i in range(len(l1)):\n",
    "            upper_l1.append(l1[i].upper())\n",
    "            upper_l2.append(l2[i].upper())\n",
    "        if upper_l1 == upper_l2:\n",
    "            print(\"True\")    "
   ]
  },
  {
   "cell_type": "code",
   "execution_count": 60,
   "metadata": {
    "tags": []
   },
   "outputs": [
    {
     "name": "stdout",
     "output_type": "stream",
     "text": [
      "False\n",
      "True\n"
     ]
    }
   ],
   "source": [
    "match_string([\"a\",\"b\",\"c\",\"d\"],[\"A\",\"B\",\"c\",\"d\"])  # A e B sono diverse da a e b quindi mi aspetto FALSE\n",
    "match_string([\"a\",\"b\",\"c\",\"d\"],[\"A\",\"B\",\"c\",\"d\"],ignore_case=True) # ora le liste sono tutte con caratteri maiuscoli quindi mi aspetto TRUE"
   ]
  },
  {
   "cell_type": "markdown",
   "metadata": {},
   "source": [
    "### Esercizio 3 \n",
    "__Scrivete una funzione `quanti(lis,target)` che, data una lista `lis` di numeri reali positivi, restituisca quanti elementi di `lis` &egrave; necessario sommare, a partire dal primo, perch&egrave; la somma parziale sia pi&ugrave; grande di `target`.__<BR>\n",
    "__Per esempio `quanti( [3.1, 2.5,0.1, 1.5],5.6] )` deve restituire &nbsp; 3.__"
   ]
  },
  {
   "cell_type": "code",
   "execution_count": 61,
   "metadata": {
    "tags": []
   },
   "outputs": [],
   "source": [
    "def quanti(lis,target):\n",
    "    somma = 0\n",
    "    counter = 0\n",
    "    numbers = []   \n",
    "    while somma <= target:\n",
    "        somma = somma + lis[counter]  \n",
    "        numbers.append(lis[counter])\n",
    "        counter +=1\n",
    "    return len(numbers)"
   ]
  },
  {
   "cell_type": "code",
   "execution_count": 62,
   "metadata": {
    "tags": []
   },
   "outputs": [
    {
     "data": {
      "text/plain": [
       "3"
      ]
     },
     "execution_count": 62,
     "metadata": {},
     "output_type": "execute_result"
    }
   ],
   "source": [
    "quanti([3.1, 2.5,0.1, 1.5],5.6)"
   ]
  },
  {
   "cell_type": "markdown",
   "metadata": {
    "tags": []
   },
   "source": [
    "### Esercizio 4\n",
    "__Scrivete una funzione `mysave(L)` che accetti una lista di stringhe `L` e che le scriva, una per riga, nel file `frasi.txt`. Trovate la massima lunghezza delle stringhe in `L`, chiamiamola `max_len`. Usate le f-string per scrivere le stringhe centrate in un campo di larghezza `max_len`.`mysave` deve chiudere il file prima di ritornare la stringa \"fatto\".__\n",
    "\n",
    "__Testate la funzione su: ['Spero', 'stiate', 'tutti bene', 'Un bacio', 'a zia Alice'].__"
   ]
  },
  {
   "cell_type": "code",
   "execution_count": 56,
   "metadata": {
    "tags": []
   },
   "outputs": [],
   "source": [
    "def mysave(L):\n",
    "    lenghts = []\n",
    "    for i in L:\n",
    "        lenghts.append(len(i))\n",
    "    max_len = max(lenghts)\n",
    "    with open(\"frasi.txt\",\"w\") as file:\n",
    "        for i in L:\n",
    "            file.write(f\"{i.center(max_len)}\")\n",
    "            file.write(\"\\n\")\n",
    "    return \"fatto\""
   ]
  },
  {
   "cell_type": "code",
   "execution_count": 57,
   "metadata": {
    "tags": []
   },
   "outputs": [
    {
     "data": {
      "text/plain": [
       "'fatto'"
      ]
     },
     "execution_count": 57,
     "metadata": {},
     "output_type": "execute_result"
    }
   ],
   "source": [
    "mysave(['Spero', 'stiate', 'tutti bene', 'Un bacio', 'a zia Alice'])"
   ]
  }
 ],
 "metadata": {
  "kernelspec": {
   "display_name": "Python 3 (ipykernel)",
   "language": "python",
   "name": "python3"
  },
  "language_info": {
   "codemirror_mode": {
    "name": "ipython",
    "version": 3
   },
   "file_extension": ".py",
   "mimetype": "text/x-python",
   "name": "python",
   "nbconvert_exporter": "python",
   "pygments_lexer": "ipython3",
   "version": "3.11.5"
  }
 },
 "nbformat": 4,
 "nbformat_minor": 4
}

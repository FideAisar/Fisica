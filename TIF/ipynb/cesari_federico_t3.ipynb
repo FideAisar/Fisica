{
 "cells": [
  {
   "cell_type": "markdown",
   "metadata": {},
   "source": [
    "__Finiti gli esercizi, oppure il tempo a disposizione, salvate il notebook usando:__<BR>\n",
    "```\n",
    "File --> Save Notebook as\n",
    "```\n",
    "__usando il vostro cognome_nome come nome del file. Spedite il notebook, usando il vostro mailer preferito, a maina@to.infn.it, CON IL FILE IN ALLEGATO.__\n",
    "    \n",
    "Per determinare la cartella in cui il file viene salvato usate il comando `%pwd` in una cella a parte."
   ]
  },
  {
   "cell_type": "markdown",
   "metadata": {},
   "source": [
    "### Esercizio 1\n",
    "__Scrivete un array `val` di numeri reali compresi fra 20 e 40 ad intervalli di 0.3. \n",
    "Costruite una funzione, `pol(x,n2,n1,n0)`, che restituisca l'array dei valori del polinomio\n",
    "y = n2\\*x\\*\\*2 +n1\\*x + n0 in tutti i punti dell'array x. Testate `pol` su un piccolo array per cui siete in grado di calcolare autonomamente il risultato per n2 = n1 = n0 = 1. Usate `pol` per calcolare i valori di 1/2\\*x\\*\\*2 -x + 1 nei punti contenuti in `val`.__   "
   ]
  },
  {
   "cell_type": "code",
   "execution_count": 8,
   "metadata": {
    "tags": []
   },
   "outputs": [
    {
     "name": "stdout",
     "output_type": "stream",
     "text": [
      "Test con n2=n1=n0 = 1\n",
      "  [ 421.    433.39  445.96  458.71  471.64  484.75  498.04  511.51  525.16\n",
      "  538.99  553.    567.19  581.56  596.11  610.84  625.75  640.84  656.11\n",
      "  671.56  687.19  703.    718.99  735.16  751.51  768.04  784.75  801.64\n",
      "  818.71  835.96  853.39  871.    888.79  906.76  924.91  943.24  961.75\n",
      "  980.44  999.31 1018.36 1037.59 1057.   1076.59 1096.36 1116.31 1136.44\n",
      " 1156.75 1177.24 1197.91 1218.76 1239.79 1261.   1282.39 1303.96 1325.71\n",
      " 1347.64 1369.75 1392.04 1414.51 1437.16 1459.99 1483.   1506.19 1529.56\n",
      " 1553.11 1576.84 1600.75 1624.84] \n",
      "\n",
      "Test con n2 = 1/2, n1 = -1, n0 = 1\n",
      " [181.    186.745 192.58  198.505 204.52  210.625 216.82  223.105 229.48\n",
      " 235.945 242.5   249.145 255.88  262.705 269.62  276.625 283.72  290.905\n",
      " 298.18  305.545 313.    320.545 328.18  335.905 343.72  351.625 359.62\n",
      " 367.705 375.88  384.145 392.5   400.945 409.48  418.105 426.82  435.625\n",
      " 444.52  453.505 462.58  471.745 481.    490.345 499.78  509.305 518.92\n",
      " 528.625 538.42  548.305 558.28  568.345 578.5   588.745 599.08  609.505\n",
      " 620.02  630.625 641.32  652.105 662.98  673.945 685.    696.145 707.38\n",
      " 718.705 730.12  741.625 753.22 ]\n"
     ]
    }
   ],
   "source": [
    "import numpy as np\n",
    "\n",
    "val = np.arange(20,40,0.3)\n",
    "\n",
    "def pol(x,n2,n1,n0):\n",
    "    y = n2*(x**2) + n1*x + n0\n",
    "    return y\n",
    "\n",
    "print(\"Test con n2=n1=n0 = 1\\n \",pol(val,1,1,1),\"\\n\")\n",
    "print(\"Test con n2 = 1/2, n1 = -1, n0 = 1\\n\",pol(val,1/2,-1,1))"
   ]
  },
  {
   "cell_type": "markdown",
   "metadata": {},
   "source": [
    "### Esercizio 2\n",
    "__Costruite l'array A di elementi 1/n**2 con n intero compreso fra 1 e 100 compresi. Costruite una funzione `a_data(arr)` che restituisca il primo e l'ultimo elemento dell'array `arr`. I due valori devono essere divisi per la somma degli elementi di `arr` se il valore assoluto di questa somma è maggiore di `1.e-8`. Testate la funzione con l' array A e con l'array np.array([1,-1]).__"
   ]
  },
  {
   "cell_type": "code",
   "execution_count": 83,
   "metadata": {
    "tags": []
   },
   "outputs": [
    {
     "name": "stdout",
     "output_type": "stream",
     "text": [
      "(0.6116268177851258, 6.116268177851259e-05)\n",
      "(1, -1)\n"
     ]
    }
   ],
   "source": [
    "import numpy as np\n",
    "\n",
    "A = np.ones(100)\n",
    "n = np.arange(1,101)\n",
    "A = A/n**2\n",
    "\n",
    "def a_data(arr):\n",
    "    first = arr[0]\n",
    "    last = arr[-1]\n",
    "    if abs(np.sum(arr)) > 1.e-8:\n",
    "        return first/np.sum(arr), last/np.sum(arr)\n",
    "    else:\n",
    "        return first,last\n",
    "\n",
    "print(a_data(A))\n",
    "print(a_data(np.array([1,-1])))"
   ]
  },
  {
   "cell_type": "code",
   "execution_count": 79,
   "metadata": {
    "tags": []
   },
   "outputs": [
    {
     "name": "stdout",
     "output_type": "stream",
     "text": [
      "(0.6116268177851258, 6.116268177851259e-05)\n",
      "[[1.00000000e+00 2.50000000e-01 1.11111111e-01 6.25000000e-02\n",
      "  4.00000000e-02 2.77777778e-02 2.04081633e-02 1.56250000e-02\n",
      "  1.23456790e-02 1.00000000e-02 8.26446281e-03 6.94444444e-03\n",
      "  5.91715976e-03 5.10204082e-03 4.44444444e-03 3.90625000e-03\n",
      "  3.46020761e-03 3.08641975e-03 2.77008310e-03 2.50000000e-03\n",
      "  2.26757370e-03 2.06611570e-03 1.89035917e-03 1.73611111e-03\n",
      "  1.60000000e-03 1.47928994e-03 1.37174211e-03 1.27551020e-03\n",
      "  1.18906064e-03 1.11111111e-03 1.04058273e-03 9.76562500e-04\n",
      "  9.18273646e-04 8.65051903e-04 8.16326531e-04 7.71604938e-04\n",
      "  7.30460190e-04 6.92520776e-04 6.57462196e-04 6.25000000e-04\n",
      "  5.94883998e-04 5.66893424e-04 5.40832883e-04 5.16528926e-04\n",
      "  4.93827160e-04 4.72589792e-04 4.52693526e-04 4.34027778e-04\n",
      "  4.16493128e-04 4.00000000e-04 3.84467512e-04 3.69822485e-04\n",
      "  3.55998576e-04 3.42935528e-04 3.30578512e-04 3.18877551e-04\n",
      "  3.07787011e-04 2.97265161e-04 2.87273772e-04 2.77777778e-04\n",
      "  2.68744961e-04 2.60145682e-04 2.51952633e-04 2.44140625e-04\n",
      "  2.36686391e-04 2.29568411e-04 2.22766763e-04 2.16262976e-04\n",
      "  2.10039908e-04 2.04081633e-04 1.98373339e-04 1.92901235e-04\n",
      "  1.87652468e-04 1.82615047e-04 1.77777778e-04 1.73130194e-04\n",
      "  1.68662506e-04 1.64365549e-04 1.60230732e-04 1.56250000e-04\n",
      "  1.52415790e-04 1.48720999e-04 1.45158949e-04 1.41723356e-04\n",
      "  1.38408304e-04 1.35208221e-04 1.32117849e-04 1.29132231e-04\n",
      "  1.26246686e-04 1.23456790e-04 1.20758363e-04 1.18147448e-04\n",
      "  1.15620303e-04 1.13173382e-04 1.10803324e-04 1.08506944e-04\n",
      "  1.06281220e-04 1.04123282e-04 1.02030405e-04 1.00000000e-04]]\n"
     ]
    }
   ],
   "source": [
    "import numpy as np\n",
    "\n",
    "def a_data(arr):\n",
    "    first = arr[0][0]\n",
    "    last = arr[0][-1]\n",
    "    if abs(np.sum(arr)) > 1.e-8:\n",
    "        return first/np.sum(arr), last/np.sum(arr)\n",
    "    else:\n",
    "        return first,last\n",
    "\n",
    "A = np.ones(100)\n",
    "n = np.arange(1,101)\n",
    "A = np.array([1/n**2])\n",
    "\n",
    "print(a_data(A))\n",
    "print(A)"
   ]
  },
  {
   "cell_type": "markdown",
   "metadata": {},
   "source": [
    "### Esercizio 3\n",
    "__Data la matrice:__\n",
    "$$\n",
    "R = \\left( \\begin{matrix}\n",
    "1 & 3 & 1 & -1 \\\\\n",
    "-1 & 2 & 2 & 0\\\\ \n",
    "0 & 2 & -1 & 1\\\\\n",
    "-2 & 0 & 1 & -1\\\\\n",
    "\\end{matrix} \\right)\n",
    "$$\n",
    "\n",
    "__Verificate che la matrice è invertibile. Sostituite la terza riga della matrice con il doppio della seconda riga.\n",
    "Verificate se la matrice risultante è invertibile.__"
   ]
  },
  {
   "cell_type": "code",
   "execution_count": 21,
   "metadata": {
    "tags": []
   },
   "outputs": [
    {
     "name": "stdout",
     "output_type": "stream",
     "text": [
      "R Invertibile!\n",
      "\n",
      "R1 Non invertibile \n",
      "\n"
     ]
    }
   ],
   "source": [
    "import numpy as np\n",
    "import numpy.linalg as LA\n",
    "\n",
    "R = np.array([[1,3,1,-1],[-1,2,2,0],[0,2,-1,1],[-2,0,1,-1]])\n",
    "if LA.det(R) != 0:\n",
    "    print(\"R Invertibile!\\n\")\n",
    "else:\n",
    "    print(\"R Non invertibile \\n\")\n",
    "    \n",
    "R[2] = 2*R[1]\n",
    "R1 = R\n",
    "\n",
    "if LA.det(R1) != 0:\n",
    "    print(\"R1 Invertibile!\\n\")\n",
    "else:\n",
    "    print(\"R1 Non invertibile \\n\")"
   ]
  },
  {
   "cell_type": "markdown",
   "metadata": {},
   "source": [
    "### Esercizio 4\n",
    "__Scrivete una funzione `mysub(mylist,test=False)` che dato un array `mylist` restituisca la somma `S` degli elementi di `mylist`. \n",
    "Se `test=False` la funzione deve scrivere `S` nel file `sum.dat`. Se `test=True` la funzione deve stampare `S` sullo schermo.__<BR>\n",
    "__Testate `mysub` con l'array `np.array([1,2,3])` sia con `test=False` che con `test=True`.__"
   ]
  },
  {
   "cell_type": "code",
   "execution_count": 52,
   "metadata": {
    "tags": []
   },
   "outputs": [
    {
     "name": "stdout",
     "output_type": "stream",
     "text": [
      "6\n"
     ]
    }
   ],
   "source": [
    "import numpy as np\n",
    "\n",
    "def mysub(mylist,test=False):\n",
    "    S = np.sum(mylist)\n",
    "    \n",
    "    if test == False:\n",
    "        with open(\"sum.dat\",\"w\") as file:\n",
    "            file.write(str(S))\n",
    "    else:\n",
    "        return S\n",
    "mysub(np.array([1,2,3]))\n",
    "print(mysub(np.array([1,2,3]),test = True))"
   ]
  },
  {
   "cell_type": "code",
   "execution_count": null,
   "metadata": {},
   "outputs": [],
   "source": []
  }
 ],
 "metadata": {
  "kernelspec": {
   "display_name": "Python 3 (ipykernel)",
   "language": "python",
   "name": "python3"
  },
  "language_info": {
   "codemirror_mode": {
    "name": "ipython",
    "version": 3
   },
   "file_extension": ".py",
   "mimetype": "text/x-python",
   "name": "python",
   "nbconvert_exporter": "python",
   "pygments_lexer": "ipython3",
   "version": "3.11.5"
  }
 },
 "nbformat": 4,
 "nbformat_minor": 4
}

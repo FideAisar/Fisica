{
 "cells": [
  {
   "cell_type": "markdown",
   "metadata": {},
   "source": [
    "__Finiti gli esercizi, oppure il tempo a disposizione, salvate il notebook usando:__<BR>\n",
    "```\n",
    "File --> Save Notebook as\n",
    "```\n",
    "__usando il vostro cognome_nome come nome del file. Spedite il notebook, usando il vostro mailer preferito, a maina@to.infn.it, CON IL FILE IN ALLEGATO.__\n",
    "    \n",
    "Per determinare la cartella in cui il file viene salvato usate il comando `%pwd` in una cella a parte."
   ]
  },
  {
   "cell_type": "markdown",
   "metadata": {},
   "source": [
    "### Esercizio 1\n",
    "__Scrivete un array `val` di 101 numeri reali equidistanti fra 20 e 40 inclusi. Costruite una funzione, log_logcube(x), che restituisca il logaritmo e il logaritmo al cubo dei punti in `x`. Testate la funzione su un piccolo array per cui siete in grado di verificare il risultato e poi applicatela su `val`.__   "
   ]
  },
  {
   "cell_type": "code",
   "execution_count": 2,
   "metadata": {
    "tags": []
   },
   "outputs": [
    {
     "name": "stdout",
     "output_type": "stream",
     "text": [
      "(array([1., 2., 3.]), array([ 1.,  8., 27.])) \n",
      "\n",
      "\n",
      "(array([2.99573227, 3.0056826 , 3.0155349 , 3.02529108, 3.03495299,\n",
      "       3.04452244, 3.05400118, 3.06339092, 3.07269331, 3.08190997,\n",
      "       3.09104245, 3.10009229, 3.10906096, 3.11794991, 3.12676054,\n",
      "       3.13549422, 3.14415228, 3.15273602, 3.16124671, 3.16968558,\n",
      "       3.17805383, 3.18635263, 3.19458313, 3.20274644, 3.21084365,\n",
      "       3.21887582, 3.22684399, 3.23474917, 3.24259235, 3.25037449,\n",
      "       3.25809654, 3.26575941, 3.27336401, 3.28091122, 3.28840189,\n",
      "       3.29583687, 3.30321697, 3.31054301, 3.31781577, 3.32503602,\n",
      "       3.33220451, 3.33932198, 3.34638915, 3.35340672, 3.36037539,\n",
      "       3.36729583, 3.37416871, 3.38099467, 3.38777436, 3.39450839,\n",
      "       3.40119738, 3.40784192, 3.41444261, 3.42100001, 3.42751469,\n",
      "       3.4339872 , 3.44041809, 3.44680789, 3.45315712, 3.45946629,\n",
      "       3.4657359 , 3.47196645, 3.47815842, 3.48431229, 3.49042852,\n",
      "       3.49650756, 3.50254988, 3.5085559 , 3.51452607, 3.5204608 ,\n",
      "       3.52636052, 3.53222564, 3.53805656, 3.54385368, 3.54961739,\n",
      "       3.55534806, 3.56104608, 3.56671182, 3.57234564, 3.57794789,\n",
      "       3.58351894, 3.58905912, 3.59456877, 3.60004824, 3.60549785,\n",
      "       3.61091791, 3.61630876, 3.6216707 , 3.62700405, 3.6323091 ,\n",
      "       3.63758616, 3.64283552, 3.64805746, 3.65325228, 3.65842025,\n",
      "       3.66356165, 3.66867675, 3.67376582, 3.67882912, 3.68386691,\n",
      "       3.68887945]), array([26.88493523, 27.15372113, 27.42161807, 27.68863197, 27.95476875,\n",
      "       28.2200343 , 28.48443453, 28.74797531, 29.01066249, 29.27250193,\n",
      "       29.53349942, 29.79366077, 30.05299173, 30.31149803, 30.56918539,\n",
      "       30.82605947, 31.08212591, 31.33739031, 31.59185824, 31.84553524,\n",
      "       32.09842679, 32.35053835, 32.60187535, 32.85244316, 33.10224711,\n",
      "       33.35129251, 33.59958462, 33.84712863, 34.09392975, 34.33999308,\n",
      "       34.58532373, 34.82992674, 35.07380713, 35.31696984, 35.55941982,\n",
      "       35.80116192, 36.04220101, 36.28254186, 36.52218923, 36.76114783,\n",
      "       36.99942234, 37.23701738, 37.47393753, 37.71018735, 37.94577133,\n",
      "       38.18069394, 38.41495961, 38.64857271, 38.88153758, 39.11385853,\n",
      "       39.34553982, 39.57658568, 39.80700028, 40.03678778, 40.26595227,\n",
      "       40.49449784, 40.7224285 , 40.94974827, 41.17646108, 41.40257086,\n",
      "       41.6280815 , 41.85299684, 42.07732069, 42.30105683, 42.524209  ,\n",
      "       42.74678091, 42.96877623, 43.19019859, 43.4110516 , 43.63133882,\n",
      "       43.85106381, 44.07023005, 44.28884103, 44.50690018, 44.72441091,\n",
      "       44.9413766 , 45.15780059, 45.37368619, 45.5890367 , 45.80385536,\n",
      "       46.0181454 , 46.23191002, 46.44515238, 46.65787561, 46.87008283,\n",
      "       47.08177711, 47.29296151, 47.50363905, 47.71381273, 47.92348552,\n",
      "       48.13266036, 48.34134016, 48.54952783, 48.75722622, 48.96443817,\n",
      "       49.17116649, 49.37741398, 49.5831834 , 49.78847749, 49.99329896,\n",
      "       50.1976505 ]))\n"
     ]
    }
   ],
   "source": [
    "import numpy as np\n",
    "\n",
    "#funzione\n",
    "def log_logcube(x):\n",
    "    return (np.log(x), np.log(x)**3)\n",
    "\n",
    "#variabili\n",
    "val = np.linspace(20,40,101)\n",
    "test = np.array([np.e, np.e**2, np.e**3])\n",
    "\n",
    "#chiamo la funzione\n",
    "print (log_logcube(test), 2*\"\\n\")\n",
    "print (log_logcube(val))"
   ]
  },
  {
   "cell_type": "markdown",
   "metadata": {},
   "source": [
    "### Esercizio 2\n",
    "__Scrivete l'array `a1` dei numeri interi fra 100 e 400.  Estraete in un array `b2` gli elementi di `a1` che hanno resto 2 modulo 7. Costruite l'array `b3` degli inversi degli elementi di `b2`.\n",
    "Costruite l'array `b4` che contiene gli elementi di `b3` in ordine crescente.__"
   ]
  },
  {
   "cell_type": "code",
   "execution_count": 49,
   "metadata": {},
   "outputs": [
    {
     "data": {
      "text/plain": [
       "array([0.00253807, 0.00258398, 0.00263158, 0.00268097, 0.00273224,\n",
       "       0.00278552, 0.00284091, 0.00289855, 0.00295858, 0.00302115,\n",
       "       0.00308642, 0.00315457, 0.00322581, 0.00330033, 0.00337838,\n",
       "       0.00346021, 0.0035461 , 0.00363636, 0.00373134, 0.00383142,\n",
       "       0.00393701, 0.00404858, 0.00416667, 0.00429185, 0.00442478,\n",
       "       0.00456621, 0.00471698, 0.00487805, 0.00505051, 0.0052356 ,\n",
       "       0.00543478, 0.00564972, 0.00588235, 0.00613497, 0.00641026,\n",
       "       0.00671141, 0.00704225, 0.00740741, 0.0078125 , 0.00826446,\n",
       "       0.00877193, 0.00934579, 0.01      ])"
      ]
     },
     "execution_count": 49,
     "metadata": {},
     "output_type": "execute_result"
    }
   ],
   "source": [
    "#a1 = array dei numeri interi da 1 a 400\n",
    "a1 = np.arange(100,401)\n",
    "\n",
    "#b2 = array dei valori di a1 che, divisi per 7, hanno resto 2\n",
    "b2 = a1[a1 % 7 == 2]\n",
    "\n",
    "#b3 = array degli elementi inversi di b2\n",
    "b3 = 1/b2\n",
    "\n",
    "#b4 = array degli elementi di b3 sistemati in ordine crescente\n",
    "b4 = np.sort(b3)"
   ]
  },
  {
   "cell_type": "markdown",
   "metadata": {},
   "source": [
    "### Esercizio 3\n",
    "__Risolvere il sistema di equazioni:__\n",
    "$$x+2y +3z=2$$ \n",
    "$$-x+y-2z+5t=0$$\n",
    "$$x+ y-z +t=-4$$\n",
    "$$2y-3z-t=-1$$\n",
    "__Verificare che la soluzione trovata soddisfa le equazioni di partenza.__"
   ]
  },
  {
   "cell_type": "code",
   "execution_count": 4,
   "metadata": {
    "tags": []
   },
   "outputs": [
    {
     "name": "stdout",
     "output_type": "stream",
     "text": [
      "[ 2.0000000e+00 -4.4408921e-16 -4.0000000e+00 -1.0000000e+00] = [ 2.  0. -4. -1.]\n"
     ]
    }
   ],
   "source": [
    "A = np.array([[1,2,3,0],[-1,1,-2,5],[1,1,-1,1],[0,2,-3,-1]]) #matrice dei coefficienti\n",
    "b = np.array([2.,0.,-4.,-1.]) #vettore dei termini noti\n",
    "\n",
    "inc = LA.solve(A,b) #vettore delle incognite\n",
    "\n",
    "print(f\"{np.dot(A,inc)} = {b}\") #verifica visiva"
   ]
  },
  {
   "cell_type": "markdown",
   "metadata": {},
   "source": [
    "### Esercizio 4\n",
    "__Scrivete una funzione `func(x,shift=False)` che dato un array `x` restituica l'array `x2` dei quadrati dei valori in `x`. Se e solo se `shift=True` func deve sottrarre 5 a tutti gli elementi di `x2`.__<BR>\n",
    "__Testate `func` su `numpy.arange(1,10,0.3)`.__"
   ]
  },
  {
   "cell_type": "code",
   "execution_count": 50,
   "metadata": {},
   "outputs": [
    {
     "data": {
      "text/plain": [
       "[(1.0, -4.0),\n",
       " (1.6900000000000002, -3.3099999999999996),\n",
       " (2.5600000000000005, -2.4399999999999995),\n",
       " (3.6100000000000003, -1.3899999999999997),\n",
       " (4.840000000000001, -0.15999999999999925),\n",
       " (6.25, 1.25),\n",
       " (7.840000000000002, 2.8400000000000016),\n",
       " (9.610000000000003, 4.610000000000003),\n",
       " (11.560000000000002, 6.560000000000002),\n",
       " (13.690000000000001, 8.690000000000001),\n",
       " (16.0, 11.0),\n",
       " (18.490000000000006, 13.490000000000006),\n",
       " (21.160000000000004, 16.160000000000004),\n",
       " (24.010000000000005, 19.010000000000005),\n",
       " (27.04000000000001, 22.04000000000001),\n",
       " (30.25000000000001, 25.25000000000001),\n",
       " (33.64000000000001, 28.640000000000008),\n",
       " (37.21000000000001, 32.21000000000001),\n",
       " (40.96000000000001, 35.96000000000001),\n",
       " (44.890000000000015, 39.890000000000015),\n",
       " (49.000000000000014, 44.000000000000014),\n",
       " (53.29000000000001, 48.29000000000001),\n",
       " (57.76000000000002, 52.76000000000002),\n",
       " (62.41000000000002, 57.41000000000002),\n",
       " (67.24000000000002, 62.24000000000002),\n",
       " (72.25, 67.25),\n",
       " (77.44000000000001, 72.44000000000001),\n",
       " (82.81000000000003, 77.81000000000003),\n",
       " (88.36000000000004, 83.36000000000004),\n",
       " (94.09000000000002, 89.09000000000002)]"
      ]
     },
     "execution_count": 50,
     "metadata": {},
     "output_type": "execute_result"
    }
   ],
   "source": [
    "#definire la funzione\n",
    "def func(x,shift=False):\n",
    "    x2 = x**2\n",
    "    if shift == True:\n",
    "        x2 -= 5\n",
    "    return x2\n",
    "\n",
    "#testare la funzione\n",
    "x = np.arange(1,10,0.3)\n",
    "list(zip(func(x),func(x, shift = True))) #in questo caso si legge meglio se non si usa la funzione print()"
   ]
  },
  {
   "cell_type": "code",
   "execution_count": null,
   "metadata": {},
   "outputs": [],
   "source": []
  }
 ],
 "metadata": {
  "kernelspec": {
   "display_name": "Python 3 (ipykernel)",
   "language": "python",
   "name": "python3"
  },
  "language_info": {
   "codemirror_mode": {
    "name": "ipython",
    "version": 3
   },
   "file_extension": ".py",
   "mimetype": "text/x-python",
   "name": "python",
   "nbconvert_exporter": "python",
   "pygments_lexer": "ipython3",
   "version": "3.11.5"
  }
 },
 "nbformat": 4,
 "nbformat_minor": 4
}

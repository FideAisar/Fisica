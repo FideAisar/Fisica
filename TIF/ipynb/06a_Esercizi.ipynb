{
 "cells": [
  {
   "cell_type": "markdown",
   "metadata": {},
   "source": [
    "# Programmare in Python\n",
    "\n",
    "Il format generico della definizione di una funzione è:\n",
    "\n",
    "```python\n",
    "def my_function(arg1, arg2, ..., argn):\n",
    "    \"\"\"Optional docstring.\"\"\"\n",
    "\n",
    "    # Implementation of the function\n",
    "\n",
    "    return result  # optional\n",
    "\n",
    "#this is not part of the function\n",
    "some_command\n",
    "```\n",
    "Le parentesi dopo il nome della funzione sono necessarie. Se una funzione non ha argomenti si scrive:\n",
    "```python\n",
    "def my_function2():\n",
    "```"
   ]
  },
  {
   "cell_type": "markdown",
   "metadata": {},
   "source": [
    "#### Esempio 1\n",
    "Una funzione che prende come input due numeri e ne restituisce la somma:"
   ]
  },
  {
   "cell_type": "code",
   "execution_count": null,
   "metadata": {},
   "outputs": [],
   "source": [
    "def my_sum(a,b):\n",
    "    ''' Calcola la somma dei due numeri in input'''\n",
    "    c = a+b\n",
    "    return c"
   ]
  },
  {
   "cell_type": "markdown",
   "metadata": {},
   "source": [
    "#### Esempio 2\n",
    "Una funzione senza input che restituisce il valore di $\\pi$:"
   ]
  },
  {
   "cell_type": "code",
   "execution_count": null,
   "metadata": {},
   "outputs": [],
   "source": [
    "def my_pi():\n",
    "    '''Restituisce il valore di pi-greco'''\n",
    "    return 3.141592653589793\n",
    "\n",
    "my_pi()"
   ]
  },
  {
   "cell_type": "markdown",
   "metadata": {},
   "source": [
    "#### Esempio 3\n",
    "Una funzione che calcola l'area di un rettangolo."
   ]
  },
  {
   "cell_type": "code",
   "execution_count": 6,
   "metadata": {},
   "outputs": [
    {
     "name": "stdout",
     "output_type": "stream",
     "text": [
      "L'area del rettangolo di lati 3.0 e 4.0 vale 12.0\n"
     ]
    },
    {
     "data": {
      "text/plain": [
       "12.0"
      ]
     },
     "execution_count": 6,
     "metadata": {},
     "output_type": "execute_result"
    }
   ],
   "source": [
    "def area_rettangolo(a,b):\n",
    "    '''\n",
    "    Calcola l'area di un rettangolo.\n",
    "    Input: lunghezza di due lati contigui\n",
    "    '''\n",
    "    c = a*b\n",
    "    print(\"L'area del rettangolo di lati\",a,\"e\",b,\"vale\",c)\n",
    "    return c\n",
    "\n",
    "area_rettangolo(3.,4.)"
   ]
  },
  {
   "cell_type": "code",
   "execution_count": 7,
   "metadata": {},
   "outputs": [
    {
     "name": "stdout",
     "output_type": "stream",
     "text": [
      "Help on function area_rettangolo in module __main__:\n",
      "\n",
      "area_rettangolo(a, b)\n",
      "    Calcola l'area di un rettangolo.\n",
      "    Input: lunghezza di due lati contigui\n",
      "\n"
     ]
    }
   ],
   "source": [
    "help(area_rettangolo)"
   ]
  },
  {
   "cell_type": "markdown",
   "metadata": {},
   "source": [
    "## Esercizi: Funzioni"
   ]
  },
  {
   "cell_type": "markdown",
   "metadata": {},
   "source": [
    "__1 - Scrivete una funzione che prenda come input le coordinate due punti del piano, p1x, p1y, p2x e p2y, e restituisca la loro distanza. Per le coordinate del secondo punto, p2x e p2y, usate parametri opzionali con default 0. In questo modo la funzione può essere usata in modo semplice per calcolare la distanza di un punto dall'origine.__"
   ]
  },
  {
   "cell_type": "code",
   "execution_count": 2,
   "metadata": {
    "tags": []
   },
   "outputs": [
    {
     "data": {
      "text/plain": [
       "1.4142135623730951"
      ]
     },
     "execution_count": 2,
     "metadata": {},
     "output_type": "execute_result"
    }
   ],
   "source": [
    "def dist(p1x, p1y, p2x=0, p2y=0):\n",
    "    d = ((p1x - p2x)**2 + (p1y - p2y)**2)**(1/2)\n",
    "    return d\n",
    "dist(1,1)"
   ]
  },
  {
   "cell_type": "markdown",
   "metadata": {},
   "source": [
    "__2 - Scrivete una funzione che calcoli a) il tempo di viaggio b) i litri di benzina consumati c) il costo della benzina per il viaggio, usando come informazioni: a) la distanza b) il numero di km percorsi per litro c) il costo di un litro di benzina d) la velocità (assunta costante) dell'auto.__"
   ]
  },
  {
   "cell_type": "code",
   "execution_count": null,
   "metadata": {},
   "outputs": [],
   "source": []
  },
  {
   "cell_type": "markdown",
   "metadata": {},
   "source": [
    "__3 - Costruite una funzione pos(y0,v0,v1) che prenda come input la posizione iniziale y0 di un grave di massa M, la sua velocità inziale v0 e una velocità v1. `pos` deve calcolare la posizione del grave quando la sua velocità è uguale a v1 (g = 9.81 m/s\\*\\*2).__"
   ]
  },
  {
   "cell_type": "code",
   "execution_count": 39,
   "metadata": {
    "tags": []
   },
   "outputs": [
    {
     "ename": "UnboundLocalError",
     "evalue": "cannot access local variable 't' where it is not associated with a value",
     "output_type": "error",
     "traceback": [
      "\u001b[0;31m---------------------------------------------------------------------------\u001b[0m",
      "\u001b[0;31mUnboundLocalError\u001b[0m                         Traceback (most recent call last)",
      "Cell \u001b[0;32mIn[39], line 11\u001b[0m\n\u001b[1;32m      9\u001b[0m         v \u001b[38;5;241m=\u001b[39m v0 \u001b[38;5;241m-\u001b[39m (g \u001b[38;5;241m*\u001b[39m T)\n\u001b[1;32m     10\u001b[0m     \u001b[38;5;28;01mreturn\u001b[39;00m y\n\u001b[0;32m---> 11\u001b[0m pos(\u001b[38;5;241m1\u001b[39m,\u001b[38;5;241m2\u001b[39m,\u001b[38;5;241m3\u001b[39m)\n",
      "Cell \u001b[0;32mIn[39], line 7\u001b[0m, in \u001b[0;36mpos\u001b[0;34m(y0, v0, v1)\u001b[0m\n\u001b[1;32m      5\u001b[0m v \u001b[38;5;241m=\u001b[39m v0 \u001b[38;5;241m-\u001b[39m (g \u001b[38;5;241m*\u001b[39m T)\n\u001b[1;32m      6\u001b[0m \u001b[38;5;28;01mwhile\u001b[39;00m v \u001b[38;5;241m!=\u001b[39m v1:\n\u001b[0;32m----> 7\u001b[0m     t \u001b[38;5;241m+\u001b[39m\u001b[38;5;241m=\u001b[39m \u001b[38;5;241m1\u001b[39m\n\u001b[1;32m      8\u001b[0m     y \u001b[38;5;241m=\u001b[39m y0 \u001b[38;5;241m+\u001b[39m (v0 \u001b[38;5;241m*\u001b[39m T) \u001b[38;5;241m-\u001b[39m (\u001b[38;5;241m0.5\u001b[39m \u001b[38;5;241m*\u001b[39m g \u001b[38;5;241m*\u001b[39m T\u001b[38;5;241m*\u001b[39m\u001b[38;5;241m*\u001b[39m\u001b[38;5;241m2\u001b[39m)\n\u001b[1;32m      9\u001b[0m     v \u001b[38;5;241m=\u001b[39m v0 \u001b[38;5;241m-\u001b[39m (g \u001b[38;5;241m*\u001b[39m T)\n",
      "\u001b[0;31mUnboundLocalError\u001b[0m: cannot access local variable 't' where it is not associated with a value"
     ]
    }
   ],
   "source": [
    "def pos(y0,v0,v1):\n",
    "    T = 0\n",
    "    g = 9.81 \n",
    "    y = y0 + (v0 * T) - (0.5 * g * T**2)\n",
    "    v = v0 - (g * T)\n",
    "    while v != v1:\n",
    "        t += 1\n",
    "        y = y0 + (v0 * T) - (0.5 * g * T**2)\n",
    "        v = v0 - (g * T)\n",
    "    return y\n",
    "pos(1,2,3)"
   ]
  },
  {
   "cell_type": "markdown",
   "metadata": {},
   "source": [
    "__4 - Costruite una funzione che prenda come input l'altezza iniziale y0 di un grave di massa M, la sua velocità inziale v0 e il tempo trascorso T, e calcoli la posizione e la velocità del grave in funzione del tempo T (g = 9.81 m/s\\*\\*2). Si confronti con il risultato dell'esercizio precedente.__"
   ]
  },
  {
   "cell_type": "code",
   "execution_count": 36,
   "metadata": {
    "tags": []
   },
   "outputs": [
    {
     "data": {
      "text/plain": [
       "(-490.5, -98.10000000000001)"
      ]
     },
     "execution_count": 36,
     "metadata": {},
     "output_type": "execute_result"
    }
   ],
   "source": [
    "def func(y0, v0, T):\n",
    "    g = 9.81 \n",
    "    y = y0 + (v0 * T) - (0.5 * g * T**2)\n",
    "    v = v0 - (g * T)\n",
    "    return y, v\n",
    "func(0,0,10)"
   ]
  },
  {
   "cell_type": "markdown",
   "metadata": {},
   "source": [
    "__5 - Costruite una funzione che converta una misura di temperatura in gradi Farhenheit nella corrispondente misura in gradi Celsius, sapendo che, a pressione standard, l'acqua congela a 32 F, bolle a 212 F e la relazione fra le due scale è lineare. Scrivete nel file FtoC.txt le temperature Farhenheit fra 0 F e 200 F a intervalli di 10 gradi e le corrispondenti temperature Celsius, con una coppia di valori per riga.__<BR>\n",
    "__Esempio:__\n",
    "```\n",
    "    0.0        -17.7778\n",
    "   10.0        -12.2222\n",
    "```"
   ]
  },
  {
   "cell_type": "code",
   "execution_count": 19,
   "metadata": {
    "tags": []
   },
   "outputs": [],
   "source": [
    "def temp(far):\n",
    "    for i in far:\n",
    "        cel = (i - 32)*5/9\n",
    "        print(f\"{cel}\")\n",
    "far = [10,20,30]"
   ]
  },
  {
   "cell_type": "code",
   "execution_count": 20,
   "metadata": {
    "tags": []
   },
   "outputs": [
    {
     "ename": "TypeError",
     "evalue": "unsupported operand type(s) for -: 'list' and 'int'",
     "output_type": "error",
     "traceback": [
      "\u001b[0;31m---------------------------------------------------------------------------\u001b[0m",
      "\u001b[0;31mTypeError\u001b[0m                                 Traceback (most recent call last)",
      "Cell \u001b[0;32mIn[20], line 1\u001b[0m\n\u001b[0;32m----> 1\u001b[0m temp(far)\n",
      "Cell \u001b[0;32mIn[19], line 3\u001b[0m, in \u001b[0;36mtemp\u001b[0;34m(*far)\u001b[0m\n\u001b[1;32m      1\u001b[0m \u001b[38;5;28;01mdef\u001b[39;00m \u001b[38;5;21mtemp\u001b[39m(\u001b[38;5;241m*\u001b[39mfar):\n\u001b[1;32m      2\u001b[0m     \u001b[38;5;28;01mfor\u001b[39;00m i \u001b[38;5;129;01min\u001b[39;00m far:\n\u001b[0;32m----> 3\u001b[0m         cel \u001b[38;5;241m=\u001b[39m (i \u001b[38;5;241m-\u001b[39m \u001b[38;5;241m32\u001b[39m)\u001b[38;5;241m*\u001b[39m\u001b[38;5;241m5\u001b[39m\u001b[38;5;241m/\u001b[39m\u001b[38;5;241m9\u001b[39m\n\u001b[1;32m      4\u001b[0m         \u001b[38;5;28mprint\u001b[39m(\u001b[38;5;124mf\u001b[39m\u001b[38;5;124m\"\u001b[39m\u001b[38;5;132;01m{\u001b[39;00mcel\u001b[38;5;132;01m}\u001b[39;00m\u001b[38;5;124m\"\u001b[39m)\n",
      "\u001b[0;31mTypeError\u001b[0m: unsupported operand type(s) for -: 'list' and 'int'"
     ]
    }
   ],
   "source": [
    "temp(far)"
   ]
  },
  {
   "cell_type": "markdown",
   "metadata": {},
   "source": [
    "__6 - Costruite una funzione che restituisca la probalità di osservare N eventi in un intervallo di tempo dato usando la distribuzione di Poisson.__"
   ]
  },
  {
   "cell_type": "code",
   "execution_count": null,
   "metadata": {},
   "outputs": [],
   "source": []
  },
  {
   "cell_type": "markdown",
   "metadata": {},
   "source": [
    "__7 - Costruite una funzione che restituisca la densità di probabilità di ottenere il valore X usando la distribuzione gaussiana.__"
   ]
  },
  {
   "cell_type": "code",
   "execution_count": null,
   "metadata": {},
   "outputs": [],
   "source": []
  },
  {
   "cell_type": "markdown",
   "metadata": {},
   "source": [
    "__8 - Costruite una funzione che restituisca il periodo di oscillazione di un pendolo di lunghezza L e massa M (g = 9.81 m/s\\*\\*2). Cosa succede se la lunghezza L raddoppia? E se raddoppia la massa M? Sulla Luna la costante di gravitazione vale g = 1.62 m/s\\*\\*2. Qual'è il rapporto fra i periodi di oscillazione dello stesso pendolo sulla superficie della Terra e su quella della Luna?__"
   ]
  },
  {
   "cell_type": "code",
   "execution_count": null,
   "metadata": {},
   "outputs": [],
   "source": []
  },
  {
   "cell_type": "markdown",
   "metadata": {},
   "source": [
    "__9 - Un grave di massa M viene lanciato verso l'alto con velocità v0, da una altezza y0 rispetto al terreno.\n",
    "Costruite una funzione che calcoli in quale istante arriverà a terra (g = 9.81 m/s**2).__"
   ]
  },
  {
   "cell_type": "code",
   "execution_count": 39,
   "metadata": {
    "tags": []
   },
   "outputs": [
    {
     "data": {
      "text/plain": [
       "0.4517539514526256"
      ]
     },
     "execution_count": 39,
     "metadata": {},
     "output_type": "execute_result"
    }
   ],
   "source": [
    "import math\n",
    "\n",
    "def fall(v0,y0,g = 9.8):\n",
    "    t = -v0 - math.sqrt((-v0)**2-4*(-1/2)*g*y0) / (2*(-1/2)*g)\n",
    "    return t\n",
    "fall(0,1)"
   ]
  },
  {
   "cell_type": "markdown",
   "metadata": {},
   "source": [
    "__10 - Costruite una funzione che calcoli il perimetro di un poligono regolare di N lati, inscritto in un circonferenza di raggio 1 metro. Verificate che per grandi valori di N il risultato sia sensato. Scrivete in un file Side2Perimeter.txt i risultati per 3 $\\le$ N $\\le$ 50.__"
   ]
  },
  {
   "cell_type": "code",
   "execution_count": 43,
   "metadata": {
    "tags": []
   },
   "outputs": [],
   "source": [
    "def per(n,r):\n",
    "    A = n/2 * (r**2) * math.sin(2*math.pi/n)\n",
    "    return A\n",
    "\n",
    "with open(\"Side2Area.txt\",\"w\") as file:\n",
    "    for i in range(3,51):\n",
    "        file.write(f\"{per(i,1)}\"+\"\\n\")"
   ]
  },
  {
   "cell_type": "markdown",
   "metadata": {},
   "source": [
    "__11 - Scrivete in un file chiamato \"operazioni.py\":__\n",
    "- __Una funzione \"somma\" che restituisca la somma di due numeri dati in input__\n",
    "- __Una funzione \"differenza\" che restituisca la differenza fra due numeri dati in input__\n",
    "\n",
    "__Salvate il file nella directory corrente.__<br>\n",
    "__Importate il modulo \"operazioni\" nella vostra sessione.__<br>\n",
    "__Eseguite le operazioni: (17 + 5.3) e (14.7 - 8.9) usando le funzioni \"somma\" e \"differenza\".__\n",
    "\n",
    "__Ricordate la differenza fra:__\n",
    "\n",
    "- `import X`\n",
    "\n",
    "- `from X import Y`\n",
    "\n",
    "- `from X import *`"
   ]
  },
  {
   "cell_type": "code",
   "execution_count": 52,
   "metadata": {
    "tags": []
   },
   "outputs": [
    {
     "data": {
      "text/plain": [
       "1"
      ]
     },
     "execution_count": 52,
     "metadata": {},
     "output_type": "execute_result"
    }
   ],
   "source": [
    "import operazioni\n",
    "\n",
    "somma(17,5.3)\n",
    "differenza(2,1)"
   ]
  },
  {
   "cell_type": "code",
   "execution_count": null,
   "metadata": {},
   "outputs": [],
   "source": []
  }
 ],
 "metadata": {
  "hide_input": false,
  "kernelspec": {
   "display_name": "Python 3 (ipykernel)",
   "language": "python",
   "name": "python3"
  },
  "language_info": {
   "codemirror_mode": {
    "name": "ipython",
    "version": 3
   },
   "file_extension": ".py",
   "mimetype": "text/x-python",
   "name": "python",
   "nbconvert_exporter": "python",
   "pygments_lexer": "ipython3",
   "version": "3.11.5"
  },
  "toc": {
   "base_numbering": 1,
   "nav_menu": {},
   "number_sections": true,
   "sideBar": true,
   "skip_h1_title": true,
   "title_cell": "Table of Contents",
   "title_sidebar": "Contents",
   "toc_cell": false,
   "toc_position": {},
   "toc_section_display": true,
   "toc_window_display": false
  },
  "varInspector": {
   "cols": {
    "lenName": 16,
    "lenType": 16,
    "lenVar": 40
   },
   "kernels_config": {
    "python": {
     "delete_cmd_postfix": "",
     "delete_cmd_prefix": "del ",
     "library": "var_list.py",
     "varRefreshCmd": "print(var_dic_list())"
    },
    "r": {
     "delete_cmd_postfix": ") ",
     "delete_cmd_prefix": "rm(",
     "library": "var_list.r",
     "varRefreshCmd": "cat(var_dic_list()) "
    }
   },
   "types_to_exclude": [
    "module",
    "function",
    "builtin_function_or_method",
    "instance",
    "_Feature"
   ],
   "window_display": false
  }
 },
 "nbformat": 4,
 "nbformat_minor": 4
}

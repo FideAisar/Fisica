{
 "cells": [
  {
   "cell_type": "markdown",
   "metadata": {},
   "source": [
    "# Programmare in Python\n",
    "\n",
    "## Esercizi: Control Flow"
   ]
  },
  {
   "cell_type": "markdown",
   "metadata": {},
   "source": [
    "### Esempio 1: if-elif-else"
   ]
  },
  {
   "cell_type": "code",
   "execution_count": null,
   "metadata": {},
   "outputs": [],
   "source": [
    "a = 37\n",
    "if a == 0:\n",
    "    print(\"a is zero\")\n",
    "elif a < 0:\n",
    "    print(\"a is negative\")\n",
    "else:\n",
    "    print(\"a is positive\")"
   ]
  },
  {
   "cell_type": "markdown",
   "metadata": {},
   "source": [
    "### Esempio 2: do-loop"
   ]
  },
  {
   "cell_type": "code",
   "execution_count": null,
   "metadata": {},
   "outputs": [],
   "source": [
    "for i in range(5,10):\n",
    "    print(i)"
   ]
  },
  {
   "cell_type": "markdown",
   "metadata": {},
   "source": [
    "### Esempio 3: while-loop"
   ]
  },
  {
   "cell_type": "code",
   "execution_count": null,
   "metadata": {},
   "outputs": [],
   "source": [
    "repeat = 0\n",
    "while repeat < 5:\n",
    "    print('repeat:',repeat)\n",
    "    repeat+=1"
   ]
  },
  {
   "cell_type": "markdown",
   "metadata": {},
   "source": [
    "### Esercizi"
   ]
  },
  {
   "cell_type": "markdown",
   "metadata": {},
   "source": [
    "__1 - Scrivete una funzione che determini se un numero intero è pari o dispari e dia la risposta con un messaggio appropriato.__"
   ]
  },
  {
   "cell_type": "code",
   "execution_count": null,
   "metadata": {},
   "outputs": [],
   "source": []
  },
  {
   "cell_type": "markdown",
   "metadata": {},
   "source": [
    "__2 -Scrivete una funzione per determinare se un numero intero N1 è divisibile per un numero intero N2. La funzione deve ritornare `True/False`.__"
   ]
  },
  {
   "cell_type": "code",
   "execution_count": 7,
   "metadata": {
    "tags": []
   },
   "outputs": [
    {
     "name": "stdout",
     "output_type": "stream",
     "text": [
      "Divisibile\n"
     ]
    }
   ],
   "source": [
    "def div(n1,n2):\n",
    "    if n1%n2 == 0:\n",
    "        print(\"Divisibile\")\n",
    "    else:\n",
    "        print(\"non divisibile\")\n",
    "\n",
    "div(4,2)"
   ]
  },
  {
   "cell_type": "markdown",
   "metadata": {},
   "source": [
    "__3 - Scrivete una funzione che, date le lunghezze di tre segmenti, determini se possono formare un triangolo e restituisca un messaggio opportuno.__"
   ]
  },
  {
   "cell_type": "code",
   "execution_count": 13,
   "metadata": {},
   "outputs": [
    {
     "name": "stdout",
     "output_type": "stream",
     "text": [
      "triangolabile\n"
     ]
    }
   ],
   "source": [
    "def tran(a,b,c):\n",
    "    if (a + b)> c:\n",
    "        print(\"triangolabile\")\n",
    "    else:\n",
    "        print(\"non triangolabile\")\n",
    "tran(1,2,1)"
   ]
  },
  {
   "cell_type": "markdown",
   "metadata": {},
   "source": [
    "__4 - Scrivere una funzione che determini se un carattere A, dato in input, è una vocale.__"
   ]
  },
  {
   "cell_type": "code",
   "execution_count": 10,
   "metadata": {
    "tags": []
   },
   "outputs": [
    {
     "name": "stdout",
     "output_type": "stream",
     "text": [
      "Consonante\n"
     ]
    }
   ],
   "source": [
    "def vocale(l):\n",
    "    vocali = [\"a\",\"e\",\"i\",\"o\",\"u\"]\n",
    "    if l in vocali:\n",
    "        print(\"Vocale\")\n",
    "    else:\n",
    "        print(\"Consonante\")\n",
    "vocale(\"b\")"
   ]
  },
  {
   "cell_type": "markdown",
   "metadata": {},
   "source": [
    "__5 - Scrivere una funzione che prenda come input un intero e restituisca la somma delle sue cifre.__"
   ]
  },
  {
   "cell_type": "code",
   "execution_count": 1,
   "metadata": {},
   "outputs": [
    {
     "name": "stdin",
     "output_type": "stream",
     "text": [
      " 10\n"
     ]
    },
    {
     "data": {
      "text/plain": [
       "1"
      ]
     },
     "execution_count": 1,
     "metadata": {},
     "output_type": "execute_result"
    }
   ],
   "source": [
    "numero = input()\n",
    "\n",
    "for i in range(len(numero)+1):\n",
    "    lista_cifre_str = list(numero[0:i])\n",
    "sum([int(i) for i in lista_cifre_str])"
   ]
  },
  {
   "cell_type": "code",
   "execution_count": 22,
   "metadata": {
    "tags": []
   },
   "outputs": [
    {
     "data": {
      "text/plain": [
       "3"
      ]
     },
     "execution_count": 22,
     "metadata": {},
     "output_type": "execute_result"
    }
   ],
   "source": [
    "numero  = 102\n",
    "cifre = []\n",
    "for i in range(len(str(numero))):\n",
    "    cifre.append(int(str(numero)[i]))\n",
    "    i += 1\n",
    "sum(cifre)"
   ]
  },
  {
   "cell_type": "markdown",
   "metadata": {},
   "source": [
    "__6 - Scrivere una funzione che stampi le prime N righe del triangolo di Pascal (coefficienti dello sviluppo binomiale) usando un metodo iterativo.__"
   ]
  },
  {
   "cell_type": "code",
   "execution_count": 38,
   "metadata": {},
   "outputs": [
    {
     "name": "stdout",
     "output_type": "stream",
     "text": [
      "1.0 1.0 2.0 1.0 3.0 3.0 1.0 4.0 6.0 4.0 1.0 5.0 10.0 10.0 5.0 1.0 6.0 15.0 20.0 15.0 6.0 1.0 7.0 21.0 35.0 35.0 21.0 7.0 1.0 8.0 28.0 56.0 70.0 56.0 28.0 8.0 1.0 9.0 36.0 84.0 126.0 126.0 84.0 36.0 9.0 "
     ]
    }
   ],
   "source": [
    "def pascal(n):\n",
    "    for i in range(n):      # ripeti l'operazione per n-numero di righe volte\n",
    "        for k in range(i):  # in base al numero di elementi della riga stampa i relativi coefficienti binomiali\n",
    "            print((math.factorial(i))/((math.factorial(k))*math.factorial(i-k)),end=\" \")\n",
    "pascal(10)"
   ]
  },
  {
   "cell_type": "markdown",
   "metadata": {},
   "source": [
    "__7 - Scrivere una funzione che stampi l'N-esima riga del triangolo di Pascal (coefficienti dello sviluppo binomiale) usando l'espressione analitica.__"
   ]
  },
  {
   "cell_type": "code",
   "execution_count": 26,
   "metadata": {},
   "outputs": [
    {
     "name": "stdout",
     "output_type": "stream",
     "text": [
      "1.0\n",
      "1.0\n",
      "2.0\n",
      "1.0\n",
      "3.0\n",
      "3.0\n",
      "1.0\n",
      "4.0\n",
      "6.0\n",
      "4.0\n"
     ]
    }
   ],
   "source": []
  },
  {
   "cell_type": "code",
   "execution_count": null,
   "metadata": {},
   "outputs": [],
   "source": [
    "def pascal(n):\n",
    "    for i in range(n)\n",
    "        for k in range(i): \n",
    "            print((math.factorial(n))/((math.factorial(i))*math.factorial(n-i)),\"\\n\")\n",
    "pascal(5)"
   ]
  },
  {
   "cell_type": "markdown",
   "metadata": {},
   "source": [
    "__8 - Scrivete una funzione per calcolare le radici di un'equazione algebrica di secondo grado tenendo conto del segno del determinante.__ "
   ]
  },
  {
   "cell_type": "code",
   "execution_count": null,
   "metadata": {},
   "outputs": [],
   "source": []
  },
  {
   "cell_type": "markdown",
   "metadata": {},
   "source": [
    "__9 - Scrivete una funzione che verifichi se un numero intero N è palindromo oppure no (Palindromo vuol dire che è identico a se stesso se letto da destra a sinistra invece che da sinistra a destra).__"
   ]
  },
  {
   "cell_type": "code",
   "execution_count": 32,
   "metadata": {},
   "outputs": [
    {
     "name": "stdout",
     "output_type": "stream",
     "text": [
      "palindromo\n"
     ]
    }
   ],
   "source": [
    "def func(n):\n",
    "    n = str(n)\n",
    "    u = n[::-1]\n",
    "    if n == u:\n",
    "            print(\"palindromo\")\n",
    "    else:\n",
    "            print(\"non palindromo\")\n",
    "\n",
    "func(11)"
   ]
  },
  {
   "cell_type": "markdown",
   "metadata": {},
   "source": [
    "__10 - Un filamento di DNA è una stringa formata dall'alfabeto 'A', 'C', 'G', and 'T' (Adenina, Citosina, Guanina, Timina).<br>\n",
    "Data una stringa D di DNA corrispondente a un filamento di codice genetico, la sua trascrizione in una stringa R di RNA si ottiene rimpiazzando tutte le istanze di 'T' (Timina) in D con 'U'.<br>\n",
    "Costruite una funzione che, data una stringa D di DNA, contenente al più 1000 nucleotidi, restituisca la sua trascrizione in una stringa R di RNA.__<BR>\n",
    "__Testate la vostra funzione con il filamento CCAGTTCTGATTG.__"
   ]
  },
  {
   "cell_type": "code",
   "execution_count": 74,
   "metadata": {},
   "outputs": [
    {
     "data": {
      "text/plain": [
       "'&&AGTT&TGATTG'"
      ]
     },
     "execution_count": 74,
     "metadata": {},
     "output_type": "execute_result"
    }
   ],
   "source": [
    "d = \"CCAGTTCTGATTG\"\n",
    "d.replace(\"T\",\"&\")"
   ]
  },
  {
   "cell_type": "markdown",
   "metadata": {},
   "source": [
    "__11 - In una molecola di DNA, i simboli 'A' e 'T' sono complementari, come lo sono 'C' e 'G'. In altre parole, se in un filamento di DNA alla posizione N c'è 'A' ('C'), nel secondo filamento (complemento) alla posizione N c'e' sempre 'T' ('G') e viceversa.<br> \n",
    "Il complemento inverso SC di un filamento di DNA S si ottiene invertendo l'ordine dei simboli e poi sostituendo ciascun simbolo con il suo complemento. Per esempio il complemento inverso di \"GTCA\" è \"TGAC\".<br>\n",
    "Costruite una funzione che, data una stringa S di DNA, contenente al più 1000 nucleotidi, restituisca il suo complemento inverso SC?<br>\n",
    "Cosa succede se si inverte l'ordine delle operazioni, cioè prima si sostituisce ciascun simbolo con il suo complemento e poi si inverte l'ordine dei simboli?__"
   ]
  },
  {
   "cell_type": "code",
   "execution_count": null,
   "metadata": {},
   "outputs": [],
   "source": []
  },
  {
   "cell_type": "markdown",
   "metadata": {},
   "source": [
    "__12 - Scrivete una funzione per calcolare il Massimo Comun Divisore fra due interi usando l'algoritmo di Euclide (Cercatelo su Google.).__"
   ]
  },
  {
   "cell_type": "code",
   "execution_count": null,
   "metadata": {},
   "outputs": [],
   "source": []
  },
  {
   "cell_type": "markdown",
   "metadata": {},
   "source": [
    "__13 - Scrivere una funzione che determini se tutti i numeri di una lista, data in input, sono più grandi di un numero dato R.__"
   ]
  },
  {
   "cell_type": "code",
   "execution_count": 16,
   "metadata": {},
   "outputs": [
    {
     "data": {
      "text/plain": [
       "1"
      ]
     },
     "execution_count": 16,
     "metadata": {},
     "output_type": "execute_result"
    }
   ],
   "source": [
    "def mag(R,lista):\n",
    "    '''\n",
    "    Controlla ogni elemento della lista, se un elemento è minore di R mette un meno all'uno assegnato alla variabile q.\n",
    "    '''\n",
    "    q = 1\n",
    "    for i in lista:\n",
    "        if i > R:    \n",
    "            q = q*1\n",
    "        else:\n",
    "            q = q*(-1)\n",
    "    return q\n",
    "mag(1,[2,3,4])"
   ]
  },
  {
   "cell_type": "markdown",
   "metadata": {},
   "source": [
    "__14 - Scrivete una funzione che prende come input un intero e restituisca la somma delle sue cifre dispari.__\n",
    "\n",
    "__Test:__\n",
    "* Input: -131723\n",
    "* Output: 15  "
   ]
  },
  {
   "cell_type": "code",
   "execution_count": 26,
   "metadata": {},
   "outputs": [
    {
     "data": {
      "text/plain": [
       "15"
      ]
     },
     "execution_count": 26,
     "metadata": {},
     "output_type": "execute_result"
    }
   ],
   "source": [
    "def disp(n):\n",
    "    n_str = str(n)\n",
    "    dispari = [int(i) for i in n_str if int(i)%2 != 0]\n",
    "    return sum(dispari)\n",
    "disp(131723)"
   ]
  },
  {
   "cell_type": "markdown",
   "metadata": {},
   "source": [
    "__15 - Costruite, usando un ciclo opportuno, una ntupla che contenga il quadrato di tutti i numeri interi a una cifra.__"
   ]
  },
  {
   "cell_type": "code",
   "execution_count": 33,
   "metadata": {},
   "outputs": [
    {
     "name": "stdout",
     "output_type": "stream",
     "text": [
      "[0, 1, 4, 9, 16, 25, 36, 49, 64, 81]\n"
     ]
    }
   ],
   "source": [
    "# versione breve\n",
    "quad = [i**2 for i in range(0,10)]\n",
    "\n",
    "# versione lunga\n",
    "i = 0\n",
    "quad = []\n",
    "while i < 10:\n",
    "    quad.append(i**2)\n",
    "    i += 1\n",
    "print(quad)"
   ]
  },
  {
   "cell_type": "markdown",
   "metadata": {},
   "source": [
    "__16 - Scrivete una funzione che prenda come input il seno e il coseno di un angolo alfa e che restituisca il valore dell'angolo.__"
   ]
  },
  {
   "cell_type": "code",
   "execution_count": 16,
   "metadata": {},
   "outputs": [
    {
     "data": {
      "text/plain": [
       "135.0"
      ]
     },
     "execution_count": 16,
     "metadata": {},
     "output_type": "execute_result"
    }
   ],
   "source": [
    "import math\n",
    "def ang(s,c):\n",
    "    if s > 0 and c > 0:\n",
    "        a = math.degrees(math.asin(s))\n",
    "    elif s > 0 and c < 0:\n",
    "        a = math.degrees(math.pi - math.asin(s))\n",
    "    elif s < 0 and c > 0:\n",
    "        a = math.degrees(2*math.pi - math.acos(c))\n",
    "    elif s < 0 and c < 0:\n",
    "        a = math.degrees(math.pi + math.acos(-c))\n",
    "    return a\n",
    "ang(1/math.sqrt(2),-1/math.sqrt(2))      \n",
    "        "
   ]
  },
  {
   "cell_type": "markdown",
   "metadata": {},
   "source": [
    "__17 - Scrivere una funzione che calcoli la somma di due numeri se entrambi sono interi, altrimenti restituisca un appropriato messaggio di errore.(Hint: cercate in rete informazioni sulla funzione intrinseca `isinstance` oppure usate `help(isinstance)`.)__"
   ]
  },
  {
   "cell_type": "markdown",
   "metadata": {},
   "source": [
    "def som(a,b):\n",
    "    if type(a) == int:\n",
    "        return a + b\n",
    "    else:\n",
    "        print('non sono due interi')\n",
    "som(1.1,2)"
   ]
  },
  {
   "cell_type": "markdown",
   "metadata": {},
   "source": [
    "__18 - Scrivere una funzione che prenda come input una lista di interi e restituisca la lista degli elementi pari, nello stesso ordine in cui compaiono nella lista iniziale.__<BR>\n",
    "\n",
    "__Sfida opzionale: Modificate la funzione in modo che se nella lista compare il numero 237, la funzione non restituisca nessuno dei numeri che seguono 237.__"
   ]
  },
  {
   "cell_type": "code",
   "execution_count": 44,
   "metadata": {},
   "outputs": [
    {
     "data": {
      "text/plain": [
       "[2, 4, 200]"
      ]
     },
     "execution_count": 44,
     "metadata": {},
     "output_type": "execute_result"
    }
   ],
   "source": [
    "def func(lista):\n",
    "    lista_pari = [i for i in lista if i%2 == 0 and  i < 237]\n",
    "    return lista_pari\n",
    "func([1,2,3,4,5,200,240])"
   ]
  },
  {
   "cell_type": "markdown",
   "metadata": {},
   "source": [
    "__19 - Un anno è bisestile se:__ \n",
    "\n",
    "- Non è secolare, cioè non è divisibile per 100, ed è divisibile per 4.\n",
    "- È secolare ed è divisibile per 400.\n",
    "\n",
    "__Scrivete una funzione che prenda come input un intero positivo e ritorni se l'anno corrispondente è bisestile oppure no con un messaggio opportuno__."
   ]
  },
  {
   "cell_type": "code",
   "execution_count": 2,
   "metadata": {
    "tags": []
   },
   "outputs": [
    {
     "name": "stdout",
     "output_type": "stream",
     "text": [
      "a\n"
     ]
    }
   ],
   "source": [
    "def func(n):\n",
    "    if n%100 != 0 and n%4 == 0:\n",
    "        print('bisestile')\n",
    "    else:\n",
    "        print('non bisesetile')\n",
    "func(2020)"
   ]
  },
  {
   "cell_type": "markdown",
   "metadata": {},
   "source": [
    "__20 - Trovate tutti i numeri interi positivi e non nulli $a$, $b$ tali che__\n",
    "$$ \\sqrt{a} + \\sqrt{b} = \\sqrt{2009}.$$"
   ]
  },
  {
   "cell_type": "code",
   "execution_count": 4,
   "metadata": {},
   "outputs": [
    {
     "name": "stdout",
     "output_type": "stream",
     "text": [
      "41 1476\n",
      "164 1025\n",
      "369 656\n",
      "656 369\n",
      "1025 164\n",
      "1476 41\n"
     ]
    }
   ],
   "source": [
    "for a in range(2009):\n",
    "    for b in range(2009):\n",
    "        if (a)**0.5 + (b)**0.5 == (2009)**0.5:\n",
    "            print(a,b)\n",
    "        "
   ]
  },
  {
   "cell_type": "markdown",
   "metadata": {},
   "source": [
    "__21 - Calcolare numericamente la somma:__\n",
    "$$\\frac{1}{1+\\sqrt{2}} + \\frac{1}{\\sqrt{2}+\\sqrt{3}} + \\frac{1}{\\sqrt{3}+\\sqrt{4}} + \\cdots + \\frac{1}{\\sqrt{2021}+\\sqrt{2022}}.$$\n",
    "__(La risposta è $\\sqrt{2022} - 1$.)__"
   ]
  },
  {
   "cell_type": "code",
   "execution_count": 5,
   "metadata": {},
   "outputs": [
    {
     "name": "stdout",
     "output_type": "stream",
     "text": [
      "43.977772288098144\n"
     ]
    }
   ],
   "source": [
    "import math\n",
    "\n",
    "i = 0\n",
    "a = 0\n",
    "while i < 2022:\n",
    "    a = a + 1/(math.sqrt(i+1) + math.sqrt(i+2))\n",
    "    i = i + 1\n",
    "print(a)"
   ]
  },
  {
   "cell_type": "markdown",
   "metadata": {},
   "source": [
    "__22 - La \"Congettura di Collatz\" è una congettura la cui validità nessuno è finora stato capace di provare o confutare. La si può descrivere così:__\n",
    "\n",
    "- Si prenda un numero intero intero positivo N\n",
    "- Se N è pari si divida N per 2\n",
    "- Se N è dispari si moltiplichi N per 3 e poi si aggiunga 1.\n",
    "- Si ripeta la procedura con il nuovo risultato\n",
    "\n",
    "__La congettura di Collatz afferma che per qualunque N la sequenza arriva a 1 (Quando la sequenza arriva a 1 segue poi il ciclo 1 -> 4 -> 2 -> 1 e quindi si considera terminata.)__<BR>\n",
    "__Costruite la funzione Collatz(N) che restituisca in una lista l'intera sequenza di numeri che a partire da N arriva per la prima volta a 1.__\n"
   ]
  },
  {
   "cell_type": "code",
   "execution_count": 11,
   "metadata": {},
   "outputs": [
    {
     "data": {
      "text/plain": [
       "[50.0,\n",
       " 25.0,\n",
       " 76.0,\n",
       " 38.0,\n",
       " 19.0,\n",
       " 58.0,\n",
       " 29.0,\n",
       " 88.0,\n",
       " 44.0,\n",
       " 22.0,\n",
       " 11.0,\n",
       " 34.0,\n",
       " 17.0,\n",
       " 52.0,\n",
       " 26.0,\n",
       " 13.0,\n",
       " 40.0,\n",
       " 20.0,\n",
       " 10.0,\n",
       " 5.0,\n",
       " 16.0,\n",
       " 8.0,\n",
       " 4.0,\n",
       " 2.0,\n",
       " 1.0]"
      ]
     },
     "execution_count": 11,
     "metadata": {},
     "output_type": "execute_result"
    }
   ],
   "source": [
    "def collatz(N):\n",
    "    lista = []\n",
    "    while N != 1:\n",
    "        if N%2 == 0:  # se è pari\n",
    "            N = N/2\n",
    "            lista.append(N)\n",
    "        else:\n",
    "            N = N*3 + 1\n",
    "            lista.append(N)\n",
    "    return lista\n",
    "collatz(100)"
   ]
  },
  {
   "cell_type": "markdown",
   "metadata": {},
   "source": [
    "__23 - La funzione `all_equal` ([source](https://levelup.gitconnected.com/10-python-hacks-in-30s-1b86b0e91ff2)) verifica che tutti gli elementi di `lst` siano uguali. Spiegate l'algoritmo che utilizza.__"
   ]
  },
  {
   "cell_type": "code",
   "execution_count": 16,
   "metadata": {},
   "outputs": [
    {
     "data": {
      "text/plain": [
       "True"
      ]
     },
     "execution_count": 16,
     "metadata": {},
     "output_type": "execute_result"
    }
   ],
   "source": [
    "def all_equal(lst):\n",
    " \"\"\"\n",
    " It returns True if all the elements in the list are equal, and False otherwise\n",
    "\n",
    " :param lst: The list to check\n",
    " :return: True or False\n",
    " \"\"\"\n",
    " return lst[1:] == lst[:-1]\n",
    "all_equal([1,1,1,1])"
   ]
  },
  {
   "cell_type": "code",
   "execution_count": null,
   "metadata": {},
   "outputs": [],
   "source": []
  }
 ],
 "metadata": {
  "hide_input": false,
  "kernelspec": {
   "display_name": "Python 3 (ipykernel)",
   "language": "python",
   "name": "python3"
  },
  "language_info": {
   "codemirror_mode": {
    "name": "ipython",
    "version": 3
   },
   "file_extension": ".py",
   "mimetype": "text/x-python",
   "name": "python",
   "nbconvert_exporter": "python",
   "pygments_lexer": "ipython3",
   "version": "3.11.5"
  },
  "toc": {
   "base_numbering": 1,
   "nav_menu": {},
   "number_sections": true,
   "sideBar": true,
   "skip_h1_title": true,
   "title_cell": "Table of Contents",
   "title_sidebar": "Contents",
   "toc_cell": false,
   "toc_position": {},
   "toc_section_display": true,
   "toc_window_display": false
  },
  "varInspector": {
   "cols": {
    "lenName": 16,
    "lenType": 16,
    "lenVar": 40
   },
   "kernels_config": {
    "python": {
     "delete_cmd_postfix": "",
     "delete_cmd_prefix": "del ",
     "library": "var_list.py",
     "varRefreshCmd": "print(var_dic_list())"
    },
    "r": {
     "delete_cmd_postfix": ") ",
     "delete_cmd_prefix": "rm(",
     "library": "var_list.r",
     "varRefreshCmd": "cat(var_dic_list()) "
    }
   },
   "types_to_exclude": [
    "module",
    "function",
    "builtin_function_or_method",
    "instance",
    "_Feature"
   ],
   "window_display": false
  }
 },
 "nbformat": 4,
 "nbformat_minor": 4
}

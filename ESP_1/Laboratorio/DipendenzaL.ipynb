{
 "cells": [
  {
   "cell_type": "markdown",
   "metadata": {},
   "source": [
    "### Given two list of x and y coordinates, and a list of errors on y, find the straight line that minimizes the sum of distances between the line and the (x,y) points."
   ]
  },
  {
   "cell_type": "code",
   "execution_count": 1,
   "metadata": {},
   "outputs": [],
   "source": [
    "import matplotlib.pyplot as plt\n",
    "import numpy as np"
   ]
  },
  {
   "cell_type": "code",
   "execution_count": 2,
   "metadata": {
    "scrolled": true
   },
   "outputs": [
    {
     "data": {
      "text/plain": [
       "5"
      ]
     },
     "execution_count": 2,
     "metadata": {},
     "output_type": "execute_result"
    }
   ],
   "source": [
    "xdata = np.array([2.260011111,0.9267271111,0.4391271111,2.422173444,2.064011111])\n",
    "ydata = np.array([60.20,26.70,14.50,63.00,54.80])\n",
    "yerr = np.array([0.2,0.2,0.2,0.2,0.2])\n",
    "if (len(xdata)!=len(ydata)): print (\"dimensioni vettori disuguali\")\n",
    "if (len(yerr)!=len(ydata)): print (\"dimensioni vettori disuguali\")\n",
    "npoint = len(xdata)\n",
    "npoint"
   ]
  },
  {
   "cell_type": "markdown",
   "metadata": {},
   "source": [
    "Determiniamo i parametri $a$ and $b$ della retta di best fit $y = b x + a$ che minimizza:\n",
    "$ \\chi^2 = \\sum_i \\frac{(y_i - b x_i - a)^2}{\\sigma_i^2}$\n",
    "    \n",
    "$a$ e $b$ sono soluzioni del sistema lineare:\n",
    "$\\begin{bmatrix}\n",
    "\\sum_i \\frac{1}{\\sigma_i^2} & \\sum_i \\frac{x_i}{\\sigma_i^2}\\\\\n",
    "\\sum_i \\frac{x_i}{\\sigma_i^2} & \\sum_i \\frac{x_i^2}{\\sigma_i^2}\n",
    "\\end{bmatrix}$\n",
    "$\\begin{bmatrix} a\\\\b \\end{bmatrix}$ = \n",
    "$\\begin{bmatrix} \\sum_i \\frac{y_i}{\\sigma_i^2} \\\\ \\sum_i \\frac{x_i y_i}{\\sigma_i^2}\\end{bmatrix}$\n",
    "\n",
    "In forma matriciale : DA = B quindi A = D^(-1)B"
   ]
  },
  {
   "cell_type": "code",
   "execution_count": 3,
   "metadata": {},
   "outputs": [],
   "source": [
    "yerrSq = yerr*yerr\n",
    "sum_one_over_yerrSq = (1./yerrSq).sum()\n",
    "sum_x_over_yerrSq = (xdata/yerrSq).sum()\n",
    "sum_xSq_over_yerrSq = (xdata*xdata/yerrSq).sum()\n",
    "sum_y_over_yerrSq = (ydata/yerrSq).sum()\n",
    "sum_xy_over_yerrSq = (xdata*ydata/yerrSq).sum()"
   ]
  },
  {
   "cell_type": "markdown",
   "metadata": {},
   "source": [
    "Calcolo Coefficiente correlazione lineare"
   ]
  },
  {
   "cell_type": "code",
   "execution_count": 4,
   "metadata": {},
   "outputs": [
    {
     "name": "stdout",
     "output_type": "stream",
     "text": [
      "coefficiente correlazione =  0.9998052979212673\n"
     ]
    }
   ],
   "source": [
    "sum_x = (xdata).sum()\n",
    "sum_y = (ydata).sum()\n",
    "xmean=sum_x/npoint\n",
    "ymean=sum_y/npoint\n",
    "ameanx=xdata-xmean\n",
    "varx = (ameanx*ameanx).sum()\n",
    "devstx = np.sqrt(varx)\n",
    "ameany = ydata-ymean\n",
    "vary = (ameany*ameany).sum()\n",
    "devsty = np.sqrt(vary)\n",
    "covxy = (ameanx*ameany).sum()\n",
    "corrcoeff=covxy/(devstx*devsty)\n",
    "print (\"coefficiente correlazione = \",corrcoeff)"
   ]
  },
  {
   "cell_type": "code",
   "execution_count": 5,
   "metadata": {},
   "outputs": [
    {
     "data": {
      "text/plain": [
       "array([[125.        , 202.8012472 ],\n",
       "       [202.8012472 , 407.15930098]])"
      ]
     },
     "execution_count": 5,
     "metadata": {},
     "output_type": "execute_result"
    }
   ],
   "source": [
    "matD = np.array([[sum_one_over_yerrSq,sum_x_over_yerrSq],[sum_x_over_yerrSq,sum_xSq_over_yerrSq]])\n",
    "matD"
   ]
  },
  {
   "cell_type": "code",
   "execution_count": 6,
   "metadata": {},
   "outputs": [
    {
     "data": {
      "text/plain": [
       "array([[ 0.04168909, -0.02076485],\n",
       "       [-0.02076485,  0.01279877]])"
      ]
     },
     "execution_count": 6,
     "metadata": {},
     "output_type": "execute_result"
    }
   ],
   "source": [
    "matD_inv = np.linalg.inv(matD)\n",
    "matD_inv"
   ]
  },
  {
   "cell_type": "markdown",
   "metadata": {},
   "source": [
    "Check D^(-1)D = I"
   ]
  },
  {
   "cell_type": "code",
   "execution_count": 7,
   "metadata": {
    "scrolled": true
   },
   "outputs": [
    {
     "data": {
      "text/plain": [
       "array([[ 1.0000000e+00, -4.4408921e-16],\n",
       "       [ 0.0000000e+00,  1.0000000e+00]])"
      ]
     },
     "execution_count": 7,
     "metadata": {},
     "output_type": "execute_result"
    }
   ],
   "source": [
    "np.dot(matD,matD_inv)"
   ]
  },
  {
   "cell_type": "code",
   "execution_count": 8,
   "metadata": {},
   "outputs": [
    {
     "data": {
      "text/plain": [
       "array([ 5480.        , 10821.70904286])"
      ]
     },
     "execution_count": 8,
     "metadata": {},
     "output_type": "execute_result"
    }
   ],
   "source": [
    "matB = np.array([sum_y_over_yerrSq,sum_xy_over_yerrSq])\n",
    "matB"
   ]
  },
  {
   "cell_type": "code",
   "execution_count": 9,
   "metadata": {
    "scrolled": true
   },
   "outputs": [
    {
     "data": {
      "text/plain": [
       "array([ 3.7451112 , 24.71316705])"
      ]
     },
     "execution_count": 9,
     "metadata": {},
     "output_type": "execute_result"
    }
   ],
   "source": [
    "np.dot(matD_inv,matB)"
   ]
  },
  {
   "cell_type": "markdown",
   "metadata": {},
   "source": [
    "Calcolo parametri fit"
   ]
  },
  {
   "cell_type": "code",
   "execution_count": 10,
   "metadata": {
    "scrolled": true
   },
   "outputs": [
    {
     "name": "stdout",
     "output_type": "stream",
     "text": [
      " intercetta a (u.m.)=  3.745111204508447\n",
      " coeff.angolare b (u.m.)=  24.71316704660228\n"
     ]
    }
   ],
   "source": [
    "a, b = np.dot(matD_inv,matB)[0],np.dot(matD_inv,matB)[1]\n",
    "print (\" intercetta a (u.m.)= \", a)\n",
    "print (\" coeff.angolare b (u.m.)= \", b)"
   ]
  },
  {
   "cell_type": "markdown",
   "metadata": {},
   "source": [
    "Calcolo errori sui parametri"
   ]
  },
  {
   "cell_type": "code",
   "execution_count": 11,
   "metadata": {},
   "outputs": [
    {
     "name": "stdout",
     "output_type": "stream",
     "text": [
      " errore su intercetta siga (u.m.)=  0.20417906872496253\n",
      " errore su coeff.angolare sigb (u.m.)=  0.11313163016004403\n"
     ]
    }
   ],
   "source": [
    "siga, sigb = np.sqrt(matD_inv[0,0]), np.sqrt(matD_inv[1,1])\n",
    "print (\" errore su intercetta siga (u.m.)= \",siga)\n",
    "print (\" errore su coeff.angolare sigb (u.m.)= \",sigb)"
   ]
  },
  {
   "cell_type": "markdown",
   "metadata": {},
   "source": [
    "Plot"
   ]
  },
  {
   "cell_type": "code",
   "execution_count": 12,
   "metadata": {},
   "outputs": [
    {
     "data": {
      "text/plain": [
       "<ErrorbarContainer object of 3 artists>"
      ]
     },
     "execution_count": 12,
     "metadata": {},
     "output_type": "execute_result"
    },
    {
     "data": {
      "image/png": "[encoded data removed]",
      "text/plain": [
       "<Figure size 640x480 with 1 Axes>"
      ]
     },
     "metadata": {},
     "output_type": "display_data"
    }
   ],
   "source": [
    "fig, ax = plt.subplots()\n",
    "ax.set_ylim(8,70)\n",
    "ax.set_xlim(0.1, 2.8)\n",
    "ax.set_xlabel('variable x - u.m.')\n",
    "ax.set_ylabel('variable y - u.m.')\n",
    "plt.plot(xdata,b*xdata+a,xdata,ydata,'bo')\n",
    "plt.errorbar(xdata,ydata,yerr=yerr,ecolor='black', ls=\" \")"
   ]
  },
  {
   "cell_type": "markdown",
   "metadata": {},
   "source": [
    "Calcolo X^2 e errore standard della stima"
   ]
  },
  {
   "cell_type": "code",
   "execution_count": 13,
   "metadata": {},
   "outputs": [
    {
     "name": "stdout",
     "output_type": "stream",
     "text": [
      " Chi^2 =  18.587293417673305\n",
      " errore standard della stima (u.m.) =  0.4978258519827096\n"
     ]
    }
   ],
   "source": [
    "scarto1 = (ydata-a-b*xdata)/yerr\n",
    "scarto2 = (ydata-a-b*xdata)\n",
    "chi2 = (scarto1*scarto1).sum()\n",
    "errstSq = (scarto2*scarto2/(npoint-2)).sum()\n",
    "errst = np.sqrt(errstSq)\n",
    "print (\" Chi^2 = \",chi2)\n",
    "print (\" errore standard della stima (u.m.) = \",errst)"
   ]
  },
  {
   "cell_type": "code",
   "execution_count": null,
   "metadata": {},
   "outputs": [],
   "source": []
  },
  {
   "cell_type": "code",
   "execution_count": null,
   "metadata": {},
   "outputs": [],
   "source": []
  }
 ],
 "metadata": {
  "celltoolbar": "Raw Cell Format",
  "kernelspec": {
   "display_name": "Python 3 (ipykernel)",
   "language": "python",
   "name": "python3"
  },
  "language_info": {
   "codemirror_mode": {
    "name": "ipython",
    "version": 3
   },
   "file_extension": ".py",
   "mimetype": "text/x-python",
   "name": "python",
   "nbconvert_exporter": "python",
   "pygments_lexer": "ipython3",
   "version": "3.11.8"
  }
 },
 "nbformat": 4,
 "nbformat_minor": 4
}

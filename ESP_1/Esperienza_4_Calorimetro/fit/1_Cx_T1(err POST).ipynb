{
 "cells": [
  {
   "cell_type": "markdown",
   "metadata": {},
   "source": [
    "### Given two list of x and y coordinates, and a list of errors on y, find the straight line that minimizes the sum of distances between the line and the (x,y) points."
   ]
  },
  {
   "cell_type": "code",
   "execution_count": 1,
   "metadata": {},
   "outputs": [],
   "source": [
    "import matplotlib.pyplot as plt\n",
    "import numpy as np"
   ]
  },
  {
   "cell_type": "code",
   "execution_count": null,
   "metadata": {},
   "outputs": [],
   "source": []
  },
  {
   "cell_type": "code",
   "execution_count": 2,
   "metadata": {
    "scrolled": true
   },
   "outputs": [
    {
     "data": {
      "text/plain": [
       "11"
      ]
     },
     "execution_count": 2,
     "metadata": {},
     "output_type": "execute_result"
    }
   ],
   "source": [
    "xdata = np.array([\n",
    "60.000,\n",
    "120.000,\n",
    "180.000,\n",
    "240.000,\n",
    "300.000,\n",
    "360.000,\n",
    "420.000,\n",
    "480.000,\n",
    "540.000,\n",
    "600.000,\n",
    "660.000])\n",
    "ydata = np.array([\n",
    "15.310,\n",
    "15.320,\n",
    "15.330,\n",
    "15.350,\n",
    "15.370,\n",
    "15.390,\n",
    "15.410,\n",
    "15.430,\n",
    "15.450,\n",
    "15.460,\n",
    "15.490])\n",
    "yerr = np.array([\n",
    "0.005467996881764883,0.005467996881764883,0.005467996881764883,0.005467996881764883,0.005467996881764883,0.005467996881764883,0.005467996881764883,0.005467996881764883,0.005467996881764883,0.005467996881764883,0.005467996881764883,\n",
    "])\n",
    "if (len(xdata)!=len(ydata)): print (\"dimensioni vettori disuguali\")\n",
    "if (len(yerr)!=len(ydata)): print (\"dimensioni vettori disuguali\")\n",
    "npoint = len(xdata)\n",
    "npoint"
   ]
  },
  {
   "cell_type": "markdown",
   "metadata": {},
   "source": [
    "Determiniamo i parametri $a$ and $b$ della retta di best fit $y = b x + a$ che minimizza:\n",
    "$ \\chi^2 = \\sum_i \\frac{(y_i - b x_i - a)^2}{\\sigma_i^2}$\n",
    "    \n",
    "$a$ e $b$ sono soluzioni del sistema lineare:\n",
    "$\\begin{bmatrix}\n",
    "\\sum_i \\frac{1}{\\sigma_i^2} & \\sum_i \\frac{x_i}{\\sigma_i^2}\\\\\n",
    "\\sum_i \\frac{x_i}{\\sigma_i^2} & \\sum_i \\frac{x_i^2}{\\sigma_i^2}\n",
    "\\end{bmatrix}$\n",
    "$\\begin{bmatrix} a\\\\b \\end{bmatrix}$ = \n",
    "$\\begin{bmatrix} \\sum_i \\frac{y_i}{\\sigma_i^2} \\\\ \\sum_i \\frac{x_i y_i}{\\sigma_i^2}\\end{bmatrix}$\n",
    "\n",
    "In forma matriciale : DA = B quindi A = D^(-1)B"
   ]
  },
  {
   "cell_type": "code",
   "execution_count": 3,
   "metadata": {},
   "outputs": [],
   "source": [
    "yerrSq = yerr*yerr\n",
    "sum_one_over_yerrSq = (1./yerrSq).sum()\n",
    "sum_x_over_yerrSq = (xdata/yerrSq).sum()\n",
    "sum_xSq_over_yerrSq = (xdata*xdata/yerrSq).sum()\n",
    "sum_y_over_yerrSq = (ydata/yerrSq).sum()\n",
    "sum_xy_over_yerrSq = (xdata*ydata/yerrSq).sum()"
   ]
  },
  {
   "cell_type": "markdown",
   "metadata": {},
   "source": [
    "Calcolo Coefficiente correlazione lineare"
   ]
  },
  {
   "cell_type": "code",
   "execution_count": 18,
   "metadata": {},
   "outputs": [
    {
     "name": "stdout",
     "output_type": "stream",
     "text": [
      "coefficiente correlazione =  0.9963925198073199\n",
      "121.19999999999997\n"
     ]
    }
   ],
   "source": [
    "sum_x = (xdata).sum()\n",
    "sum_y = (ydata).sum()\n",
    "xmean=sum_x/npoint\n",
    "ymean=sum_y/npoint\n",
    "ameanx=xdata-xmean\n",
    "varx = (ameanx*ameanx).sum()\n",
    "devstx = np.sqrt(varx)\n",
    "ameany = ydata-ymean\n",
    "vary = (ameany*ameany).sum()\n",
    "devsty = np.sqrt(vary)\n",
    "covxy = (ameanx*ameany).sum()\n",
    "corrcoeff=covxy/(devstx*devsty)\n",
    "print (\"coefficiente correlazione = \",corrcoeff)\n"
   ]
  },
  {
   "cell_type": "code",
   "execution_count": 5,
   "metadata": {},
   "outputs": [
    {
     "data": {
      "text/plain": [
       "array([[3.67905405e+05, 1.32445946e+08],\n",
       "       [1.32445946e+08, 6.09251351e+10]])"
      ]
     },
     "execution_count": 5,
     "metadata": {},
     "output_type": "execute_result"
    }
   ],
   "source": [
    "matD = np.array([[sum_one_over_yerrSq,sum_x_over_yerrSq],[sum_x_over_yerrSq,sum_xSq_over_yerrSq]])\n",
    "matD"
   ]
  },
  {
   "cell_type": "code",
   "execution_count": 6,
   "metadata": {},
   "outputs": [
    {
     "data": {
      "text/plain": [
       "array([[ 1.25032140e-05, -2.71808999e-08],\n",
       "       [-2.71808999e-08,  7.55024997e-11]])"
      ]
     },
     "execution_count": 6,
     "metadata": {},
     "output_type": "execute_result"
    }
   ],
   "source": [
    "matD_inv = np.linalg.inv(matD)\n",
    "matD_inv"
   ]
  },
  {
   "cell_type": "markdown",
   "metadata": {},
   "source": [
    "Check D^(-1)D = I"
   ]
  },
  {
   "cell_type": "code",
   "execution_count": 7,
   "metadata": {
    "scrolled": true
   },
   "outputs": [
    {
     "data": {
      "text/plain": [
       "array([[1., 0.],\n",
       "       [0., 1.]])"
      ]
     },
     "execution_count": 7,
     "metadata": {},
     "output_type": "execute_result"
    }
   ],
   "source": [
    "np.dot(matD,matD_inv)"
   ]
  },
  {
   "cell_type": "code",
   "execution_count": 8,
   "metadata": {},
   "outputs": [
    {
     "data": {
      "text/plain": [
       "array([5.66273311e+06, 2.04263757e+09])"
      ]
     },
     "execution_count": 8,
     "metadata": {},
     "output_type": "execute_result"
    }
   ],
   "source": [
    "matB = np.array([sum_y_over_yerrSq,sum_xy_over_yerrSq])\n",
    "matB"
   ]
  },
  {
   "cell_type": "code",
   "execution_count": 9,
   "metadata": {
    "scrolled": true
   },
   "outputs": [
    {
     "data": {
      "text/plain": [
       "array([1.52816364e+01, 3.06060606e-04])"
      ]
     },
     "execution_count": 9,
     "metadata": {},
     "output_type": "execute_result"
    }
   ],
   "source": [
    "np.dot(matD_inv,matB)"
   ]
  },
  {
   "cell_type": "markdown",
   "metadata": {},
   "source": [
    "Calcolo parametri fit"
   ]
  },
  {
   "cell_type": "code",
   "execution_count": 10,
   "metadata": {
    "scrolled": true
   },
   "outputs": [
    {
     "name": "stdout",
     "output_type": "stream",
     "text": [
      " intercetta a (u.m.)=  15.281636363636395\n",
      " coeff.angolare b (u.m.)=  0.000306060606060532\n"
     ]
    }
   ],
   "source": [
    "a, b = np.dot(matD_inv,matB)[0],np.dot(matD_inv,matB)[1]\n",
    "print (\" intercetta a (u.m.)= \", a)\n",
    "print (\" coeff.angolare b (u.m.)= \", b)"
   ]
  },
  {
   "cell_type": "markdown",
   "metadata": {},
   "source": [
    "Calcolo errori sui parametri"
   ]
  },
  {
   "cell_type": "code",
   "execution_count": 11,
   "metadata": {},
   "outputs": [
    {
     "name": "stdout",
     "output_type": "stream",
     "text": [
      " errore su intercetta siga (u.m.)=  0.003535988398985448\n",
      " errore su coeff.angolare sigb (u.m.)=  8.689217441457288e-06\n"
     ]
    }
   ],
   "source": [
    "siga, sigb = np.sqrt(matD_inv[0,0]), np.sqrt(matD_inv[1,1])\n",
    "print (\" errore su intercetta siga (u.m.)= \",siga)\n",
    "print (\" errore su coeff.angolare sigb (u.m.)= \",sigb)"
   ]
  },
  {
   "cell_type": "markdown",
   "metadata": {},
   "source": [
    "Plot"
   ]
  },
  {
   "cell_type": "code",
   "execution_count": 12,
   "metadata": {},
   "outputs": [
    {
     "data": {
      "text/plain": [
       "<ErrorbarContainer object of 3 artists>"
      ]
     },
     "execution_count": 12,
     "metadata": {},
     "output_type": "execute_result"
    },
    {
     "data": {
      "image/png": "[encoded data removed]",
      "text/plain": [
       "<Figure size 640x480 with 1 Axes>"
      ]
     },
     "metadata": {},
     "output_type": "display_data"
    }
   ],
   "source": [
    "fig, ax = plt.subplots()\n",
    "ax.set_ylim(14,16)\n",
    "ax.set_xlim(-0, 690)\n",
    "ax.set_xlabel('variable x - u.m.')\n",
    "ax.set_ylabel('variable y - u.m.')\n",
    "plt.plot(xdata,b*xdata+a,xdata,ydata,'bo')\n",
    "plt.errorbar(xdata,ydata,yerr=yerr,ecolor='black', ls=\" \")"
   ]
  },
  {
   "cell_type": "markdown",
   "metadata": {},
   "source": [
    "Calcolo X^2 e errore standard della stima"
   ]
  },
  {
   "cell_type": "code",
   "execution_count": 13,
   "metadata": {},
   "outputs": [
    {
     "name": "stdout",
     "output_type": "stream",
     "text": [
      " Chi^2 =  9.000000000000004\n",
      " errore standard della stima (u.m.) =  0.0054679968817648835\n"
     ]
    }
   ],
   "source": [
    "scarto1 = (ydata-a-b*xdata)/yerr\n",
    "scarto2 = (ydata-a-b*xdata)\n",
    "chi2 = (scarto1*scarto1).sum()\n",
    "errstSq = (scarto2*scarto2/(npoint-2)).sum()\n",
    "errst = np.sqrt(errstSq)\n",
    "print (\" Chi^2 = \",chi2)\n",
    "print (\" errore standard della stima (u.m.) = \",errst)"
   ]
  },
  {
   "cell_type": "code",
   "execution_count": null,
   "metadata": {},
   "outputs": [],
   "source": []
  },
  {
   "cell_type": "code",
   "execution_count": 14,
   "metadata": {},
   "outputs": [],
   "source": [
    "#Intercetta con retta vert     x = 843      e retta    y = 15.281636363636395 + 0.00031x"
   ]
  },
  {
   "cell_type": "code",
   "execution_count": 17,
   "metadata": {},
   "outputs": [
    {
     "data": {
      "text/plain": [
       "15.539645454545424"
      ]
     },
     "execution_count": 17,
     "metadata": {},
     "output_type": "execute_result"
    }
   ],
   "source": [
    "intercettay = a + b*843 \n",
    "intercettay"
   ]
  },
  {
   "cell_type": "code",
   "execution_count": null,
   "metadata": {},
   "outputs": [],
   "source": []
  }
 ],
 "metadata": {
  "celltoolbar": "Raw Cell Format",
  "kernelspec": {
   "display_name": "Python 3 (ipykernel)",
   "language": "python",
   "name": "python3"
  },
  "language_info": {
   "codemirror_mode": {
    "name": "ipython",
    "version": 3
   },
   "file_extension": ".py",
   "mimetype": "text/x-python",
   "name": "python",
   "nbconvert_exporter": "python",
   "pygments_lexer": "ipython3",
   "version": "3.12.3"
  }
 },
 "nbformat": 4,
 "nbformat_minor": 4
}

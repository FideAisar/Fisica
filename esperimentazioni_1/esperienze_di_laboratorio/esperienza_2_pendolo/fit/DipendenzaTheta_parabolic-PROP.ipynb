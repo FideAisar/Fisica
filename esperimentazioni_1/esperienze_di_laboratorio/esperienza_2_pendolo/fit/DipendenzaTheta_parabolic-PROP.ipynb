{
 "cells": [
  {
   "cell_type": "markdown",
   "metadata": {},
   "source": [
    "### Given two list of x and y coordinates, and a list of errors on y, find the parabola that minimizes the sum of square distances between the parabola and the (x,y) points."
   ]
  },
  {
   "cell_type": "code",
   "execution_count": 1,
   "metadata": {},
   "outputs": [],
   "source": [
    "import matplotlib.pyplot as plt\n",
    "import numpy as np\n",
    "from sympy import *"
   ]
  },
  {
   "cell_type": "code",
   "execution_count": 2,
   "metadata": {},
   "outputs": [],
   "source": [
    "xx, yy, aa, bb, cc = symbols('xx yy aa bb cc')"
   ]
  },
  {
   "cell_type": "raw",
   "metadata": {},
   "source": [
    "Si comprimono i valori di x tra -1 e 1 : se non serve decommentare l'ultima riga"
   ]
  },
  {
   "cell_type": "code",
   "execution_count": 18,
   "metadata": {},
   "outputs": [
    {
     "name": "stdout",
     "output_type": "stream",
     "text": [
      "0.0436194\n",
      "0.258819\n",
      "9.293697571928572\n",
      "1.405385511868981\n"
     ]
    }
   ],
   "source": [
    "xdataor = np.array([0.0436194,0.0871557,0.1305262,0.1736482,0.2164396,0.2588190])\n",
    "npoint = len(xdataor)\n",
    "npoint\n",
    "ax,bx = float(xdataor[0]),float(xdataor[npoint-1])\n",
    "apx,bpx = 2./(bx-ax),(bx + ax)/(bx - ax)\n",
    "print(ax)\n",
    "print(bx)\n",
    "print(apx)\n",
    "print(bpx)\n",
    "xdata = xdataor*apx - bpx\n",
    "xdata\n",
    "xdata=xdataor"
   ]
  },
  {
   "cell_type": "code",
   "execution_count": 19,
   "metadata": {},
   "outputs": [],
   "source": [
    "ydata = np.array([1.702,1.706,1.710,1.715,1.723,1.731,])\n",
    "yerr = np.array([0.0032940,0.0061103,0.0089456,0.0117522,0.0145092,0.0172006])\n",
    "if (len(xdata)!=len(ydata)): print (\"dimensioni vettori disuguali\")\n",
    "if (len(yerr)!=len(ydata)) : print (\"dimensioni vettori disuguali\")"
   ]
  },
  {
   "cell_type": "code",
   "execution_count": null,
   "metadata": {},
   "outputs": [],
   "source": []
  },
  {
   "cell_type": "markdown",
   "metadata": {},
   "source": [
    "We want to find the parameters $a$ and $b$ of the parabola $y = c x^2 + b x + a$ which minimize:\n",
    "$ \\chi^2 = \\sum_i \\frac{(y_i - c x_i^2 - b x_i - a)^2}{\\sigma_i^2}$"
   ]
  },
  {
   "cell_type": "markdown",
   "metadata": {},
   "source": [
    "The minimum condition can be derived expanding $(yy - cc \\cdot xx^2 - bb \\cdot xx - aa)^2$, and equating the derivatives with respect to $aa$, $bb$, $cc$ to zero. "
   ]
  },
  {
   "cell_type": "raw",
   "metadata": {},
   "source": [
    "# Calcolo delle derivate di X^2"
   ]
  },
  {
   "cell_type": "code",
   "execution_count": 20,
   "metadata": {},
   "outputs": [
    {
     "data": {
      "text/latex": [
       "$\\displaystyle aa^{2} + 2 aa bb xx + 2 aa cc xx^{2} - 2 aa yy + bb^{2} xx^{2} + 2 bb cc xx^{3} - 2 bb xx yy + cc^{2} xx^{4} - 2 cc xx^{2} yy + yy^{2}$"
      ],
      "text/plain": [
       "aa**2 + 2*aa*bb*xx + 2*aa*cc*xx**2 - 2*aa*yy + bb**2*xx**2 + 2*bb*cc*xx**3 - 2*bb*xx*yy + cc**2*xx**4 - 2*cc*xx**2*yy + yy**2"
      ]
     },
     "execution_count": 20,
     "metadata": {},
     "output_type": "execute_result"
    }
   ],
   "source": [
    "s = expand((yy - cc*xx**2 - bb*xx - aa)**2)\n",
    "s"
   ]
  },
  {
   "cell_type": "code",
   "execution_count": 21,
   "metadata": {},
   "outputs": [
    {
     "data": {
      "text/latex": [
       "$\\displaystyle 2 aa + 2 bb xx + 2 cc xx^{2} - 2 yy$"
      ],
      "text/plain": [
       "2*aa + 2*bb*xx + 2*cc*xx**2 - 2*yy"
      ]
     },
     "execution_count": 21,
     "metadata": {},
     "output_type": "execute_result"
    }
   ],
   "source": [
    "s_aa = diff(s,aa)\n",
    "s_aa"
   ]
  },
  {
   "cell_type": "code",
   "execution_count": 22,
   "metadata": {},
   "outputs": [
    {
     "data": {
      "text/latex": [
       "$\\displaystyle 2 aa xx + 2 bb xx^{2} + 2 cc xx^{3} - 2 xx yy$"
      ],
      "text/plain": [
       "2*aa*xx + 2*bb*xx**2 + 2*cc*xx**3 - 2*xx*yy"
      ]
     },
     "execution_count": 22,
     "metadata": {},
     "output_type": "execute_result"
    }
   ],
   "source": [
    "s_bb = diff(s,bb)\n",
    "s_bb"
   ]
  },
  {
   "cell_type": "code",
   "execution_count": 23,
   "metadata": {},
   "outputs": [
    {
     "data": {
      "text/latex": [
       "$\\displaystyle 2 aa xx^{2} + 2 bb xx^{3} + 2 cc xx^{4} - 2 xx^{2} yy$"
      ],
      "text/plain": [
       "2*aa*xx**2 + 2*bb*xx**3 + 2*cc*xx**4 - 2*xx**2*yy"
      ]
     },
     "execution_count": 23,
     "metadata": {},
     "output_type": "execute_result"
    }
   ],
   "source": [
    "s_cc = diff(s,cc)\n",
    "s_cc"
   ]
  },
  {
   "cell_type": "markdown",
   "metadata": {},
   "source": [
    "$a$, $b$ and $c$ are the solutions of the linear system:\n",
    "$\\begin{bmatrix}\n",
    "\\sum_i \\frac{1}{\\sigma_i^2} & \\sum_i \\frac{x_i}{\\sigma_i^2} & \\sum_i \\frac{x_i^2}{\\sigma_i^2}\\\\\n",
    "\\sum_i \\frac{x_i}{\\sigma_i^2} & \\sum_i \\frac{x_i^2}{\\sigma_i^2} & \\sum_i \\frac{x_i^3}{\\sigma_i^2}\\\\\n",
    "\\sum_i \\frac{x_i^2}{\\sigma_i^2} & \\sum_i \\frac{x_i^3}{\\sigma_i^2} & \\sum_i \\frac{x_i^4}{\\sigma_i^2}\\\\\n",
    "\\end{bmatrix}$\n",
    "$\\begin{bmatrix} a\\\\b\\\\c \\end{bmatrix}$ = \n",
    "$\\begin{bmatrix} \n",
    "\\sum_i \\frac{y_i}{\\sigma_i^2} \\\\ \\sum_i \\frac{x_i y_i}{\\sigma_i^2}\\\\\\sum_i \\frac{x_i^2 y_i}{\\sigma_i^2}\n",
    "\\end{bmatrix}$"
   ]
  },
  {
   "cell_type": "markdown",
   "metadata": {},
   "source": [
    "In forma matriciale : DA = B quindi A = D^(-1)B"
   ]
  },
  {
   "cell_type": "code",
   "execution_count": 24,
   "metadata": {},
   "outputs": [],
   "source": [
    "yerrSq = yerr*yerr\n",
    "sum_one_over_yerrSq = (1./yerrSq).sum()\n",
    "sum_x_over_yerrSq = (xdata/yerrSq).sum()\n",
    "sum_x2_over_yerrSq = (xdata*xdata/yerrSq).sum()\n",
    "sum_x3_over_yerrSq = (xdata*xdata*xdata/yerrSq).sum()\n",
    "sum_x4_over_yerrSq = (xdata*xdata*xdata*xdata/yerrSq).sum()\n",
    "sum_y_over_yerrSq = (ydata/yerrSq).sum()\n",
    "sum_xy_over_yerrSq = (xdata*ydata/yerrSq).sum()\n",
    "sum_x2y_over_yerrSq = (xdata*xdata*ydata/yerrSq).sum()"
   ]
  },
  {
   "cell_type": "raw",
   "metadata": {},
   "source": [
    "Calcolo matrice D e matrice inversa"
   ]
  },
  {
   "cell_type": "code",
   "execution_count": 25,
   "metadata": {},
   "outputs": [
    {
     "data": {
      "text/plain": [
       "array([[ 8.83191194e-05, -1.81930255e-03,  6.60146448e-03],\n",
       "       [-1.81930255e-03,  4.20179909e-02, -1.59831886e-01],\n",
       "       [ 6.60146448e-03, -1.59831886e-01,  6.45178720e-01]])"
      ]
     },
     "execution_count": 25,
     "metadata": {},
     "output_type": "execute_result"
    }
   ],
   "source": [
    "matD = np.array([[sum_one_over_yerrSq,sum_x_over_yerrSq,sum_x2_over_yerrSq],\n",
    "                [sum_x_over_yerrSq,sum_x2_over_yerrSq,sum_x3_over_yerrSq],\n",
    "                [sum_x2_over_yerrSq,sum_x3_over_yerrSq,sum_x4_over_yerrSq]])\n",
    "matD_inv = np.linalg.inv(matD)\n",
    "matD\n",
    "matD_inv"
   ]
  },
  {
   "cell_type": "markdown",
   "metadata": {},
   "source": [
    "Check D^(-1)D = I"
   ]
  },
  {
   "cell_type": "code",
   "execution_count": 26,
   "metadata": {},
   "outputs": [
    {
     "data": {
      "text/plain": [
       "array([[ 1.00000000e+00,  0.00000000e+00,  0.00000000e+00],\n",
       "       [ 0.00000000e+00,  1.00000000e+00,  0.00000000e+00],\n",
       "       [-2.77555756e-17, -8.88178420e-16,  1.00000000e+00]])"
      ]
     },
     "execution_count": 26,
     "metadata": {},
     "output_type": "execute_result"
    }
   ],
   "source": [
    "np.dot(matD,matD_inv)"
   ]
  },
  {
   "cell_type": "raw",
   "metadata": {},
   "source": [
    "Calcolo matrice B"
   ]
  },
  {
   "cell_type": "code",
   "execution_count": 27,
   "metadata": {},
   "outputs": [
    {
     "data": {
      "text/plain": [
       "array([250374.76512418,  19055.74487552,   2159.37048701])"
      ]
     },
     "execution_count": 27,
     "metadata": {},
     "output_type": "execute_result"
    }
   ],
   "source": [
    "matB = np.array([sum_y_over_yerrSq,sum_xy_over_yerrSq,sum_x2y_over_yerrSq])\n",
    "matB"
   ]
  },
  {
   "cell_type": "code",
   "execution_count": 28,
   "metadata": {},
   "outputs": [
    {
     "data": {
      "text/plain": [
       "array([1.69972117, 0.04040856, 0.30436179])"
      ]
     },
     "execution_count": 28,
     "metadata": {},
     "output_type": "execute_result"
    }
   ],
   "source": [
    "np.dot(matD_inv,matB)"
   ]
  },
  {
   "cell_type": "raw",
   "metadata": {},
   "source": [
    "Calcolo parametri fit (Attenzione a cifre significative e unita' di misura!!)"
   ]
  },
  {
   "cell_type": "code",
   "execution_count": 29,
   "metadata": {},
   "outputs": [
    {
     "name": "stdout",
     "output_type": "stream",
     "text": [
      " a =  1.6997211650539938\n",
      " b =  0.04040856055121367\n",
      " c =  0.3043617910932426\n"
     ]
    }
   ],
   "source": [
    "a, b, c = np.dot(matD_inv,matB)[0],np.dot(matD_inv,matB)[1],np.dot(matD_inv,matB)[2]\n",
    "print (\" a = \", a)\n",
    "print (\" b = \", b)\n",
    "print (\" c = \", c)"
   ]
  },
  {
   "cell_type": "markdown",
   "metadata": {},
   "source": [
    "Calcolo varianze ed errori sui parametri (Attenzione a cifre significative e unita' di misura!!)"
   ]
  },
  {
   "cell_type": "code",
   "execution_count": 30,
   "metadata": {},
   "outputs": [
    {
     "name": "stdout",
     "output_type": "stream",
     "text": [
      " errore su a =  0.009397825249326395\n",
      " errore su b =  0.20498290385830065\n",
      " errore su c =  0.8032301786002468\n"
     ]
    }
   ],
   "source": [
    "vara, varb, varc= matD_inv[0,0], matD_inv[1,1], matD_inv[2,2]\n",
    "erra=np.sqrt(vara)\n",
    "errb=np.sqrt(varb)\n",
    "errc=np.sqrt(varc)\n",
    "print (\" errore su a = \",erra)\n",
    "print (\" errore su b = \",errb)\n",
    "print (\" errore su c = \",errc)"
   ]
  },
  {
   "cell_type": "markdown",
   "metadata": {},
   "source": [
    "Plot, adding extra points for the parabola."
   ]
  },
  {
   "cell_type": "code",
   "execution_count": 31,
   "metadata": {},
   "outputs": [
    {
     "data": {
      "text/plain": [
       "<ErrorbarContainer object of 3 artists>"
      ]
     },
     "execution_count": 31,
     "metadata": {},
     "output_type": "execute_result"
    },
    {
     "data": {
      "image/png": "[encoded data removed]",
      "text/plain": [
       "<Figure size 640x480 with 1 Axes>"
      ]
     },
     "metadata": {},
     "output_type": "display_data"
    }
   ],
   "source": [
    "fig, ax = plt.subplots()\n",
    "thickxdata = np.arange(0,0.3,0.01)\n",
    "ax.set_xlabel('variable x (u.m.)')\n",
    "ax.set_ylabel('variable y (u.m.)')\n",
    "#ax.set_xlim(0, 5); ay.set_xlim(0, 5) #PEr cambiare range plot\n",
    "plt.plot(thickxdata,c*thickxdata*thickxdata+b*thickxdata+a)\n",
    "plt.errorbar(xdata,ydata,yerr=yerr,fmt='o')"
   ]
  },
  {
   "cell_type": "raw",
   "metadata": {},
   "source": [
    "Calcolo X^2 e errore standard della stima"
   ]
  },
  {
   "cell_type": "code",
   "execution_count": 32,
   "metadata": {},
   "outputs": [
    {
     "name": "stdout",
     "output_type": "stream",
     "text": [
      " Chi^2 =  0.013137833496804585\n",
      " errore standard della stima =  0.0006671442037540582\n"
     ]
    }
   ],
   "source": [
    "scarto1 = (ydata-a-b*xdata-c*xdata*xdata)/yerr\n",
    "scarto2 = (ydata-a-b*xdata-c*xdata*xdata)\n",
    "chi2 = (scarto1*scarto1).sum()\n",
    "errstSq = (scarto2*scarto2/(npoint-3)).sum()\n",
    "errst = np.sqrt(errstSq)\n",
    "print (\" Chi^2 = \",chi2)\n",
    "print (\" errore standard della stima = \",errst)"
   ]
  },
  {
   "cell_type": "raw",
   "metadata": {},
   "source": [
    "Calcolo coefficiente di determinazione"
   ]
  },
  {
   "cell_type": "code",
   "execution_count": 33,
   "metadata": {},
   "outputs": [
    {
     "name": "stdout",
     "output_type": "stream",
     "text": [
      "coefficiente determinazione =  0.9895768172871696\n"
     ]
    }
   ],
   "source": [
    "sum_y = (ydata).sum()\n",
    "ymean=sum_y/npoint\n",
    "ameany = ydata-ymean\n",
    "vary = (ameany*ameany).sum()\n",
    "yatteso =a+b*xdata+c*xdata*xdata\n",
    "scarto3=yatteso-ymean\n",
    "var_numeratore=(scarto3*scarto3).sum()\n",
    "detercoeff2=var_numeratore/vary\n",
    "detercoeff=np.sqrt(detercoeff2)\n",
    "print (\"coefficiente determinazione = \",detercoeff)"
   ]
  },
  {
   "cell_type": "code",
   "execution_count": null,
   "metadata": {},
   "outputs": [],
   "source": []
  }
 ],
 "metadata": {
  "kernelspec": {
   "display_name": "Python 3 (ipykernel)",
   "language": "python",
   "name": "python3"
  },
  "language_info": {
   "codemirror_mode": {
    "name": "ipython",
    "version": 3
   },
   "file_extension": ".py",
   "mimetype": "text/x-python",
   "name": "python",
   "nbconvert_exporter": "python",
   "pygments_lexer": "ipython3",
   "version": "3.11.8"
  }
 },
 "nbformat": 4,
 "nbformat_minor": 4
}

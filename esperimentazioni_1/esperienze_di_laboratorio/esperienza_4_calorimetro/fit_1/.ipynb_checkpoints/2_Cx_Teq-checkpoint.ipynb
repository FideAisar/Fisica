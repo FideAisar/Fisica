{
 "cells": [
  {
   "cell_type": "markdown",
   "metadata": {},
   "source": [
    "### Given two list of x and y coordinates, and a list of errors on y, find the straight line that minimizes the sum of distances between the line and the (x,y) points."
   ]
  },
  {
   "cell_type": "code",
   "execution_count": 98,
   "metadata": {},
   "outputs": [],
   "source": [
    "import matplotlib.pyplot as plt\n",
    "import numpy as np\n",
    "import math"
   ]
  },
  {
   "cell_type": "code",
   "execution_count": null,
   "metadata": {},
   "outputs": [],
   "source": []
  },
  {
   "cell_type": "code",
   "execution_count": 111,
   "metadata": {
    "scrolled": true
   },
   "outputs": [
    {
     "data": {
      "text/plain": [
       "9"
      ]
     },
     "execution_count": 111,
     "metadata": {},
     "output_type": "execute_result"
    }
   ],
   "source": [
    "xdata = np.array([760 -540,\n",
    "820-540,\n",
    "880-540,\n",
    "940-540,\n",
    "1000-540,\n",
    "1060-540,\n",
    "1120-540,\n",
    "1180-540,\n",
    "1240-540])\n",
    "ydata = np.array([15.46,\n",
    "15.48,\n",
    "15.5,\n",
    "15.52,\n",
    "15.54,\n",
    "15.56,\n",
    "15.57,\n",
    "15.59,\n",
    "15.61])\n",
    "yerr = np.array([0.0030472470011000167,0.0030472470011000167,0.0030472470011000167,0.0030472470011000167,0.0030472470011000167,0.0030472470011000167,0.0030472470011000167,0.0030472470011000167,0.0030472470011000167,])\n",
    "if (len(xdata)!=len(ydata)): print (\"dimensioni vettori disuguali\")\n",
    "if (len(yerr)!=len(ydata)): print (\"dimensioni vettori disuguali\")\n",
    "npoint = len(xdata)\n",
    "npoint"
   ]
  },
  {
   "cell_type": "markdown",
   "metadata": {},
   "source": [
    "Determiniamo i parametri $a$ and $b$ della retta di best fit $y = b x + a$ che minimizza:\n",
    "$ \\chi^2 = \\sum_i \\frac{(y_i - b x_i - a)^2}{\\sigma_i^2}$\n",
    "    \n",
    "$a$ e $b$ sono soluzioni del sistema lineare:\n",
    "$\\begin{bmatrix}\n",
    "\\sum_i \\frac{1}{\\sigma_i^2} & \\sum_i \\frac{x_i}{\\sigma_i^2}\\\\\n",
    "\\sum_i \\frac{x_i}{\\sigma_i^2} & \\sum_i \\frac{x_i^2}{\\sigma_i^2}\n",
    "\\end{bmatrix}$\n",
    "$\\begin{bmatrix} a\\\\b \\end{bmatrix}$ = \n",
    "$\\begin{bmatrix} \\sum_i \\frac{y_i}{\\sigma_i^2} \\\\ \\sum_i \\frac{x_i y_i}{\\sigma_i^2}\\end{bmatrix}$\n",
    "\n",
    "In forma matriciale : DA = B quindi A = D^(-1)B"
   ]
  },
  {
   "cell_type": "code",
   "execution_count": 112,
   "metadata": {},
   "outputs": [],
   "source": [
    "yerrSq = yerr*yerr\n",
    "sum_one_over_yerrSq = (1./yerrSq).sum()\n",
    "sum_x_over_yerrSq = (xdata/yerrSq).sum()\n",
    "sum_xSq_over_yerrSq = (xdata*xdata/yerrSq).sum()\n",
    "sum_y_over_yerrSq = (ydata/yerrSq).sum()\n",
    "sum_xy_over_yerrSq = (xdata*ydata/yerrSq).sum()"
   ]
  },
  {
   "cell_type": "markdown",
   "metadata": {},
   "source": [
    "Calcolo Coefficiente correlazione lineare"
   ]
  },
  {
   "cell_type": "code",
   "execution_count": 113,
   "metadata": {},
   "outputs": [
    {
     "name": "stdout",
     "output_type": "stream",
     "text": [
      "coefficiente correlazione =  0.9984210836086022\n"
     ]
    }
   ],
   "source": [
    "sum_x = (xdata).sum()\n",
    "sum_y = (ydata).sum()\n",
    "xmean=sum_x/npoint\n",
    "ymean=sum_y/npoint\n",
    "ameanx=xdata-xmean\n",
    "varx = (ameanx*ameanx).sum()\n",
    "devstx = np.sqrt(varx)\n",
    "ameany = ydata-ymean\n",
    "vary = (ameany*ameany).sum()\n",
    "devsty = np.sqrt(vary)\n",
    "covxy = (ameanx*ameany).sum()\n",
    "corrcoeff=covxy/(devstx*devsty)\n",
    "print (\"coefficiente correlazione = \",corrcoeff)\n"
   ]
  },
  {
   "cell_type": "code",
   "execution_count": 114,
   "metadata": {},
   "outputs": [
    {
     "data": {
      "text/plain": [
       "array([[9.69230769e+05, 4.45846154e+08],\n",
       "       [4.45846154e+08, 2.28350769e+11]])"
      ]
     },
     "execution_count": 114,
     "metadata": {},
     "output_type": "execute_result"
    }
   ],
   "source": [
    "matD = np.array([[sum_one_over_yerrSq,sum_x_over_yerrSq],[sum_x_over_yerrSq,sum_xSq_over_yerrSq]])\n",
    "matD"
   ]
  },
  {
   "cell_type": "code",
   "execution_count": 115,
   "metadata": {},
   "outputs": [
    {
     "data": {
      "text/plain": [
       "array([[ 1.01283069e-05, -1.97751323e-08],\n",
       "       [-1.97751323e-08,  4.29894180e-11]])"
      ]
     },
     "execution_count": 115,
     "metadata": {},
     "output_type": "execute_result"
    }
   ],
   "source": [
    "matD_inv = np.linalg.inv(matD)\n",
    "matD_inv"
   ]
  },
  {
   "cell_type": "markdown",
   "metadata": {},
   "source": [
    "Check D^(-1)D = I"
   ]
  },
  {
   "cell_type": "code",
   "execution_count": 116,
   "metadata": {
    "scrolled": true
   },
   "outputs": [
    {
     "data": {
      "text/plain": [
       "array([[1., 0.],\n",
       "       [0., 1.]])"
      ]
     },
     "execution_count": 116,
     "metadata": {},
     "output_type": "execute_result"
    }
   ],
   "source": [
    "np.dot(matD,matD_inv)"
   ]
  },
  {
   "cell_type": "code",
   "execution_count": 117,
   "metadata": {},
   "outputs": [
    {
     "data": {
      "text/plain": [
       "array([1.50586154e+07, 6.93413538e+09])"
      ]
     },
     "execution_count": 117,
     "metadata": {},
     "output_type": "execute_result"
    }
   ],
   "source": [
    "matB = np.array([sum_y_over_yerrSq,sum_xy_over_yerrSq])\n",
    "matB"
   ]
  },
  {
   "cell_type": "code",
   "execution_count": 118,
   "metadata": {
    "scrolled": true
   },
   "outputs": [
    {
     "data": {
      "text/plain": [
       "array([1.53948333e+01, 3.08333333e-04])"
      ]
     },
     "execution_count": 118,
     "metadata": {},
     "output_type": "execute_result"
    }
   ],
   "source": [
    "np.dot(matD_inv,matB)"
   ]
  },
  {
   "cell_type": "markdown",
   "metadata": {},
   "source": [
    "Calcolo parametri fit"
   ]
  },
  {
   "cell_type": "code",
   "execution_count": 119,
   "metadata": {
    "scrolled": true
   },
   "outputs": [
    {
     "name": "stdout",
     "output_type": "stream",
     "text": [
      " intercetta a (u.m.)=  15.394833333333366\n",
      " coeff.angolare b (u.m.)=  0.0003083333333332994\n"
     ]
    }
   ],
   "source": [
    "a, b = np.dot(matD_inv,matB)[0],np.dot(matD_inv,matB)[1]\n",
    "print (\" intercetta a (u.m.)= \", a)\n",
    "print (\" coeff.angolare b (u.m.)= \", b)"
   ]
  },
  {
   "cell_type": "markdown",
   "metadata": {},
   "source": [
    "Calcolo errori sui parametri"
   ]
  },
  {
   "cell_type": "code",
   "execution_count": 120,
   "metadata": {},
   "outputs": [
    {
     "name": "stdout",
     "output_type": "stream",
     "text": [
      " errore su intercetta siga (u.m.)=  0.003182500098712571\n",
      " errore su coeff.angolare sigb (u.m.)=  6.556631603911588e-06\n"
     ]
    }
   ],
   "source": [
    "siga, sigb = np.sqrt(matD_inv[0,0]), np.sqrt(matD_inv[1,1])\n",
    "print (\" errore su intercetta siga (u.m.)= \",siga)\n",
    "print (\" errore su coeff.angolare sigb (u.m.)= \",sigb)"
   ]
  },
  {
   "cell_type": "markdown",
   "metadata": {},
   "source": [
    "Plot"
   ]
  },
  {
   "cell_type": "code",
   "execution_count": 121,
   "metadata": {},
   "outputs": [
    {
     "data": {
      "text/plain": [
       "<ErrorbarContainer object of 3 artists>"
      ]
     },
     "execution_count": 121,
     "metadata": {},
     "output_type": "execute_result"
    },
    {
     "data": {
      "image/png": "[encoded data removed]",
      "text/plain": [
       "<Figure size 640x480 with 1 Axes>"
      ]
     },
     "metadata": {},
     "output_type": "display_data"
    }
   ],
   "source": [
    "fig, ax = plt.subplots()\n",
    "ax.set_ylim(15,16)\n",
    "ax.set_xlim(-200, 700)\n",
    "ax.set_xlabel('variable x - u.m.')\n",
    "ax.set_ylabel('variable y - u.m.')\n",
    "plt.plot(xdata,b*xdata+a,xdata,ydata,'bo')\n",
    "plt.errorbar(xdata,ydata,yerr=yerr,ecolor='black', ls=\" \")"
   ]
  },
  {
   "cell_type": "markdown",
   "metadata": {},
   "source": [
    "Calcolo X^2 e errore standard della stima"
   ]
  },
  {
   "cell_type": "code",
   "execution_count": 122,
   "metadata": {},
   "outputs": [
    {
     "name": "stdout",
     "output_type": "stream",
     "text": [
      " Chi^2 =  6.999999999999999\n",
      " errore standard della stima (u.m.) =  0.0030472470011000167\n"
     ]
    }
   ],
   "source": [
    "scarto1 = (ydata-a-b*xdata)/yerr\n",
    "scarto2 = (ydata-a-b*xdata)\n",
    "chi2 = (scarto1*scarto1).sum()\n",
    "errstSq = (scarto2*scarto2/(npoint-2)).sum()\n",
    "errst = np.sqrt(errstSq)\n",
    "print (\" Chi^2 = \",chi2)\n",
    "print (\" errore standard della stima (u.m.) = \",errst)"
   ]
  },
  {
   "cell_type": "code",
   "execution_count": null,
   "metadata": {},
   "outputs": [],
   "source": []
  },
  {
   "cell_type": "code",
   "execution_count": 96,
   "metadata": {},
   "outputs": [],
   "source": [
    "#Intercetta con retta vert     x = 843      e retta    y = 15.281636363636395 + 0.00031x"
   ]
  },
  {
   "cell_type": "code",
   "execution_count": 97,
   "metadata": {},
   "outputs": [
    {
     "data": {
      "text/plain": [
       "15.722591666666666"
      ]
     },
     "execution_count": 97,
     "metadata": {},
     "output_type": "execute_result"
    }
   ],
   "source": [
    "intercettay = a + b*843 \n",
    "intercettay"
   ]
  },
  {
   "cell_type": "code",
   "execution_count": null,
   "metadata": {},
   "outputs": [],
   "source": []
  },
  {
   "cell_type": "code",
   "execution_count": null,
   "metadata": {},
   "outputs": [],
   "source": []
  }
 ],
 "metadata": {
  "celltoolbar": "Raw Cell Format",
  "kernelspec": {
   "display_name": "Python 3 (ipykernel)",
   "language": "python",
   "name": "python3"
  },
  "language_info": {
   "codemirror_mode": {
    "name": "ipython",
    "version": 3
   },
   "file_extension": ".py",
   "mimetype": "text/x-python",
   "name": "python",
   "nbconvert_exporter": "python",
   "pygments_lexer": "ipython3",
   "version": "3.12.4"
  }
 },
 "nbformat": 4,
 "nbformat_minor": 4
}

{
 "cells": [
  {
   "cell_type": "markdown",
   "metadata": {},
   "source": [
    "### Given two list of x and y coordinates, and a list of errors on y, find the straight line that minimizes the sum of distances between the line and the (x,y) points."
   ]
  },
  {
   "cell_type": "code",
   "execution_count": 4,
   "metadata": {},
   "outputs": [],
   "source": [
    "import matplotlib.pyplot as plt\n",
    "import numpy as np"
   ]
  },
  {
   "cell_type": "code",
   "execution_count": 7,
   "metadata": {
    "scrolled": true
   },
   "outputs": [
    {
     "data": {
      "text/plain": [
       "12"
      ]
     },
     "execution_count": 7,
     "metadata": {},
     "output_type": "execute_result"
    }
   ],
   "source": [
    "xdata = np.array([1186.00 - 1001,\n",
    "1246.00- 1001,\n",
    "1306.00- 1001,\n",
    "1366.00- 1001,\n",
    "1426.00- 1001,\n",
    "1486.00- 1001,\n",
    "1546.00- 1001,\n",
    "1606.00- 1001,\n",
    "1666.00- 1001,\n",
    "1726.00- 1001,\n",
    "1786.00- 1001,\n",
    "1846.00- 1001])\n",
    "ydata = np.array([20.42,\n",
    "20.41,\n",
    "20.41,\n",
    "20.40,\n",
    "20.40,\n",
    "20.40,\n",
    "20.39,\n",
    "20.39,\n",
    "20.38,\n",
    "20.38,\n",
    "20.38,\n",
    "20.37])\n",
    "yerr = np.array([0.003138229572304387,0.003138229572304387,0.003138229572304387,0.003138229572304387,0.003138229572304387,0.003138229572304387,0.003138229572304387,0.003138229572304387,0.003138229572304387,0.003138229572304387,0.003138229572304387,0.003138229572304387,\n",
    "])\n",
    "if (len(xdata)!=len(ydata)): print (\"dimensioni vettori disuguali\")\n",
    "if (len(yerr)!=len(ydata)): print (\"dimensioni vettori disuguali\")\n",
    "npoint = len(xdata)\n",
    "npoint"
   ]
  },
  {
   "cell_type": "markdown",
   "metadata": {},
   "source": [
    "Determiniamo i parametri $a$ and $b$ della retta di best fit $y = b x + a$ che minimizza:\n",
    "$ \\chi^2 = \\sum_i \\frac{(y_i - b x_i - a)^2}{\\sigma_i^2}$\n",
    "    \n",
    "$a$ e $b$ sono soluzioni del sistema lineare:\n",
    "$\\begin{bmatrix}\n",
    "\\sum_i \\frac{1}{\\sigma_i^2} & \\sum_i \\frac{x_i}{\\sigma_i^2}\\\\\n",
    "\\sum_i \\frac{x_i}{\\sigma_i^2} & \\sum_i \\frac{x_i^2}{\\sigma_i^2}\n",
    "\\end{bmatrix}$\n",
    "$\\begin{bmatrix} a\\\\b \\end{bmatrix}$ = \n",
    "$\\begin{bmatrix} \\sum_i \\frac{y_i}{\\sigma_i^2} \\\\ \\sum_i \\frac{x_i y_i}{\\sigma_i^2}\\end{bmatrix}$\n",
    "\n",
    "In forma matriciale : DA = B quindi A = D^(-1)B"
   ]
  },
  {
   "cell_type": "code",
   "execution_count": 8,
   "metadata": {},
   "outputs": [],
   "source": [
    "yerrSq = yerr*yerr\n",
    "sum_one_over_yerrSq = (1./yerrSq).sum()\n",
    "sum_x_over_yerrSq = (xdata/yerrSq).sum()\n",
    "sum_xSq_over_yerrSq = (xdata*xdata/yerrSq).sum()\n",
    "sum_y_over_yerrSq = (ydata/yerrSq).sum()\n",
    "sum_xy_over_yerrSq = (xdata*ydata/yerrSq).sum()"
   ]
  },
  {
   "cell_type": "markdown",
   "metadata": {},
   "source": [
    "Calcolo Coefficiente correlazione lineare"
   ]
  },
  {
   "cell_type": "code",
   "execution_count": 9,
   "metadata": {},
   "outputs": [
    {
     "name": "stdout",
     "output_type": "stream",
     "text": [
      "coefficiente correlazione =  -0.980037911664846\n"
     ]
    }
   ],
   "source": [
    "sum_x = (xdata).sum()\n",
    "sum_y = (ydata).sum()\n",
    "xmean=sum_x/npoint\n",
    "ymean=sum_y/npoint\n",
    "ameanx=xdata-xmean\n",
    "varx = (ameanx*ameanx).sum()\n",
    "devstx = np.sqrt(varx)\n",
    "ameany = ydata-ymean\n",
    "vary = (ameany*ameany).sum()\n",
    "devsty = np.sqrt(vary)\n",
    "covxy = (ameanx*ameany).sum()\n",
    "corrcoeff=covxy/(devstx*devsty)\n",
    "print (\"coefficiente correlazione = \",corrcoeff)"
   ]
  },
  {
   "cell_type": "code",
   "execution_count": 10,
   "metadata": {},
   "outputs": [
    {
     "data": {
      "text/plain": [
       "array([[1.21846154e+06, 6.27507692e+08],\n",
       "       [6.27507692e+08, 3.75438462e+11]])"
      ]
     },
     "execution_count": 10,
     "metadata": {},
     "output_type": "execute_result"
    }
   ],
   "source": [
    "matD = np.array([[sum_one_over_yerrSq,sum_x_over_yerrSq],[sum_x_over_yerrSq,sum_xSq_over_yerrSq]])\n",
    "matD"
   ]
  },
  {
   "cell_type": "code",
   "execution_count": 11,
   "metadata": {},
   "outputs": [
    {
     "data": {
      "text/plain": [
       "array([[ 5.89464723e-06, -9.85231099e-09],\n",
       "       [-9.85231099e-09,  1.91307009e-11]])"
      ]
     },
     "execution_count": 11,
     "metadata": {},
     "output_type": "execute_result"
    }
   ],
   "source": [
    "matD_inv = np.linalg.inv(matD)\n",
    "matD_inv"
   ]
  },
  {
   "cell_type": "markdown",
   "metadata": {},
   "source": [
    "Check D^(-1)D = I"
   ]
  },
  {
   "cell_type": "code",
   "execution_count": 12,
   "metadata": {
    "scrolled": true
   },
   "outputs": [
    {
     "data": {
      "text/plain": [
       "array([[1., 0.],\n",
       "       [0., 1.]])"
      ]
     },
     "execution_count": 12,
     "metadata": {},
     "output_type": "execute_result"
    }
   ],
   "source": [
    "np.dot(matD,matD_inv)"
   ]
  },
  {
   "cell_type": "code",
   "execution_count": 13,
   "metadata": {},
   "outputs": [
    {
     "data": {
      "text/plain": [
       "array([2.48495077e+07, 1.27939325e+10])"
      ]
     },
     "execution_count": 13,
     "metadata": {},
     "output_type": "execute_result"
    }
   ],
   "source": [
    "matB = np.array([sum_y_over_yerrSq,sum_xy_over_yerrSq])\n",
    "matB"
   ]
  },
  {
   "cell_type": "code",
   "execution_count": 14,
   "metadata": {
    "scrolled": true
   },
   "outputs": [
    {
     "data": {
      "text/plain": [
       "array([ 2.04292803e+01, -6.81818182e-05])"
      ]
     },
     "execution_count": 14,
     "metadata": {},
     "output_type": "execute_result"
    }
   ],
   "source": [
    "np.dot(matD_inv,matB)"
   ]
  },
  {
   "cell_type": "markdown",
   "metadata": {},
   "source": [
    "Calcolo parametri fit"
   ]
  },
  {
   "cell_type": "code",
   "execution_count": 15,
   "metadata": {
    "scrolled": true
   },
   "outputs": [
    {
     "name": "stdout",
     "output_type": "stream",
     "text": [
      " intercetta a (u.m.)=  20.429280303030268\n",
      " coeff.angolare b (u.m.)=  -6.818181818174507e-05\n"
     ]
    }
   ],
   "source": [
    "a, b = np.dot(matD_inv,matB)[0],np.dot(matD_inv,matB)[1]\n",
    "print (\" intercetta a (u.m.)= \", a)\n",
    "print (\" coeff.angolare b (u.m.)= \", b)"
   ]
  },
  {
   "cell_type": "markdown",
   "metadata": {},
   "source": [
    "Calcolo errori sui parametri"
   ]
  },
  {
   "cell_type": "code",
   "execution_count": 16,
   "metadata": {},
   "outputs": [
    {
     "name": "stdout",
     "output_type": "stream",
     "text": [
      " errore su intercetta siga (u.m.)=  0.0024278894599785742\n",
      " errore su coeff.angolare sigb (u.m.)=  4.373865675679187e-06\n"
     ]
    }
   ],
   "source": [
    "siga, sigb = np.sqrt(matD_inv[0,0]), np.sqrt(matD_inv[1,1])\n",
    "print (\" errore su intercetta siga (u.m.)= \",siga)\n",
    "print (\" errore su coeff.angolare sigb (u.m.)= \",sigb)"
   ]
  },
  {
   "cell_type": "markdown",
   "metadata": {},
   "source": [
    "Plot"
   ]
  },
  {
   "cell_type": "code",
   "execution_count": 17,
   "metadata": {},
   "outputs": [
    {
     "data": {
      "text/plain": [
       "<ErrorbarContainer object of 3 artists>"
      ]
     },
     "execution_count": 17,
     "metadata": {},
     "output_type": "execute_result"
    },
    {
     "data": {
      "image/png": "[encoded data removed]",
      "text/plain": [
       "<Figure size 640x480 with 1 Axes>"
      ]
     },
     "metadata": {},
     "output_type": "display_data"
    }
   ],
   "source": [
    "fig, ax = plt.subplots()\n",
    "ax.set_ylim(20.42,20.37)\n",
    "ax.set_xlim(1186.00 - 1001, 1846.00- 1001)\n",
    "ax.set_xlabel('variable x - u.m.')\n",
    "ax.set_ylabel('variable y - u.m.')\n",
    "plt.plot(xdata,b*xdata+a,xdata,ydata,'bo')\n",
    "plt.errorbar(xdata,ydata,yerr=yerr,ecolor='black', ls=\" \")"
   ]
  },
  {
   "cell_type": "markdown",
   "metadata": {},
   "source": [
    "Calcolo X^2 e errore standard della stima"
   ]
  },
  {
   "cell_type": "code",
   "execution_count": 18,
   "metadata": {},
   "outputs": [
    {
     "name": "stdout",
     "output_type": "stream",
     "text": [
      " Chi^2 =  10.0\n",
      " errore standard della stima (u.m.) =  0.003138229572304387\n"
     ]
    }
   ],
   "source": [
    "scarto1 = (ydata-a-b*xdata)/yerr\n",
    "scarto2 = (ydata-a-b*xdata)\n",
    "chi2 = (scarto1*scarto1).sum()\n",
    "errstSq = (scarto2*scarto2/(npoint-2)).sum()\n",
    "errst = np.sqrt(errstSq)\n",
    "print (\" Chi^2 = \",chi2)\n",
    "print (\" errore standard della stima (u.m.) = \",errst)"
   ]
  },
  {
   "cell_type": "code",
   "execution_count": null,
   "metadata": {},
   "outputs": [],
   "source": []
  },
  {
   "cell_type": "code",
   "execution_count": null,
   "metadata": {},
   "outputs": [],
   "source": []
  }
 ],
 "metadata": {
  "celltoolbar": "Raw Cell Format",
  "kernelspec": {
   "display_name": "Python 3 (ipykernel)",
   "language": "python",
   "name": "python3"
  },
  "language_info": {
   "codemirror_mode": {
    "name": "ipython",
    "version": 3
   },
   "file_extension": ".py",
   "mimetype": "text/x-python",
   "name": "python",
   "nbconvert_exporter": "python",
   "pygments_lexer": "ipython3",
   "version": "3.12.4"
  }
 },
 "nbformat": 4,
 "nbformat_minor": 4
}
